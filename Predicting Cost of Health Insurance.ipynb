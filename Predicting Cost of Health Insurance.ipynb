{
 "cells": [
  {
   "cell_type": "markdown",
   "id": "2e4b3c41",
   "metadata": {
    "papermill": {
     "duration": 0.042281,
     "end_time": "2022-07-06T08:26:40.003861",
     "exception": false,
     "start_time": "2022-07-06T08:26:39.961580",
     "status": "completed"
    },
    "tags": []
   },
   "source": [
    "# Predicting Cost of Health Insurance"
   ]
  },
  {
   "cell_type": "markdown",
   "id": "7311c0a0",
   "metadata": {},
   "source": [
    "# Introduction\n",
    "\n",
    "Health insurance is insurance that covers the whole or a part of the risk of a person incurring medical expenses,\n",
    "spreading the risk over a large number of persons.By estimating the overall risk of health care and health system expenses over the risk pool, an insurer can develop a routine finance structure, such as a monthly premium or payroll tax, \n",
    "to provide the money to pay for the health care benefits specified in the insurance agreement.\n",
    "\n",
    "According to the Health Insurance Association of America, health insurance is defined as \"coverage that provides for the payments of benefits as a result of sickness or injury. It includes insurance for losses from accident, medical expense, disability, or accidental death and dismemberment\"\n",
    "\n",
    "\n",
    "Goal of this data processing is to **predict accurately the insurance costs**."
   ]
  },
  {
   "cell_type": "markdown",
   "id": "dbf36e8b",
   "metadata": {},
   "source": [
    "\n",
    "# Dataset\n",
    "\n",
    "This dataset has 6 variable:\n",
    "\n",
    "1. Age: age of primary beneficiary.\n",
    "\n",
    "2. Sex: insurance contractor gender, female, male.\n",
    "\n",
    "3. BMI: Body mass index, providing an understanding of body,\n",
    "    weights that are relatively high or low relative to height, \n",
    "    objective index of body weight (kg/m^2) using the ratio of height to weight, ideally 18.5 to 24.9.\n",
    "\n",
    "4. Children: Number of children covered by health insurance/Number of dependents.\n",
    "\n",
    "5. Smoker: Is the person a smoker or not.\n",
    "\n",
    "6. Region: the beneficiary's residential area in the US, northeast, southeast, southwest, northwest.\n",
    "\n",
    "7. Charges: It is the target variable. Individual medical costs billed by health insurance.\n",
    "\n",
    "The dataset is available here: https://github.com/stedy/Machine-Learning-with-R-datasets/blob/master/insurance.csv\n"
   ]
  },
  {
   "cell_type": "code",
   "execution_count": 59,
   "id": "65de33d0",
   "metadata": {
    "execution": {
     "iopub.execute_input": "2022-07-06T08:26:40.179849Z",
     "iopub.status.busy": "2022-07-06T08:26:40.179253Z",
     "iopub.status.idle": "2022-07-06T08:26:41.370133Z",
     "shell.execute_reply": "2022-07-06T08:26:41.368720Z"
    },
    "papermill": {
     "duration": 1.238394,
     "end_time": "2022-07-06T08:26:41.373287",
     "exception": false,
     "start_time": "2022-07-06T08:26:40.134893",
     "status": "completed"
    },
    "tags": []
   },
   "outputs": [],
   "source": [
    "import numpy as np\n",
    "import pandas as pd\n",
    "import matplotlib.pyplot as plt\n",
    "import seaborn as sns\n",
    "%matplotlib inline\n",
    "import warnings\n",
    "warnings.filterwarnings(\"ignore\")"
   ]
  },
  {
   "cell_type": "markdown",
   "id": "3b9acd82",
   "metadata": {},
   "source": [
    "## reading the dataset"
   ]
  },
  {
   "cell_type": "code",
   "execution_count": 60,
   "id": "2cdebbde",
   "metadata": {
    "execution": {
     "iopub.execute_input": "2022-07-06T08:26:41.466822Z",
     "iopub.status.busy": "2022-07-06T08:26:41.465692Z",
     "iopub.status.idle": "2022-07-06T08:26:41.494374Z",
     "shell.execute_reply": "2022-07-06T08:26:41.493341Z"
    },
    "papermill": {
     "duration": 0.078501,
     "end_time": "2022-07-06T08:26:41.497006",
     "exception": false,
     "start_time": "2022-07-06T08:26:41.418505",
     "status": "completed"
    },
    "tags": []
   },
   "outputs": [],
   "source": [
    "df=pd.read_csv(\"C:/Users/DELL/OneDrive/Desktop/insurance.csv\")"
   ]
  },
  {
   "cell_type": "code",
   "execution_count": 61,
   "id": "b91f81dc",
   "metadata": {
    "execution": {
     "iopub.execute_input": "2022-07-06T08:26:41.588141Z",
     "iopub.status.busy": "2022-07-06T08:26:41.587742Z",
     "iopub.status.idle": "2022-07-06T08:26:41.620203Z",
     "shell.execute_reply": "2022-07-06T08:26:41.618751Z"
    },
    "papermill": {
     "duration": 0.080756,
     "end_time": "2022-07-06T08:26:41.622891",
     "exception": false,
     "start_time": "2022-07-06T08:26:41.542135",
     "status": "completed"
    },
    "tags": []
   },
   "outputs": [
    {
     "data": {
      "text/html": [
       "<div>\n",
       "<style scoped>\n",
       "    .dataframe tbody tr th:only-of-type {\n",
       "        vertical-align: middle;\n",
       "    }\n",
       "\n",
       "    .dataframe tbody tr th {\n",
       "        vertical-align: top;\n",
       "    }\n",
       "\n",
       "    .dataframe thead th {\n",
       "        text-align: right;\n",
       "    }\n",
       "</style>\n",
       "<table border=\"1\" class=\"dataframe\">\n",
       "  <thead>\n",
       "    <tr style=\"text-align: right;\">\n",
       "      <th></th>\n",
       "      <th>age</th>\n",
       "      <th>sex</th>\n",
       "      <th>bmi</th>\n",
       "      <th>children</th>\n",
       "      <th>smoker</th>\n",
       "      <th>region</th>\n",
       "      <th>charges</th>\n",
       "    </tr>\n",
       "  </thead>\n",
       "  <tbody>\n",
       "    <tr>\n",
       "      <th>0</th>\n",
       "      <td>19</td>\n",
       "      <td>female</td>\n",
       "      <td>27.900</td>\n",
       "      <td>0</td>\n",
       "      <td>yes</td>\n",
       "      <td>southwest</td>\n",
       "      <td>16884.92400</td>\n",
       "    </tr>\n",
       "    <tr>\n",
       "      <th>1</th>\n",
       "      <td>18</td>\n",
       "      <td>male</td>\n",
       "      <td>33.770</td>\n",
       "      <td>1</td>\n",
       "      <td>no</td>\n",
       "      <td>southeast</td>\n",
       "      <td>1725.55230</td>\n",
       "    </tr>\n",
       "    <tr>\n",
       "      <th>2</th>\n",
       "      <td>28</td>\n",
       "      <td>male</td>\n",
       "      <td>33.000</td>\n",
       "      <td>3</td>\n",
       "      <td>no</td>\n",
       "      <td>southeast</td>\n",
       "      <td>4449.46200</td>\n",
       "    </tr>\n",
       "    <tr>\n",
       "      <th>3</th>\n",
       "      <td>33</td>\n",
       "      <td>male</td>\n",
       "      <td>22.705</td>\n",
       "      <td>0</td>\n",
       "      <td>no</td>\n",
       "      <td>northwest</td>\n",
       "      <td>21984.47061</td>\n",
       "    </tr>\n",
       "    <tr>\n",
       "      <th>4</th>\n",
       "      <td>32</td>\n",
       "      <td>male</td>\n",
       "      <td>28.880</td>\n",
       "      <td>0</td>\n",
       "      <td>no</td>\n",
       "      <td>northwest</td>\n",
       "      <td>3866.85520</td>\n",
       "    </tr>\n",
       "    <tr>\n",
       "      <th>...</th>\n",
       "      <td>...</td>\n",
       "      <td>...</td>\n",
       "      <td>...</td>\n",
       "      <td>...</td>\n",
       "      <td>...</td>\n",
       "      <td>...</td>\n",
       "      <td>...</td>\n",
       "    </tr>\n",
       "    <tr>\n",
       "      <th>1333</th>\n",
       "      <td>50</td>\n",
       "      <td>male</td>\n",
       "      <td>30.970</td>\n",
       "      <td>3</td>\n",
       "      <td>no</td>\n",
       "      <td>northwest</td>\n",
       "      <td>10600.54830</td>\n",
       "    </tr>\n",
       "    <tr>\n",
       "      <th>1334</th>\n",
       "      <td>18</td>\n",
       "      <td>female</td>\n",
       "      <td>31.920</td>\n",
       "      <td>0</td>\n",
       "      <td>no</td>\n",
       "      <td>northeast</td>\n",
       "      <td>2205.98080</td>\n",
       "    </tr>\n",
       "    <tr>\n",
       "      <th>1335</th>\n",
       "      <td>18</td>\n",
       "      <td>female</td>\n",
       "      <td>36.850</td>\n",
       "      <td>0</td>\n",
       "      <td>no</td>\n",
       "      <td>southeast</td>\n",
       "      <td>1629.83350</td>\n",
       "    </tr>\n",
       "    <tr>\n",
       "      <th>1336</th>\n",
       "      <td>21</td>\n",
       "      <td>female</td>\n",
       "      <td>25.800</td>\n",
       "      <td>0</td>\n",
       "      <td>no</td>\n",
       "      <td>southwest</td>\n",
       "      <td>2007.94500</td>\n",
       "    </tr>\n",
       "    <tr>\n",
       "      <th>1337</th>\n",
       "      <td>61</td>\n",
       "      <td>female</td>\n",
       "      <td>29.070</td>\n",
       "      <td>0</td>\n",
       "      <td>yes</td>\n",
       "      <td>northwest</td>\n",
       "      <td>29141.36030</td>\n",
       "    </tr>\n",
       "  </tbody>\n",
       "</table>\n",
       "<p>1338 rows × 7 columns</p>\n",
       "</div>"
      ],
      "text/plain": [
       "      age     sex     bmi  children smoker     region      charges\n",
       "0      19  female  27.900         0    yes  southwest  16884.92400\n",
       "1      18    male  33.770         1     no  southeast   1725.55230\n",
       "2      28    male  33.000         3     no  southeast   4449.46200\n",
       "3      33    male  22.705         0     no  northwest  21984.47061\n",
       "4      32    male  28.880         0     no  northwest   3866.85520\n",
       "...   ...     ...     ...       ...    ...        ...          ...\n",
       "1333   50    male  30.970         3     no  northwest  10600.54830\n",
       "1334   18  female  31.920         0     no  northeast   2205.98080\n",
       "1335   18  female  36.850         0     no  southeast   1629.83350\n",
       "1336   21  female  25.800         0     no  southwest   2007.94500\n",
       "1337   61  female  29.070         0    yes  northwest  29141.36030\n",
       "\n",
       "[1338 rows x 7 columns]"
      ]
     },
     "execution_count": 61,
     "metadata": {},
     "output_type": "execute_result"
    }
   ],
   "source": [
    "df"
   ]
  },
  {
   "cell_type": "code",
   "execution_count": 62,
   "id": "4d1baae1",
   "metadata": {
    "execution": {
     "iopub.execute_input": "2022-07-06T08:26:41.714925Z",
     "iopub.status.busy": "2022-07-06T08:26:41.713959Z",
     "iopub.status.idle": "2022-07-06T08:26:41.728421Z",
     "shell.execute_reply": "2022-07-06T08:26:41.727252Z"
    },
    "papermill": {
     "duration": 0.061966,
     "end_time": "2022-07-06T08:26:41.730737",
     "exception": false,
     "start_time": "2022-07-06T08:26:41.668771",
     "status": "completed"
    },
    "tags": []
   },
   "outputs": [
    {
     "data": {
      "text/html": [
       "<div>\n",
       "<style scoped>\n",
       "    .dataframe tbody tr th:only-of-type {\n",
       "        vertical-align: middle;\n",
       "    }\n",
       "\n",
       "    .dataframe tbody tr th {\n",
       "        vertical-align: top;\n",
       "    }\n",
       "\n",
       "    .dataframe thead th {\n",
       "        text-align: right;\n",
       "    }\n",
       "</style>\n",
       "<table border=\"1\" class=\"dataframe\">\n",
       "  <thead>\n",
       "    <tr style=\"text-align: right;\">\n",
       "      <th></th>\n",
       "      <th>age</th>\n",
       "      <th>sex</th>\n",
       "      <th>bmi</th>\n",
       "      <th>children</th>\n",
       "      <th>smoker</th>\n",
       "      <th>region</th>\n",
       "      <th>charges</th>\n",
       "    </tr>\n",
       "  </thead>\n",
       "  <tbody>\n",
       "    <tr>\n",
       "      <th>0</th>\n",
       "      <td>19</td>\n",
       "      <td>female</td>\n",
       "      <td>27.900</td>\n",
       "      <td>0</td>\n",
       "      <td>yes</td>\n",
       "      <td>southwest</td>\n",
       "      <td>16884.92400</td>\n",
       "    </tr>\n",
       "    <tr>\n",
       "      <th>1</th>\n",
       "      <td>18</td>\n",
       "      <td>male</td>\n",
       "      <td>33.770</td>\n",
       "      <td>1</td>\n",
       "      <td>no</td>\n",
       "      <td>southeast</td>\n",
       "      <td>1725.55230</td>\n",
       "    </tr>\n",
       "    <tr>\n",
       "      <th>2</th>\n",
       "      <td>28</td>\n",
       "      <td>male</td>\n",
       "      <td>33.000</td>\n",
       "      <td>3</td>\n",
       "      <td>no</td>\n",
       "      <td>southeast</td>\n",
       "      <td>4449.46200</td>\n",
       "    </tr>\n",
       "    <tr>\n",
       "      <th>3</th>\n",
       "      <td>33</td>\n",
       "      <td>male</td>\n",
       "      <td>22.705</td>\n",
       "      <td>0</td>\n",
       "      <td>no</td>\n",
       "      <td>northwest</td>\n",
       "      <td>21984.47061</td>\n",
       "    </tr>\n",
       "    <tr>\n",
       "      <th>4</th>\n",
       "      <td>32</td>\n",
       "      <td>male</td>\n",
       "      <td>28.880</td>\n",
       "      <td>0</td>\n",
       "      <td>no</td>\n",
       "      <td>northwest</td>\n",
       "      <td>3866.85520</td>\n",
       "    </tr>\n",
       "  </tbody>\n",
       "</table>\n",
       "</div>"
      ],
      "text/plain": [
       "   age     sex     bmi  children smoker     region      charges\n",
       "0   19  female  27.900         0    yes  southwest  16884.92400\n",
       "1   18    male  33.770         1     no  southeast   1725.55230\n",
       "2   28    male  33.000         3     no  southeast   4449.46200\n",
       "3   33    male  22.705         0     no  northwest  21984.47061\n",
       "4   32    male  28.880         0     no  northwest   3866.85520"
      ]
     },
     "execution_count": 62,
     "metadata": {},
     "output_type": "execute_result"
    }
   ],
   "source": [
    "df.head()"
   ]
  },
  {
   "cell_type": "code",
   "execution_count": 63,
   "id": "0d6d4776",
   "metadata": {
    "execution": {
     "iopub.execute_input": "2022-07-06T08:26:41.823181Z",
     "iopub.status.busy": "2022-07-06T08:26:41.822323Z",
     "iopub.status.idle": "2022-07-06T08:26:41.836989Z",
     "shell.execute_reply": "2022-07-06T08:26:41.835819Z"
    },
    "papermill": {
     "duration": 0.064065,
     "end_time": "2022-07-06T08:26:41.839368",
     "exception": false,
     "start_time": "2022-07-06T08:26:41.775303",
     "status": "completed"
    },
    "tags": []
   },
   "outputs": [
    {
     "data": {
      "text/html": [
       "<div>\n",
       "<style scoped>\n",
       "    .dataframe tbody tr th:only-of-type {\n",
       "        vertical-align: middle;\n",
       "    }\n",
       "\n",
       "    .dataframe tbody tr th {\n",
       "        vertical-align: top;\n",
       "    }\n",
       "\n",
       "    .dataframe thead th {\n",
       "        text-align: right;\n",
       "    }\n",
       "</style>\n",
       "<table border=\"1\" class=\"dataframe\">\n",
       "  <thead>\n",
       "    <tr style=\"text-align: right;\">\n",
       "      <th></th>\n",
       "      <th>age</th>\n",
       "      <th>sex</th>\n",
       "      <th>bmi</th>\n",
       "      <th>children</th>\n",
       "      <th>smoker</th>\n",
       "      <th>region</th>\n",
       "      <th>charges</th>\n",
       "    </tr>\n",
       "  </thead>\n",
       "  <tbody>\n",
       "    <tr>\n",
       "      <th>1333</th>\n",
       "      <td>50</td>\n",
       "      <td>male</td>\n",
       "      <td>30.97</td>\n",
       "      <td>3</td>\n",
       "      <td>no</td>\n",
       "      <td>northwest</td>\n",
       "      <td>10600.5483</td>\n",
       "    </tr>\n",
       "    <tr>\n",
       "      <th>1334</th>\n",
       "      <td>18</td>\n",
       "      <td>female</td>\n",
       "      <td>31.92</td>\n",
       "      <td>0</td>\n",
       "      <td>no</td>\n",
       "      <td>northeast</td>\n",
       "      <td>2205.9808</td>\n",
       "    </tr>\n",
       "    <tr>\n",
       "      <th>1335</th>\n",
       "      <td>18</td>\n",
       "      <td>female</td>\n",
       "      <td>36.85</td>\n",
       "      <td>0</td>\n",
       "      <td>no</td>\n",
       "      <td>southeast</td>\n",
       "      <td>1629.8335</td>\n",
       "    </tr>\n",
       "    <tr>\n",
       "      <th>1336</th>\n",
       "      <td>21</td>\n",
       "      <td>female</td>\n",
       "      <td>25.80</td>\n",
       "      <td>0</td>\n",
       "      <td>no</td>\n",
       "      <td>southwest</td>\n",
       "      <td>2007.9450</td>\n",
       "    </tr>\n",
       "    <tr>\n",
       "      <th>1337</th>\n",
       "      <td>61</td>\n",
       "      <td>female</td>\n",
       "      <td>29.07</td>\n",
       "      <td>0</td>\n",
       "      <td>yes</td>\n",
       "      <td>northwest</td>\n",
       "      <td>29141.3603</td>\n",
       "    </tr>\n",
       "  </tbody>\n",
       "</table>\n",
       "</div>"
      ],
      "text/plain": [
       "      age     sex    bmi  children smoker     region     charges\n",
       "1333   50    male  30.97         3     no  northwest  10600.5483\n",
       "1334   18  female  31.92         0     no  northeast   2205.9808\n",
       "1335   18  female  36.85         0     no  southeast   1629.8335\n",
       "1336   21  female  25.80         0     no  southwest   2007.9450\n",
       "1337   61  female  29.07         0    yes  northwest  29141.3603"
      ]
     },
     "execution_count": 63,
     "metadata": {},
     "output_type": "execute_result"
    }
   ],
   "source": [
    "df.tail()"
   ]
  },
  {
   "cell_type": "code",
   "execution_count": 64,
   "id": "d2dbac5d",
   "metadata": {
    "execution": {
     "iopub.execute_input": "2022-07-06T08:26:41.931637Z",
     "iopub.status.busy": "2022-07-06T08:26:41.930866Z",
     "iopub.status.idle": "2022-07-06T08:26:41.956273Z",
     "shell.execute_reply": "2022-07-06T08:26:41.954879Z"
    },
    "papermill": {
     "duration": 0.075088,
     "end_time": "2022-07-06T08:26:41.959117",
     "exception": false,
     "start_time": "2022-07-06T08:26:41.884029",
     "status": "completed"
    },
    "tags": []
   },
   "outputs": [
    {
     "name": "stdout",
     "output_type": "stream",
     "text": [
      "<class 'pandas.core.frame.DataFrame'>\n",
      "RangeIndex: 1338 entries, 0 to 1337\n",
      "Data columns (total 7 columns):\n",
      " #   Column    Non-Null Count  Dtype  \n",
      "---  ------    --------------  -----  \n",
      " 0   age       1338 non-null   int64  \n",
      " 1   sex       1338 non-null   object \n",
      " 2   bmi       1338 non-null   float64\n",
      " 3   children  1338 non-null   int64  \n",
      " 4   smoker    1338 non-null   object \n",
      " 5   region    1338 non-null   object \n",
      " 6   charges   1338 non-null   float64\n",
      "dtypes: float64(2), int64(2), object(3)\n",
      "memory usage: 73.3+ KB\n"
     ]
    }
   ],
   "source": [
    "df.info()"
   ]
  },
  {
   "cell_type": "markdown",
   "id": "66d22ef5",
   "metadata": {
    "papermill": {
     "duration": 0.045502,
     "end_time": "2022-07-06T08:26:42.048519",
     "exception": false,
     "start_time": "2022-07-06T08:26:42.003017",
     "status": "completed"
    },
    "tags": []
   },
   "source": [
    "1.There are no null values in the dataset\n",
    "2.All the datatypes are also correct"
   ]
  },
  {
   "cell_type": "markdown",
   "id": "a198d687",
   "metadata": {},
   "source": [
    "## To check the missing values"
   ]
  },
  {
   "cell_type": "code",
   "execution_count": 65,
   "id": "9d6d2579",
   "metadata": {
    "execution": {
     "iopub.execute_input": "2022-07-06T08:26:42.140984Z",
     "iopub.status.busy": "2022-07-06T08:26:42.140313Z",
     "iopub.status.idle": "2022-07-06T08:26:42.150041Z",
     "shell.execute_reply": "2022-07-06T08:26:42.148969Z"
    },
    "papermill": {
     "duration": 0.058466,
     "end_time": "2022-07-06T08:26:42.152474",
     "exception": false,
     "start_time": "2022-07-06T08:26:42.094008",
     "status": "completed"
    },
    "tags": []
   },
   "outputs": [
    {
     "data": {
      "text/plain": [
       "age         0\n",
       "sex         0\n",
       "bmi         0\n",
       "children    0\n",
       "smoker      0\n",
       "region      0\n",
       "charges     0\n",
       "dtype: int64"
      ]
     },
     "execution_count": 65,
     "metadata": {},
     "output_type": "execute_result"
    }
   ],
   "source": [
    "df.isnull().sum()"
   ]
  },
  {
   "cell_type": "markdown",
   "id": "2147358e",
   "metadata": {
    "papermill": {
     "duration": 0.04473,
     "end_time": "2022-07-06T08:26:42.243713",
     "exception": false,
     "start_time": "2022-07-06T08:26:42.198983",
     "status": "completed"
    },
    "tags": []
   },
   "source": [
    "1.There is no missing values in this dataset"
   ]
  },
  {
   "cell_type": "code",
   "execution_count": 66,
   "id": "87b1efba",
   "metadata": {
    "execution": {
     "iopub.execute_input": "2022-07-06T08:26:42.334517Z",
     "iopub.status.busy": "2022-07-06T08:26:42.334129Z",
     "iopub.status.idle": "2022-07-06T08:26:42.366242Z",
     "shell.execute_reply": "2022-07-06T08:26:42.365060Z"
    },
    "papermill": {
     "duration": 0.080075,
     "end_time": "2022-07-06T08:26:42.368715",
     "exception": false,
     "start_time": "2022-07-06T08:26:42.288640",
     "status": "completed"
    },
    "tags": []
   },
   "outputs": [
    {
     "data": {
      "text/html": [
       "<div>\n",
       "<style scoped>\n",
       "    .dataframe tbody tr th:only-of-type {\n",
       "        vertical-align: middle;\n",
       "    }\n",
       "\n",
       "    .dataframe tbody tr th {\n",
       "        vertical-align: top;\n",
       "    }\n",
       "\n",
       "    .dataframe thead th {\n",
       "        text-align: right;\n",
       "    }\n",
       "</style>\n",
       "<table border=\"1\" class=\"dataframe\">\n",
       "  <thead>\n",
       "    <tr style=\"text-align: right;\">\n",
       "      <th></th>\n",
       "      <th>age</th>\n",
       "      <th>sex</th>\n",
       "      <th>bmi</th>\n",
       "      <th>children</th>\n",
       "      <th>smoker</th>\n",
       "      <th>region</th>\n",
       "      <th>charges</th>\n",
       "    </tr>\n",
       "  </thead>\n",
       "  <tbody>\n",
       "    <tr>\n",
       "      <th>count</th>\n",
       "      <td>1338.000000</td>\n",
       "      <td>1338</td>\n",
       "      <td>1338.000000</td>\n",
       "      <td>1338.000000</td>\n",
       "      <td>1338</td>\n",
       "      <td>1338</td>\n",
       "      <td>1338.000000</td>\n",
       "    </tr>\n",
       "    <tr>\n",
       "      <th>unique</th>\n",
       "      <td>NaN</td>\n",
       "      <td>2</td>\n",
       "      <td>NaN</td>\n",
       "      <td>NaN</td>\n",
       "      <td>2</td>\n",
       "      <td>4</td>\n",
       "      <td>NaN</td>\n",
       "    </tr>\n",
       "    <tr>\n",
       "      <th>top</th>\n",
       "      <td>NaN</td>\n",
       "      <td>male</td>\n",
       "      <td>NaN</td>\n",
       "      <td>NaN</td>\n",
       "      <td>no</td>\n",
       "      <td>southeast</td>\n",
       "      <td>NaN</td>\n",
       "    </tr>\n",
       "    <tr>\n",
       "      <th>freq</th>\n",
       "      <td>NaN</td>\n",
       "      <td>676</td>\n",
       "      <td>NaN</td>\n",
       "      <td>NaN</td>\n",
       "      <td>1064</td>\n",
       "      <td>364</td>\n",
       "      <td>NaN</td>\n",
       "    </tr>\n",
       "    <tr>\n",
       "      <th>mean</th>\n",
       "      <td>39.207025</td>\n",
       "      <td>NaN</td>\n",
       "      <td>30.663397</td>\n",
       "      <td>1.094918</td>\n",
       "      <td>NaN</td>\n",
       "      <td>NaN</td>\n",
       "      <td>13270.422265</td>\n",
       "    </tr>\n",
       "    <tr>\n",
       "      <th>std</th>\n",
       "      <td>14.049960</td>\n",
       "      <td>NaN</td>\n",
       "      <td>6.098187</td>\n",
       "      <td>1.205493</td>\n",
       "      <td>NaN</td>\n",
       "      <td>NaN</td>\n",
       "      <td>12110.011237</td>\n",
       "    </tr>\n",
       "    <tr>\n",
       "      <th>min</th>\n",
       "      <td>18.000000</td>\n",
       "      <td>NaN</td>\n",
       "      <td>15.960000</td>\n",
       "      <td>0.000000</td>\n",
       "      <td>NaN</td>\n",
       "      <td>NaN</td>\n",
       "      <td>1121.873900</td>\n",
       "    </tr>\n",
       "    <tr>\n",
       "      <th>25%</th>\n",
       "      <td>27.000000</td>\n",
       "      <td>NaN</td>\n",
       "      <td>26.296250</td>\n",
       "      <td>0.000000</td>\n",
       "      <td>NaN</td>\n",
       "      <td>NaN</td>\n",
       "      <td>4740.287150</td>\n",
       "    </tr>\n",
       "    <tr>\n",
       "      <th>50%</th>\n",
       "      <td>39.000000</td>\n",
       "      <td>NaN</td>\n",
       "      <td>30.400000</td>\n",
       "      <td>1.000000</td>\n",
       "      <td>NaN</td>\n",
       "      <td>NaN</td>\n",
       "      <td>9382.033000</td>\n",
       "    </tr>\n",
       "    <tr>\n",
       "      <th>75%</th>\n",
       "      <td>51.000000</td>\n",
       "      <td>NaN</td>\n",
       "      <td>34.693750</td>\n",
       "      <td>2.000000</td>\n",
       "      <td>NaN</td>\n",
       "      <td>NaN</td>\n",
       "      <td>16639.912515</td>\n",
       "    </tr>\n",
       "    <tr>\n",
       "      <th>max</th>\n",
       "      <td>64.000000</td>\n",
       "      <td>NaN</td>\n",
       "      <td>53.130000</td>\n",
       "      <td>5.000000</td>\n",
       "      <td>NaN</td>\n",
       "      <td>NaN</td>\n",
       "      <td>63770.428010</td>\n",
       "    </tr>\n",
       "  </tbody>\n",
       "</table>\n",
       "</div>"
      ],
      "text/plain": [
       "                age   sex          bmi     children smoker     region  \\\n",
       "count   1338.000000  1338  1338.000000  1338.000000   1338       1338   \n",
       "unique          NaN     2          NaN          NaN      2          4   \n",
       "top             NaN  male          NaN          NaN     no  southeast   \n",
       "freq            NaN   676          NaN          NaN   1064        364   \n",
       "mean      39.207025   NaN    30.663397     1.094918    NaN        NaN   \n",
       "std       14.049960   NaN     6.098187     1.205493    NaN        NaN   \n",
       "min       18.000000   NaN    15.960000     0.000000    NaN        NaN   \n",
       "25%       27.000000   NaN    26.296250     0.000000    NaN        NaN   \n",
       "50%       39.000000   NaN    30.400000     1.000000    NaN        NaN   \n",
       "75%       51.000000   NaN    34.693750     2.000000    NaN        NaN   \n",
       "max       64.000000   NaN    53.130000     5.000000    NaN        NaN   \n",
       "\n",
       "             charges  \n",
       "count    1338.000000  \n",
       "unique           NaN  \n",
       "top              NaN  \n",
       "freq             NaN  \n",
       "mean    13270.422265  \n",
       "std     12110.011237  \n",
       "min      1121.873900  \n",
       "25%      4740.287150  \n",
       "50%      9382.033000  \n",
       "75%     16639.912515  \n",
       "max     63770.428010  "
      ]
     },
     "execution_count": 66,
     "metadata": {},
     "output_type": "execute_result"
    }
   ],
   "source": [
    "df.describe(include='all')"
   ]
  },
  {
   "cell_type": "markdown",
   "id": "c0ae4a31",
   "metadata": {},
   "source": [
    "# Visualisation"
   ]
  },
  {
   "cell_type": "markdown",
   "id": "2ea69801",
   "metadata": {
    "papermill": {
     "duration": 0.044819,
     "end_time": "2022-07-06T08:26:42.458902",
     "exception": false,
     "start_time": "2022-07-06T08:26:42.414083",
     "status": "completed"
    },
    "tags": []
   },
   "source": [
    "## Univariate Analysis"
   ]
  },
  {
   "cell_type": "code",
   "execution_count": 67,
   "id": "402fb6af",
   "metadata": {
    "execution": {
     "iopub.execute_input": "2022-07-06T08:26:42.550824Z",
     "iopub.status.busy": "2022-07-06T08:26:42.550214Z",
     "iopub.status.idle": "2022-07-06T08:26:42.556088Z",
     "shell.execute_reply": "2022-07-06T08:26:42.555075Z"
    },
    "papermill": {
     "duration": 0.055298,
     "end_time": "2022-07-06T08:26:42.558760",
     "exception": false,
     "start_time": "2022-07-06T08:26:42.503462",
     "status": "completed"
    },
    "tags": []
   },
   "outputs": [
    {
     "data": {
      "text/plain": [
       "(1338, 7)"
      ]
     },
     "execution_count": 67,
     "metadata": {},
     "output_type": "execute_result"
    }
   ],
   "source": [
    "df.shape"
   ]
  },
  {
   "cell_type": "code",
   "execution_count": 68,
   "id": "f4afddfe",
   "metadata": {
    "execution": {
     "iopub.execute_input": "2022-07-06T08:26:42.741033Z",
     "iopub.status.busy": "2022-07-06T08:26:42.740324Z",
     "iopub.status.idle": "2022-07-06T08:26:42.746445Z",
     "shell.execute_reply": "2022-07-06T08:26:42.745320Z"
    },
    "papermill": {
     "duration": 0.054194,
     "end_time": "2022-07-06T08:26:42.748530",
     "exception": false,
     "start_time": "2022-07-06T08:26:42.694336",
     "status": "completed"
    },
    "tags": []
   },
   "outputs": [
    {
     "data": {
      "text/plain": [
       "Index(['age', 'sex', 'bmi', 'children', 'smoker', 'region', 'charges'], dtype='object')"
      ]
     },
     "execution_count": 68,
     "metadata": {},
     "output_type": "execute_result"
    }
   ],
   "source": [
    "df.columns"
   ]
  },
  {
   "cell_type": "markdown",
   "id": "034a2577",
   "metadata": {
    "papermill": {
     "duration": 0.044543,
     "end_time": "2022-07-06T08:26:42.927547",
     "exception": false,
     "start_time": "2022-07-06T08:26:42.883004",
     "status": "completed"
    },
    "tags": []
   },
   "source": [
    "### Sex"
   ]
  },
  {
   "cell_type": "code",
   "execution_count": 69,
   "id": "fe30a0dc",
   "metadata": {
    "execution": {
     "iopub.execute_input": "2022-07-06T08:26:43.022410Z",
     "iopub.status.busy": "2022-07-06T08:26:43.021938Z",
     "iopub.status.idle": "2022-07-06T08:26:43.029715Z",
     "shell.execute_reply": "2022-07-06T08:26:43.028879Z"
    },
    "papermill": {
     "duration": 0.058999,
     "end_time": "2022-07-06T08:26:43.031715",
     "exception": false,
     "start_time": "2022-07-06T08:26:42.972716",
     "status": "completed"
    },
    "tags": []
   },
   "outputs": [
    {
     "data": {
      "text/plain": [
       "male      676\n",
       "female    662\n",
       "Name: sex, dtype: int64"
      ]
     },
     "execution_count": 69,
     "metadata": {},
     "output_type": "execute_result"
    }
   ],
   "source": [
    "df['sex'].value_counts()"
   ]
  },
  {
   "cell_type": "code",
   "execution_count": 70,
   "id": "5bcafc3e",
   "metadata": {
    "execution": {
     "iopub.execute_input": "2022-07-06T08:26:43.216424Z",
     "iopub.status.busy": "2022-07-06T08:26:43.215661Z",
     "iopub.status.idle": "2022-07-06T08:26:43.411607Z",
     "shell.execute_reply": "2022-07-06T08:26:43.410356Z"
    },
    "papermill": {
     "duration": 0.24434,
     "end_time": "2022-07-06T08:26:43.414096",
     "exception": false,
     "start_time": "2022-07-06T08:26:43.169756",
     "status": "completed"
    },
    "tags": []
   },
   "outputs": [
    {
     "data": {
      "image/png": "[encoded data removed]",
      "text/plain": [
       "<Figure size 640x480 with 1 Axes>"
      ]
     },
     "metadata": {},
     "output_type": "display_data"
    }
   ],
   "source": [
    "sns.countplot(x='sex',data=df)\n",
    "plt.show()"
   ]
  },
  {
   "cell_type": "code",
   "execution_count": 71,
   "id": "99df528e",
   "metadata": {
    "execution": {
     "iopub.execute_input": "2022-07-06T08:26:43.506803Z",
     "iopub.status.busy": "2022-07-06T08:26:43.506360Z",
     "iopub.status.idle": "2022-07-06T08:26:43.635298Z",
     "shell.execute_reply": "2022-07-06T08:26:43.633884Z"
    },
    "papermill": {
     "duration": 0.179591,
     "end_time": "2022-07-06T08:26:43.638902",
     "exception": false,
     "start_time": "2022-07-06T08:26:43.459311",
     "status": "completed"
    },
    "tags": []
   },
   "outputs": [
    {
     "data": {
      "image/png": "[encoded data removed]",
      "text/plain": [
       "<Figure size 1000x500 with 1 Axes>"
      ]
     },
     "metadata": {},
     "output_type": "display_data"
    }
   ],
   "source": [
    "plt.figure(figsize=(10,5))\n",
    "df['sex'].value_counts().plot(kind='pie',autopct='%.2f%%',colors=['SkyBlue','Pink'])\n",
    "plt.show()"
   ]
  },
  {
   "cell_type": "markdown",
   "id": "ae50662f",
   "metadata": {
    "papermill": {
     "duration": 0.045982,
     "end_time": "2022-07-06T08:26:43.732394",
     "exception": false,
     "start_time": "2022-07-06T08:26:43.686412",
     "status": "completed"
    },
    "tags": []
   },
   "source": [
    "### Age"
   ]
  },
  {
   "cell_type": "code",
   "execution_count": 72,
   "id": "766daf1c",
   "metadata": {
    "execution": {
     "iopub.execute_input": "2022-07-06T08:26:43.919688Z",
     "iopub.status.busy": "2022-07-06T08:26:43.918580Z",
     "iopub.status.idle": "2022-07-06T08:26:43.926217Z",
     "shell.execute_reply": "2022-07-06T08:26:43.925305Z"
    },
    "papermill": {
     "duration": 0.057752,
     "end_time": "2022-07-06T08:26:43.928504",
     "exception": false,
     "start_time": "2022-07-06T08:26:43.870752",
     "status": "completed"
    },
    "tags": []
   },
   "outputs": [
    {
     "data": {
      "text/plain": [
       "47"
      ]
     },
     "execution_count": 72,
     "metadata": {},
     "output_type": "execute_result"
    }
   ],
   "source": [
    "df['age'].nunique()"
   ]
  },
  {
   "cell_type": "code",
   "execution_count": 73,
   "id": "090e4db7",
   "metadata": {
    "execution": {
     "iopub.execute_input": "2022-07-06T08:26:44.022752Z",
     "iopub.status.busy": "2022-07-06T08:26:44.021823Z",
     "iopub.status.idle": "2022-07-06T08:26:44.032150Z",
     "shell.execute_reply": "2022-07-06T08:26:44.030874Z"
    },
    "papermill": {
     "duration": 0.059481,
     "end_time": "2022-07-06T08:26:44.034422",
     "exception": false,
     "start_time": "2022-07-06T08:26:43.974941",
     "status": "completed"
    },
    "tags": []
   },
   "outputs": [
    {
     "data": {
      "text/plain": [
       "18    69\n",
       "19    68\n",
       "50    29\n",
       "51    29\n",
       "47    29\n",
       "46    29\n",
       "45    29\n",
       "20    29\n",
       "48    29\n",
       "52    29\n",
       "22    28\n",
       "49    28\n",
       "54    28\n",
       "53    28\n",
       "21    28\n",
       "26    28\n",
       "24    28\n",
       "25    28\n",
       "28    28\n",
       "27    28\n",
       "23    28\n",
       "43    27\n",
       "29    27\n",
       "30    27\n",
       "41    27\n",
       "42    27\n",
       "44    27\n",
       "31    27\n",
       "40    27\n",
       "32    26\n",
       "33    26\n",
       "56    26\n",
       "34    26\n",
       "55    26\n",
       "57    26\n",
       "37    25\n",
       "59    25\n",
       "58    25\n",
       "36    25\n",
       "38    25\n",
       "35    25\n",
       "39    25\n",
       "61    23\n",
       "60    23\n",
       "63    23\n",
       "62    23\n",
       "64    22\n",
       "Name: age, dtype: int64"
      ]
     },
     "execution_count": 73,
     "metadata": {},
     "output_type": "execute_result"
    }
   ],
   "source": [
    "df['age'].value_counts()"
   ]
  },
  {
   "cell_type": "code",
   "execution_count": 74,
   "id": "e6da5f99",
   "metadata": {},
   "outputs": [
    {
     "data": {
      "image/png": "[encoded data removed]",
      "text/plain": [
       "<Figure size 1500x1000 with 1 Axes>"
      ]
     },
     "metadata": {},
     "output_type": "display_data"
    }
   ],
   "source": [
    "import matplotlib.pyplot as plt\n",
    "import seaborn as sns\n",
    "\n",
    "# Assuming 'df' is your DataFrame and 'age' is a column in it\n",
    "plt.figure(figsize=(15, 10))\n",
    "sns.countplot(data=df, x='age')\n",
    "plt.title('Count across Age')\n",
    "plt.xlabel('Age')\n",
    "plt.ylabel('Count')\n",
    "plt.show()\n"
   ]
  },
  {
   "cell_type": "markdown",
   "id": "7217e60e",
   "metadata": {
    "papermill": {
     "duration": 0.045567,
     "end_time": "2022-07-06T08:26:44.790835",
     "exception": false,
     "start_time": "2022-07-06T08:26:44.745268",
     "status": "completed"
    },
    "tags": []
   },
   "source": [
    "From this count plot on age column its shows there is more populatiion people from the age of 18,19 compared to other  age people"
   ]
  },
  {
   "cell_type": "code",
   "execution_count": 75,
   "id": "4d5b0569",
   "metadata": {
    "execution": {
     "iopub.execute_input": "2022-07-06T08:26:44.885516Z",
     "iopub.status.busy": "2022-07-06T08:26:44.884657Z",
     "iopub.status.idle": "2022-07-06T08:26:45.059900Z",
     "shell.execute_reply": "2022-07-06T08:26:45.058700Z"
    },
    "papermill": {
     "duration": 0.226089,
     "end_time": "2022-07-06T08:26:45.062496",
     "exception": false,
     "start_time": "2022-07-06T08:26:44.836407",
     "status": "completed"
    },
    "scrolled": true,
    "tags": []
   },
   "outputs": [
    {
     "data": {
      "image/png": "[encoded data removed]",
      "text/plain": [
       "<Figure size 640x480 with 1 Axes>"
      ]
     },
     "metadata": {},
     "output_type": "display_data"
    }
   ],
   "source": [
    "sns.violinplot(df['age'])\n",
    "plt.show()"
   ]
  },
  {
   "cell_type": "markdown",
   "id": "45972bbb",
   "metadata": {
    "papermill": {
     "duration": 0.049142,
     "end_time": "2022-07-06T08:26:45.159680",
     "exception": false,
     "start_time": "2022-07-06T08:26:45.110538",
     "status": "completed"
    },
    "tags": []
   },
   "source": [
    "# BMI"
   ]
  },
  {
   "cell_type": "code",
   "execution_count": 76,
   "id": "08b5dbff",
   "metadata": {
    "execution": {
     "iopub.execute_input": "2022-07-06T08:26:45.255737Z",
     "iopub.status.busy": "2022-07-06T08:26:45.255312Z",
     "iopub.status.idle": "2022-07-06T08:26:45.267940Z",
     "shell.execute_reply": "2022-07-06T08:26:45.267060Z"
    },
    "papermill": {
     "duration": 0.063488,
     "end_time": "2022-07-06T08:26:45.270043",
     "exception": false,
     "start_time": "2022-07-06T08:26:45.206555",
     "status": "completed"
    },
    "tags": []
   },
   "outputs": [
    {
     "data": {
      "text/plain": [
       "32.300    13\n",
       "28.310     9\n",
       "30.495     8\n",
       "30.875     8\n",
       "31.350     8\n",
       "          ..\n",
       "46.200     1\n",
       "23.800     1\n",
       "44.770     1\n",
       "32.120     1\n",
       "30.970     1\n",
       "Name: bmi, Length: 548, dtype: int64"
      ]
     },
     "execution_count": 76,
     "metadata": {},
     "output_type": "execute_result"
    }
   ],
   "source": [
    "df['bmi'].value_counts()"
   ]
  },
  {
   "cell_type": "code",
   "execution_count": 77,
   "id": "c29076fd",
   "metadata": {
    "execution": {
     "iopub.execute_input": "2022-07-06T08:26:45.365006Z",
     "iopub.status.busy": "2022-07-06T08:26:45.364583Z",
     "iopub.status.idle": "2022-07-06T08:26:45.372248Z",
     "shell.execute_reply": "2022-07-06T08:26:45.371113Z"
    },
    "papermill": {
     "duration": 0.057644,
     "end_time": "2022-07-06T08:26:45.374558",
     "exception": false,
     "start_time": "2022-07-06T08:26:45.316914",
     "status": "completed"
    },
    "tags": []
   },
   "outputs": [
    {
     "data": {
      "text/plain": [
       "548"
      ]
     },
     "execution_count": 77,
     "metadata": {},
     "output_type": "execute_result"
    }
   ],
   "source": [
    "df['bmi'].nunique()"
   ]
  },
  {
   "cell_type": "code",
   "execution_count": 78,
   "id": "ad0fe7e5",
   "metadata": {
    "execution": {
     "iopub.execute_input": "2022-07-06T08:26:45.469730Z",
     "iopub.status.busy": "2022-07-06T08:26:45.469336Z",
     "iopub.status.idle": "2022-07-06T08:26:45.709448Z",
     "shell.execute_reply": "2022-07-06T08:26:45.708577Z"
    },
    "papermill": {
     "duration": 0.290498,
     "end_time": "2022-07-06T08:26:45.711638",
     "exception": false,
     "start_time": "2022-07-06T08:26:45.421140",
     "status": "completed"
    },
    "tags": []
   },
   "outputs": [
    {
     "data": {
      "image/png": "[encoded data removed]",
      "text/plain": [
       "<Figure size 640x480 with 1 Axes>"
      ]
     },
     "metadata": {},
     "output_type": "display_data"
    }
   ],
   "source": [
    "sns.distplot(df['bmi'])\n",
    "plt.show()"
   ]
  },
  {
   "cell_type": "code",
   "execution_count": 79,
   "id": "f0feeac5",
   "metadata": {
    "execution": {
     "iopub.execute_input": "2022-07-06T08:26:45.808644Z",
     "iopub.status.busy": "2022-07-06T08:26:45.807598Z",
     "iopub.status.idle": "2022-07-06T08:26:45.825855Z",
     "shell.execute_reply": "2022-07-06T08:26:45.824994Z"
    },
    "papermill": {
     "duration": 0.068757,
     "end_time": "2022-07-06T08:26:45.827944",
     "exception": false,
     "start_time": "2022-07-06T08:26:45.759187",
     "status": "completed"
    },
    "tags": []
   },
   "outputs": [
    {
     "data": {
      "text/html": [
       "<div>\n",
       "<style scoped>\n",
       "    .dataframe tbody tr th:only-of-type {\n",
       "        vertical-align: middle;\n",
       "    }\n",
       "\n",
       "    .dataframe tbody tr th {\n",
       "        vertical-align: top;\n",
       "    }\n",
       "\n",
       "    .dataframe thead th {\n",
       "        text-align: right;\n",
       "    }\n",
       "</style>\n",
       "<table border=\"1\" class=\"dataframe\">\n",
       "  <thead>\n",
       "    <tr style=\"text-align: right;\">\n",
       "      <th></th>\n",
       "      <th>age</th>\n",
       "      <th>sex</th>\n",
       "      <th>bmi</th>\n",
       "      <th>children</th>\n",
       "      <th>smoker</th>\n",
       "      <th>region</th>\n",
       "      <th>charges</th>\n",
       "    </tr>\n",
       "  </thead>\n",
       "  <tbody>\n",
       "    <tr>\n",
       "      <th>0</th>\n",
       "      <td>19</td>\n",
       "      <td>female</td>\n",
       "      <td>27.900</td>\n",
       "      <td>0</td>\n",
       "      <td>yes</td>\n",
       "      <td>southwest</td>\n",
       "      <td>16884.92400</td>\n",
       "    </tr>\n",
       "    <tr>\n",
       "      <th>1</th>\n",
       "      <td>18</td>\n",
       "      <td>male</td>\n",
       "      <td>33.770</td>\n",
       "      <td>1</td>\n",
       "      <td>no</td>\n",
       "      <td>southeast</td>\n",
       "      <td>1725.55230</td>\n",
       "    </tr>\n",
       "    <tr>\n",
       "      <th>2</th>\n",
       "      <td>28</td>\n",
       "      <td>male</td>\n",
       "      <td>33.000</td>\n",
       "      <td>3</td>\n",
       "      <td>no</td>\n",
       "      <td>southeast</td>\n",
       "      <td>4449.46200</td>\n",
       "    </tr>\n",
       "    <tr>\n",
       "      <th>3</th>\n",
       "      <td>33</td>\n",
       "      <td>male</td>\n",
       "      <td>22.705</td>\n",
       "      <td>0</td>\n",
       "      <td>no</td>\n",
       "      <td>northwest</td>\n",
       "      <td>21984.47061</td>\n",
       "    </tr>\n",
       "    <tr>\n",
       "      <th>4</th>\n",
       "      <td>32</td>\n",
       "      <td>male</td>\n",
       "      <td>28.880</td>\n",
       "      <td>0</td>\n",
       "      <td>no</td>\n",
       "      <td>northwest</td>\n",
       "      <td>3866.85520</td>\n",
       "    </tr>\n",
       "    <tr>\n",
       "      <th>...</th>\n",
       "      <td>...</td>\n",
       "      <td>...</td>\n",
       "      <td>...</td>\n",
       "      <td>...</td>\n",
       "      <td>...</td>\n",
       "      <td>...</td>\n",
       "      <td>...</td>\n",
       "    </tr>\n",
       "    <tr>\n",
       "      <th>1333</th>\n",
       "      <td>50</td>\n",
       "      <td>male</td>\n",
       "      <td>30.970</td>\n",
       "      <td>3</td>\n",
       "      <td>no</td>\n",
       "      <td>northwest</td>\n",
       "      <td>10600.54830</td>\n",
       "    </tr>\n",
       "    <tr>\n",
       "      <th>1334</th>\n",
       "      <td>18</td>\n",
       "      <td>female</td>\n",
       "      <td>31.920</td>\n",
       "      <td>0</td>\n",
       "      <td>no</td>\n",
       "      <td>northeast</td>\n",
       "      <td>2205.98080</td>\n",
       "    </tr>\n",
       "    <tr>\n",
       "      <th>1335</th>\n",
       "      <td>18</td>\n",
       "      <td>female</td>\n",
       "      <td>36.850</td>\n",
       "      <td>0</td>\n",
       "      <td>no</td>\n",
       "      <td>southeast</td>\n",
       "      <td>1629.83350</td>\n",
       "    </tr>\n",
       "    <tr>\n",
       "      <th>1336</th>\n",
       "      <td>21</td>\n",
       "      <td>female</td>\n",
       "      <td>25.800</td>\n",
       "      <td>0</td>\n",
       "      <td>no</td>\n",
       "      <td>southwest</td>\n",
       "      <td>2007.94500</td>\n",
       "    </tr>\n",
       "    <tr>\n",
       "      <th>1337</th>\n",
       "      <td>61</td>\n",
       "      <td>female</td>\n",
       "      <td>29.070</td>\n",
       "      <td>0</td>\n",
       "      <td>yes</td>\n",
       "      <td>northwest</td>\n",
       "      <td>29141.36030</td>\n",
       "    </tr>\n",
       "  </tbody>\n",
       "</table>\n",
       "<p>1338 rows × 7 columns</p>\n",
       "</div>"
      ],
      "text/plain": [
       "      age     sex     bmi  children smoker     region      charges\n",
       "0      19  female  27.900         0    yes  southwest  16884.92400\n",
       "1      18    male  33.770         1     no  southeast   1725.55230\n",
       "2      28    male  33.000         3     no  southeast   4449.46200\n",
       "3      33    male  22.705         0     no  northwest  21984.47061\n",
       "4      32    male  28.880         0     no  northwest   3866.85520\n",
       "...   ...     ...     ...       ...    ...        ...          ...\n",
       "1333   50    male  30.970         3     no  northwest  10600.54830\n",
       "1334   18  female  31.920         0     no  northeast   2205.98080\n",
       "1335   18  female  36.850         0     no  southeast   1629.83350\n",
       "1336   21  female  25.800         0     no  southwest   2007.94500\n",
       "1337   61  female  29.070         0    yes  northwest  29141.36030\n",
       "\n",
       "[1338 rows x 7 columns]"
      ]
     },
     "execution_count": 79,
     "metadata": {},
     "output_type": "execute_result"
    }
   ],
   "source": [
    "df"
   ]
  },
  {
   "cell_type": "markdown",
   "id": "36142402",
   "metadata": {
    "papermill": {
     "duration": 0.046896,
     "end_time": "2022-07-06T08:26:45.925038",
     "exception": false,
     "start_time": "2022-07-06T08:26:45.878142",
     "status": "completed"
    },
    "tags": []
   },
   "source": [
    "# Children"
   ]
  },
  {
   "cell_type": "code",
   "execution_count": 80,
   "id": "9142bcb0",
   "metadata": {
    "execution": {
     "iopub.execute_input": "2022-07-06T08:26:46.022933Z",
     "iopub.status.busy": "2022-07-06T08:26:46.022243Z",
     "iopub.status.idle": "2022-07-06T08:26:46.029592Z",
     "shell.execute_reply": "2022-07-06T08:26:46.028833Z"
    },
    "papermill": {
     "duration": 0.058692,
     "end_time": "2022-07-06T08:26:46.031704",
     "exception": false,
     "start_time": "2022-07-06T08:26:45.973012",
     "status": "completed"
    },
    "tags": []
   },
   "outputs": [
    {
     "data": {
      "text/plain": [
       "0    574\n",
       "1    324\n",
       "2    240\n",
       "3    157\n",
       "4     25\n",
       "5     18\n",
       "Name: children, dtype: int64"
      ]
     },
     "execution_count": 80,
     "metadata": {},
     "output_type": "execute_result"
    }
   ],
   "source": [
    "df['children'].value_counts()"
   ]
  },
  {
   "cell_type": "code",
   "execution_count": 81,
   "id": "366ae5ca",
   "metadata": {},
   "outputs": [
    {
     "data": {
      "image/png": "[encoded data removed]",
      "text/plain": [
       "<Figure size 1500x1000 with 1 Axes>"
      ]
     },
     "metadata": {},
     "output_type": "display_data"
    }
   ],
   "source": [
    "plt.figure(figsize=(15, 10))\n",
    "sns.countplot(data=df, x='children')\n",
    "plt.title('Children Count')\n",
    "plt.xlabel('Children')\n",
    "plt.ylabel('Count')\n",
    "plt.show()\n"
   ]
  },
  {
   "cell_type": "markdown",
   "id": "ad42c919",
   "metadata": {
    "papermill": {
     "duration": 0.04796,
     "end_time": "2022-07-06T08:26:46.409007",
     "exception": false,
     "start_time": "2022-07-06T08:26:46.361047",
     "status": "completed"
    },
    "tags": []
   },
   "source": [
    "# Smoker"
   ]
  },
  {
   "cell_type": "code",
   "execution_count": 82,
   "id": "5e214f3e",
   "metadata": {
    "execution": {
     "iopub.execute_input": "2022-07-06T08:26:46.507608Z",
     "iopub.status.busy": "2022-07-06T08:26:46.507186Z",
     "iopub.status.idle": "2022-07-06T08:26:46.516194Z",
     "shell.execute_reply": "2022-07-06T08:26:46.514951Z"
    },
    "papermill": {
     "duration": 0.060383,
     "end_time": "2022-07-06T08:26:46.518566",
     "exception": false,
     "start_time": "2022-07-06T08:26:46.458183",
     "status": "completed"
    },
    "tags": []
   },
   "outputs": [
    {
     "data": {
      "text/plain": [
       "no     1064\n",
       "yes     274\n",
       "Name: smoker, dtype: int64"
      ]
     },
     "execution_count": 82,
     "metadata": {},
     "output_type": "execute_result"
    }
   ],
   "source": [
    "df['smoker'].value_counts()"
   ]
  },
  {
   "cell_type": "code",
   "execution_count": 83,
   "id": "f442ec89",
   "metadata": {
    "execution": {
     "iopub.execute_input": "2022-07-06T08:26:46.779644Z",
     "iopub.status.busy": "2022-07-06T08:26:46.778587Z",
     "iopub.status.idle": "2022-07-06T08:26:46.934008Z",
     "shell.execute_reply": "2022-07-06T08:26:46.932698Z"
    },
    "papermill": {
     "duration": 0.207949,
     "end_time": "2022-07-06T08:26:46.936697",
     "exception": false,
     "start_time": "2022-07-06T08:26:46.728748",
     "status": "completed"
    },
    "tags": []
   },
   "outputs": [
    {
     "data": {
      "image/png": "[encoded data removed]",
      "text/plain": [
       "<Figure size 640x480 with 1 Axes>"
      ]
     },
     "metadata": {},
     "output_type": "display_data"
    }
   ],
   "source": [
    "sns.countplot(x=df['smoker'])\n",
    "plt.show()"
   ]
  },
  {
   "cell_type": "code",
   "execution_count": 84,
   "id": "17f27b17",
   "metadata": {
    "execution": {
     "iopub.execute_input": "2022-07-06T08:26:47.040501Z",
     "iopub.status.busy": "2022-07-06T08:26:47.040102Z",
     "iopub.status.idle": "2022-07-06T08:26:47.137625Z",
     "shell.execute_reply": "2022-07-06T08:26:47.135845Z"
    },
    "papermill": {
     "duration": 0.15461,
     "end_time": "2022-07-06T08:26:47.141637",
     "exception": false,
     "start_time": "2022-07-06T08:26:46.987027",
     "status": "completed"
    },
    "tags": []
   },
   "outputs": [
    {
     "data": {
      "image/png": "[encoded data removed]",
      "text/plain": [
       "<Figure size 640x480 with 1 Axes>"
      ]
     },
     "metadata": {},
     "output_type": "display_data"
    }
   ],
   "source": [
    "df['smoker'].value_counts().plot(kind='pie',explode=[0.2,0])\n",
    "plt.show()"
   ]
  },
  {
   "cell_type": "markdown",
   "id": "cfb32e5e",
   "metadata": {
    "papermill": {
     "duration": 0.048476,
     "end_time": "2022-07-06T08:26:47.379510",
     "exception": false,
     "start_time": "2022-07-06T08:26:47.331034",
     "status": "completed"
    },
    "tags": []
   },
   "source": [
    "# Region"
   ]
  },
  {
   "cell_type": "code",
   "execution_count": 85,
   "id": "9711d34b",
   "metadata": {
    "execution": {
     "iopub.execute_input": "2022-07-06T08:26:47.479871Z",
     "iopub.status.busy": "2022-07-06T08:26:47.478765Z",
     "iopub.status.idle": "2022-07-06T08:26:47.484994Z",
     "shell.execute_reply": "2022-07-06T08:26:47.483849Z"
    },
    "papermill": {
     "duration": 0.059289,
     "end_time": "2022-07-06T08:26:47.487384",
     "exception": false,
     "start_time": "2022-07-06T08:26:47.428095",
     "status": "completed"
    },
    "tags": []
   },
   "outputs": [],
   "source": [
    "r=df['region'].value_counts()"
   ]
  },
  {
   "cell_type": "code",
   "execution_count": 86,
   "id": "70038b60",
   "metadata": {
    "execution": {
     "iopub.execute_input": "2022-07-06T08:26:47.588272Z",
     "iopub.status.busy": "2022-07-06T08:26:47.587891Z",
     "iopub.status.idle": "2022-07-06T08:26:47.595300Z",
     "shell.execute_reply": "2022-07-06T08:26:47.594141Z"
    },
    "papermill": {
     "duration": 0.060861,
     "end_time": "2022-07-06T08:26:47.597545",
     "exception": false,
     "start_time": "2022-07-06T08:26:47.536684",
     "status": "completed"
    },
    "tags": []
   },
   "outputs": [
    {
     "data": {
      "text/plain": [
       "southeast    364\n",
       "southwest    325\n",
       "northwest    325\n",
       "northeast    324\n",
       "Name: region, dtype: int64"
      ]
     },
     "execution_count": 86,
     "metadata": {},
     "output_type": "execute_result"
    }
   ],
   "source": [
    "r"
   ]
  },
  {
   "cell_type": "code",
   "execution_count": 87,
   "id": "03b8f411",
   "metadata": {
    "execution": {
     "iopub.execute_input": "2022-07-06T08:26:47.704155Z",
     "iopub.status.busy": "2022-07-06T08:26:47.702278Z",
     "iopub.status.idle": "2022-07-06T08:26:48.028971Z",
     "shell.execute_reply": "2022-07-06T08:26:48.027849Z"
    },
    "papermill": {
     "duration": 0.383695,
     "end_time": "2022-07-06T08:26:48.032131",
     "exception": false,
     "start_time": "2022-07-06T08:26:47.648436",
     "status": "completed"
    },
    "tags": []
   },
   "outputs": [
    {
     "data": {
      "image/png": "[encoded data removed]",
      "text/plain": [
       "<Figure size 900x950 with 1 Axes>"
      ]
     },
     "metadata": {},
     "output_type": "display_data"
    }
   ],
   "source": [
    "plt.figure(figsize=(9,9.5))\n",
    "df['region'].value_counts().plot(kind='pie',explode=[0.2,0,0,0],legend=True,autopct='%.2f%%',shadow=True)\n",
    "plt.title('Percentage distribution of Region')\n",
    "plt.show()"
   ]
  },
  {
   "cell_type": "code",
   "execution_count": 88,
   "id": "cb01ff84",
   "metadata": {
    "execution": {
     "iopub.execute_input": "2022-07-06T08:26:48.150212Z",
     "iopub.status.busy": "2022-07-06T08:26:48.149412Z",
     "iopub.status.idle": "2022-07-06T08:26:48.296225Z",
     "shell.execute_reply": "2022-07-06T08:26:48.294172Z"
    },
    "papermill": {
     "duration": 0.219073,
     "end_time": "2022-07-06T08:26:48.301446",
     "exception": false,
     "start_time": "2022-07-06T08:26:48.082373",
     "status": "completed"
    },
    "tags": []
   },
   "outputs": [
    {
     "data": {
      "image/png": "[encoded data removed]",
      "text/plain": [
       "<Figure size 640x480 with 1 Axes>"
      ]
     },
     "metadata": {},
     "output_type": "display_data"
    }
   ],
   "source": [
    "plt.pie(r,data=df,autopct='%.2f%%',explode=[0.2,0,0,0],shadow=True,radius=2)\n",
    "plt.show()"
   ]
  },
  {
   "cell_type": "markdown",
   "id": "40a53d21",
   "metadata": {
    "papermill": {
     "duration": 0.051712,
     "end_time": "2022-07-06T08:26:48.432553",
     "exception": false,
     "start_time": "2022-07-06T08:26:48.380841",
     "status": "completed"
    },
    "tags": []
   },
   "source": [
    "# Charges\n",
    "## Target Variable"
   ]
  },
  {
   "cell_type": "code",
   "execution_count": 89,
   "id": "0e55d7ea",
   "metadata": {
    "execution": {
     "iopub.execute_input": "2022-07-06T08:26:48.536756Z",
     "iopub.status.busy": "2022-07-06T08:26:48.536323Z",
     "iopub.status.idle": "2022-07-06T08:26:48.547028Z",
     "shell.execute_reply": "2022-07-06T08:26:48.545900Z"
    },
    "papermill": {
     "duration": 0.06616,
     "end_time": "2022-07-06T08:26:48.549588",
     "exception": false,
     "start_time": "2022-07-06T08:26:48.483428",
     "status": "completed"
    },
    "tags": []
   },
   "outputs": [
    {
     "data": {
      "text/plain": [
       "1639.56310     2\n",
       "16884.92400    1\n",
       "29330.98315    1\n",
       "2221.56445     1\n",
       "19798.05455    1\n",
       "              ..\n",
       "7345.08400     1\n",
       "26109.32905    1\n",
       "28287.89766    1\n",
       "1149.39590     1\n",
       "29141.36030    1\n",
       "Name: charges, Length: 1337, dtype: int64"
      ]
     },
     "execution_count": 89,
     "metadata": {},
     "output_type": "execute_result"
    }
   ],
   "source": [
    "df['charges'].value_counts()"
   ]
  },
  {
   "cell_type": "code",
   "execution_count": 90,
   "id": "b9f5f1ab",
   "metadata": {
    "execution": {
     "iopub.execute_input": "2022-07-06T08:26:48.655729Z",
     "iopub.status.busy": "2022-07-06T08:26:48.654940Z",
     "iopub.status.idle": "2022-07-06T08:26:48.663149Z",
     "shell.execute_reply": "2022-07-06T08:26:48.662098Z"
    },
    "papermill": {
     "duration": 0.063181,
     "end_time": "2022-07-06T08:26:48.665488",
     "exception": false,
     "start_time": "2022-07-06T08:26:48.602307",
     "status": "completed"
    },
    "tags": []
   },
   "outputs": [
    {
     "data": {
      "text/plain": [
       "1337"
      ]
     },
     "execution_count": 90,
     "metadata": {},
     "output_type": "execute_result"
    }
   ],
   "source": [
    "len(df['charges'].value_counts())"
   ]
  },
  {
   "cell_type": "code",
   "execution_count": 91,
   "id": "98f5390d",
   "metadata": {
    "execution": {
     "iopub.execute_input": "2022-07-06T08:26:48.873197Z",
     "iopub.status.busy": "2022-07-06T08:26:48.872675Z",
     "iopub.status.idle": "2022-07-06T08:26:49.154648Z",
     "shell.execute_reply": "2022-07-06T08:26:49.153553Z"
    },
    "papermill": {
     "duration": 0.337921,
     "end_time": "2022-07-06T08:26:49.157336",
     "exception": false,
     "start_time": "2022-07-06T08:26:48.819415",
     "status": "completed"
    },
    "tags": []
   },
   "outputs": [
    {
     "data": {
      "image/png": "[encoded data removed]",
      "text/plain": [
       "<Figure size 640x480 with 1 Axes>"
      ]
     },
     "metadata": {},
     "output_type": "display_data"
    }
   ],
   "source": [
    "sns.distplot(df['charges'])\n",
    "plt.show()"
   ]
  },
  {
   "cell_type": "markdown",
   "id": "00193694",
   "metadata": {
    "papermill": {
     "duration": 0.049738,
     "end_time": "2022-07-06T08:26:49.357678",
     "exception": false,
     "start_time": "2022-07-06T08:26:49.307940",
     "status": "completed"
    },
    "tags": []
   },
   "source": [
    "# Bivariate Analysis and Multivariate Analysis"
   ]
  },
  {
   "cell_type": "markdown",
   "id": "ee14ffd1",
   "metadata": {
    "papermill": {
     "duration": 0.049903,
     "end_time": "2022-07-06T08:26:49.457582",
     "exception": false,
     "start_time": "2022-07-06T08:26:49.407679",
     "status": "completed"
    },
    "tags": []
   },
   "source": [
    "# Smoker with Sex"
   ]
  },
  {
   "cell_type": "code",
   "execution_count": 92,
   "id": "c20a5a81",
   "metadata": {
    "execution": {
     "iopub.execute_input": "2022-07-06T08:26:49.559922Z",
     "iopub.status.busy": "2022-07-06T08:26:49.559501Z",
     "iopub.status.idle": "2022-07-06T08:26:49.854213Z",
     "shell.execute_reply": "2022-07-06T08:26:49.853376Z"
    },
    "papermill": {
     "duration": 0.34887,
     "end_time": "2022-07-06T08:26:49.856476",
     "exception": false,
     "start_time": "2022-07-06T08:26:49.507606",
     "status": "completed"
    },
    "tags": []
   },
   "outputs": [
    {
     "data": {
      "image/png": "[encoded data removed]",
      "text/plain": [
       "<Figure size 598x500 with 1 Axes>"
      ]
     },
     "metadata": {},
     "output_type": "display_data"
    }
   ],
   "source": [
    "sns.catplot(data=df,x='smoker',kind='count',hue='sex',color='Purple')\n",
    "plt.show()"
   ]
  },
  {
   "cell_type": "markdown",
   "id": "552e83fb",
   "metadata": {
    "papermill": {
     "duration": 0.052081,
     "end_time": "2022-07-06T08:26:50.063149",
     "exception": false,
     "start_time": "2022-07-06T08:26:50.011068",
     "status": "completed"
    },
    "tags": []
   },
   "source": [
    "## Charges with Smoker"
   ]
  },
  {
   "cell_type": "code",
   "execution_count": 93,
   "id": "f6b72a5a",
   "metadata": {
    "execution": {
     "iopub.execute_input": "2022-07-06T08:26:50.170916Z",
     "iopub.status.busy": "2022-07-06T08:26:50.170490Z",
     "iopub.status.idle": "2022-07-06T08:26:50.344817Z",
     "shell.execute_reply": "2022-07-06T08:26:50.343952Z"
    },
    "papermill": {
     "duration": 0.231916,
     "end_time": "2022-07-06T08:26:50.347251",
     "exception": false,
     "start_time": "2022-07-06T08:26:50.115335",
     "status": "completed"
    },
    "tags": []
   },
   "outputs": [
    {
     "data": {
      "image/png": "[encoded data removed]",
      "text/plain": [
       "<Figure size 640x480 with 1 Axes>"
      ]
     },
     "metadata": {},
     "output_type": "display_data"
    }
   ],
   "source": [
    "sns.scatterplot(y='charges',x='smoker',data=df)\n",
    "plt.show()"
   ]
  },
  {
   "cell_type": "markdown",
   "id": "8df6d08d",
   "metadata": {
    "papermill": {
     "duration": 0.051226,
     "end_time": "2022-07-06T08:26:50.449874",
     "exception": false,
     "start_time": "2022-07-06T08:26:50.398648",
     "status": "completed"
    },
    "tags": []
   },
   "source": [
    "## Distribution Plot for Age column"
   ]
  },
  {
   "cell_type": "code",
   "execution_count": 94,
   "id": "bf492d1f",
   "metadata": {
    "execution": {
     "iopub.execute_input": "2022-07-06T08:26:50.555137Z",
     "iopub.status.busy": "2022-07-06T08:26:50.554757Z",
     "iopub.status.idle": "2022-07-06T08:26:50.861163Z",
     "shell.execute_reply": "2022-07-06T08:26:50.859894Z"
    },
    "papermill": {
     "duration": 0.361829,
     "end_time": "2022-07-06T08:26:50.863947",
     "exception": false,
     "start_time": "2022-07-06T08:26:50.502118",
     "status": "completed"
    },
    "tags": []
   },
   "outputs": [
    {
     "data": {
      "image/png": "[encoded data removed]",
      "text/plain": [
       "<Figure size 500x500 with 1 Axes>"
      ]
     },
     "metadata": {},
     "output_type": "display_data"
    }
   ],
   "source": [
    "sns.displot(df.age.dropna(axis=0),kde=True)\n",
    "plt.show()"
   ]
  },
  {
   "cell_type": "markdown",
   "id": "c747a827",
   "metadata": {
    "papermill": {
     "duration": 0.051064,
     "end_time": "2022-07-06T08:26:50.966746",
     "exception": false,
     "start_time": "2022-07-06T08:26:50.915682",
     "status": "completed"
    },
    "tags": []
   },
   "source": [
    "# Heat Map"
   ]
  },
  {
   "cell_type": "code",
   "execution_count": 95,
   "id": "136f105d",
   "metadata": {
    "execution": {
     "iopub.execute_input": "2022-07-06T08:26:51.074415Z",
     "iopub.status.busy": "2022-07-06T08:26:51.073712Z",
     "iopub.status.idle": "2022-07-06T08:26:51.348540Z",
     "shell.execute_reply": "2022-07-06T08:26:51.347349Z"
    },
    "papermill": {
     "duration": 0.331897,
     "end_time": "2022-07-06T08:26:51.351360",
     "exception": false,
     "start_time": "2022-07-06T08:26:51.019463",
     "status": "completed"
    },
    "tags": []
   },
   "outputs": [
    {
     "data": {
      "image/png": "[encoded data removed]",
      "text/plain": [
       "<Figure size 800x700 with 2 Axes>"
      ]
     },
     "metadata": {},
     "output_type": "display_data"
    }
   ],
   "source": [
    "plt.figure(figsize=(8,7))\n",
    "sns.heatmap(df.corr(),annot=True,cmap='Blues')\n",
    "plt.title(\"Heatmap\")\n",
    "plt.show()"
   ]
  },
  {
   "cell_type": "code",
   "execution_count": 96,
   "id": "094c817d",
   "metadata": {
    "execution": {
     "iopub.execute_input": "2022-07-06T08:26:51.459954Z",
     "iopub.status.busy": "2022-07-06T08:26:51.459256Z",
     "iopub.status.idle": "2022-07-06T08:26:51.468200Z",
     "shell.execute_reply": "2022-07-06T08:26:51.467384Z"
    },
    "papermill": {
     "duration": 0.065342,
     "end_time": "2022-07-06T08:26:51.470515",
     "exception": false,
     "start_time": "2022-07-06T08:26:51.405173",
     "status": "completed"
    },
    "tags": []
   },
   "outputs": [
    {
     "data": {
      "text/plain": [
       "children    0.067998\n",
       "bmi         0.198341\n",
       "age         0.299008\n",
       "charges     1.000000\n",
       "Name: charges, dtype: float64"
      ]
     },
     "execution_count": 96,
     "metadata": {},
     "output_type": "execute_result"
    }
   ],
   "source": [
    "df.corr()['charges'].sort_values()"
   ]
  },
  {
   "cell_type": "markdown",
   "id": "51d32bc0",
   "metadata": {
    "papermill": {
     "duration": 0.053068,
     "end_time": "2022-07-06T08:26:51.577276",
     "exception": false,
     "start_time": "2022-07-06T08:26:51.524208",
     "status": "completed"
    },
    "tags": []
   },
   "source": [
    "There is a strong correlation betweeen the age and the target variable charges"
   ]
  },
  {
   "cell_type": "markdown",
   "id": "176177d1",
   "metadata": {
    "papermill": {
     "duration": 0.053931,
     "end_time": "2022-07-06T08:26:51.684479",
     "exception": false,
     "start_time": "2022-07-06T08:26:51.630548",
     "status": "completed"
    },
    "tags": []
   },
   "source": [
    "# Box Plot to check the Outliers"
   ]
  },
  {
   "cell_type": "code",
   "execution_count": 97,
   "id": "feb4d9ef",
   "metadata": {
    "execution": {
     "iopub.execute_input": "2022-07-06T08:26:51.794090Z",
     "iopub.status.busy": "2022-07-06T08:26:51.792890Z",
     "iopub.status.idle": "2022-07-06T08:26:51.800975Z",
     "shell.execute_reply": "2022-07-06T08:26:51.800011Z"
    },
    "papermill": {
     "duration": 0.065387,
     "end_time": "2022-07-06T08:26:51.803702",
     "exception": false,
     "start_time": "2022-07-06T08:26:51.738315",
     "status": "completed"
    },
    "tags": []
   },
   "outputs": [
    {
     "data": {
      "text/plain": [
       "Index(['age', 'sex', 'bmi', 'children', 'smoker', 'region', 'charges'], dtype='object')"
      ]
     },
     "execution_count": 97,
     "metadata": {},
     "output_type": "execute_result"
    }
   ],
   "source": [
    "df.columns"
   ]
  },
  {
   "cell_type": "code",
   "execution_count": 98,
   "id": "76e9999e",
   "metadata": {
    "execution": {
     "iopub.execute_input": "2022-07-06T08:26:51.912522Z",
     "iopub.status.busy": "2022-07-06T08:26:51.911870Z",
     "iopub.status.idle": "2022-07-06T08:26:52.428677Z",
     "shell.execute_reply": "2022-07-06T08:26:52.427762Z"
    },
    "papermill": {
     "duration": 0.573333,
     "end_time": "2022-07-06T08:26:52.430837",
     "exception": false,
     "start_time": "2022-07-06T08:26:51.857504",
     "status": "completed"
    },
    "scrolled": true,
    "tags": []
   },
   "outputs": [
    {
     "data": {
      "image/png": "[encoded data removed]",
      "text/plain": [
       "<Figure size 1000x1800 with 3 Axes>"
      ]
     },
     "metadata": {},
     "output_type": "display_data"
    }
   ],
   "source": [
    "## Lets check outliers in any\n",
    "box=df[['age','bmi','children']]\n",
    "plt.figure(figsize=(10,18), facecolor='white')#to sey canvas size\n",
    "plotnumber = 1#counter\n",
    "\n",
    "for column in box:\n",
    "    if plotnumber<=6 : \n",
    "        ax = plt.subplot(4,1,plotnumber)\n",
    "        sns.boxplot(x=box[column])\n",
    "        plt.xlabel(column,fontsize=20)\n",
    "        #plt.ylabel('Salary',fontsize=20)\n",
    "    plotnumber+=1#counter increment \n",
    "plt.show()"
   ]
  },
  {
   "cell_type": "markdown",
   "id": "92336bc2",
   "metadata": {
    "papermill": {
     "duration": 0.05518,
     "end_time": "2022-07-06T08:26:52.541398",
     "exception": false,
     "start_time": "2022-07-06T08:26:52.486218",
     "status": "completed"
    },
    "tags": []
   },
   "source": [
    "There is outliers in the bmi feature        "
   ]
  },
  {
   "cell_type": "code",
   "execution_count": 99,
   "id": "4e05f4ee",
   "metadata": {
    "execution": {
     "iopub.execute_input": "2022-07-06T08:26:52.651404Z",
     "iopub.status.busy": "2022-07-06T08:26:52.650730Z",
     "iopub.status.idle": "2022-07-06T08:26:52.861897Z",
     "shell.execute_reply": "2022-07-06T08:26:52.860952Z"
    },
    "papermill": {
     "duration": 0.268831,
     "end_time": "2022-07-06T08:26:52.864227",
     "exception": false,
     "start_time": "2022-07-06T08:26:52.595396",
     "status": "completed"
    },
    "tags": []
   },
   "outputs": [
    {
     "data": {
      "image/png": "[encoded data removed]",
      "text/plain": [
       "<Figure size 1200x500 with 1 Axes>"
      ]
     },
     "metadata": {},
     "output_type": "display_data"
    }
   ],
   "source": [
    "plt.figure(figsize=(12,5))\n",
    "plt.title(\"Distribution of bmi\")\n",
    "ax = sns.distplot(df[\"bmi\"], color = 'b')"
   ]
  },
  {
   "cell_type": "markdown",
   "id": "c4209e55",
   "metadata": {
    "papermill": {
     "duration": 0.053563,
     "end_time": "2022-07-06T08:26:52.971120",
     "exception": false,
     "start_time": "2022-07-06T08:26:52.917557",
     "status": "completed"
    },
    "tags": []
   },
   "source": [
    "If your BMI is 18.5 to 24.9, it falls within the normal or Healthy Weight range. If your BMI is 25.0 to 29.9, it falls within the overweight range. If your BMI is 30.0 or higher, it falls within the obese range."
   ]
  },
  {
   "cell_type": "code",
   "execution_count": 100,
   "id": "288fa5a4",
   "metadata": {
    "execution": {
     "iopub.execute_input": "2022-07-06T08:26:53.081709Z",
     "iopub.status.busy": "2022-07-06T08:26:53.081008Z",
     "iopub.status.idle": "2022-07-06T08:26:53.272347Z",
     "shell.execute_reply": "2022-07-06T08:26:53.270911Z"
    },
    "papermill": {
     "duration": 0.250601,
     "end_time": "2022-07-06T08:26:53.274897",
     "exception": false,
     "start_time": "2022-07-06T08:26:53.024296",
     "status": "completed"
    },
    "tags": []
   },
   "outputs": [
    {
     "data": {
      "image/png": "[encoded data removed]",
      "text/plain": [
       "<Figure size 1500x500 with 1 Axes>"
      ]
     },
     "metadata": {},
     "output_type": "display_data"
    }
   ],
   "source": [
    "plt.figure(figsize=(15,5))\n",
    "plt.title(\"Distribution of charges for patients with BMI greater than 30\")\n",
    "sns.distplot(df[(df.bmi >= 30)]['charges'], color = 'g')\n",
    "plt.show()"
   ]
  },
  {
   "cell_type": "code",
   "execution_count": 101,
   "id": "adae7efe",
   "metadata": {
    "execution": {
     "iopub.execute_input": "2022-07-06T08:26:53.384673Z",
     "iopub.status.busy": "2022-07-06T08:26:53.384262Z",
     "iopub.status.idle": "2022-07-06T08:26:53.573094Z",
     "shell.execute_reply": "2022-07-06T08:26:53.571772Z"
    },
    "papermill": {
     "duration": 0.24735,
     "end_time": "2022-07-06T08:26:53.575861",
     "exception": false,
     "start_time": "2022-07-06T08:26:53.328511",
     "status": "completed"
    },
    "tags": []
   },
   "outputs": [
    {
     "data": {
      "image/png": "[encoded data removed]",
      "text/plain": [
       "<Figure size 1500x500 with 1 Axes>"
      ]
     },
     "metadata": {},
     "output_type": "display_data"
    }
   ],
   "source": [
    "plt.figure(figsize=(15,5))\n",
    "sns.distplot(df[(df.bmi<30)]['charges'])\n",
    "plt.show()"
   ]
  },
  {
   "cell_type": "markdown",
   "id": "00e16ffa",
   "metadata": {
    "papermill": {
     "duration": 0.053848,
     "end_time": "2022-07-06T08:26:53.684669",
     "exception": false,
     "start_time": "2022-07-06T08:26:53.630821",
     "status": "completed"
    },
    "tags": []
   },
   "source": [
    "# Label-Encoding"
   ]
  },
  {
   "cell_type": "code",
   "execution_count": 102,
   "id": "69cc5902",
   "metadata": {
    "execution": {
     "iopub.execute_input": "2022-07-06T08:26:53.796569Z",
     "iopub.status.busy": "2022-07-06T08:26:53.796156Z",
     "iopub.status.idle": "2022-07-06T08:26:53.955418Z",
     "shell.execute_reply": "2022-07-06T08:26:53.954200Z"
    },
    "papermill": {
     "duration": 0.219227,
     "end_time": "2022-07-06T08:26:53.958315",
     "exception": false,
     "start_time": "2022-07-06T08:26:53.739088",
     "status": "completed"
    },
    "tags": []
   },
   "outputs": [],
   "source": [
    "#label encoding is done by importing the label encoder from library\n",
    "from sklearn.preprocessing import LabelEncoder\n",
    "#sex\n",
    "le = LabelEncoder()\n",
    "le.fit(df.sex.drop_duplicates()) \n",
    "df.sex = le.transform(df.sex)\n",
    "# smoker or not\n",
    "le.fit(df.smoker.drop_duplicates()) \n",
    "df.smoker = le.transform(df.smoker)\n",
    "#region\n",
    "le.fit(df.region.drop_duplicates()) \n",
    "df.region = le.transform(df.region)"
   ]
  },
  {
   "cell_type": "code",
   "execution_count": 103,
   "id": "5362f90c",
   "metadata": {
    "execution": {
     "iopub.execute_input": "2022-07-06T08:26:54.075475Z",
     "iopub.status.busy": "2022-07-06T08:26:54.075081Z",
     "iopub.status.idle": "2022-07-06T08:26:54.095705Z",
     "shell.execute_reply": "2022-07-06T08:26:54.094264Z"
    },
    "papermill": {
     "duration": 0.08408,
     "end_time": "2022-07-06T08:26:54.098902",
     "exception": false,
     "start_time": "2022-07-06T08:26:54.014822",
     "status": "completed"
    },
    "tags": []
   },
   "outputs": [
    {
     "data": {
      "text/html": [
       "<div>\n",
       "<style scoped>\n",
       "    .dataframe tbody tr th:only-of-type {\n",
       "        vertical-align: middle;\n",
       "    }\n",
       "\n",
       "    .dataframe tbody tr th {\n",
       "        vertical-align: top;\n",
       "    }\n",
       "\n",
       "    .dataframe thead th {\n",
       "        text-align: right;\n",
       "    }\n",
       "</style>\n",
       "<table border=\"1\" class=\"dataframe\">\n",
       "  <thead>\n",
       "    <tr style=\"text-align: right;\">\n",
       "      <th></th>\n",
       "      <th>age</th>\n",
       "      <th>sex</th>\n",
       "      <th>bmi</th>\n",
       "      <th>children</th>\n",
       "      <th>smoker</th>\n",
       "      <th>region</th>\n",
       "      <th>charges</th>\n",
       "    </tr>\n",
       "  </thead>\n",
       "  <tbody>\n",
       "    <tr>\n",
       "      <th>0</th>\n",
       "      <td>19</td>\n",
       "      <td>0</td>\n",
       "      <td>27.900</td>\n",
       "      <td>0</td>\n",
       "      <td>1</td>\n",
       "      <td>3</td>\n",
       "      <td>16884.92400</td>\n",
       "    </tr>\n",
       "    <tr>\n",
       "      <th>1</th>\n",
       "      <td>18</td>\n",
       "      <td>1</td>\n",
       "      <td>33.770</td>\n",
       "      <td>1</td>\n",
       "      <td>0</td>\n",
       "      <td>2</td>\n",
       "      <td>1725.55230</td>\n",
       "    </tr>\n",
       "    <tr>\n",
       "      <th>2</th>\n",
       "      <td>28</td>\n",
       "      <td>1</td>\n",
       "      <td>33.000</td>\n",
       "      <td>3</td>\n",
       "      <td>0</td>\n",
       "      <td>2</td>\n",
       "      <td>4449.46200</td>\n",
       "    </tr>\n",
       "    <tr>\n",
       "      <th>3</th>\n",
       "      <td>33</td>\n",
       "      <td>1</td>\n",
       "      <td>22.705</td>\n",
       "      <td>0</td>\n",
       "      <td>0</td>\n",
       "      <td>1</td>\n",
       "      <td>21984.47061</td>\n",
       "    </tr>\n",
       "    <tr>\n",
       "      <th>4</th>\n",
       "      <td>32</td>\n",
       "      <td>1</td>\n",
       "      <td>28.880</td>\n",
       "      <td>0</td>\n",
       "      <td>0</td>\n",
       "      <td>1</td>\n",
       "      <td>3866.85520</td>\n",
       "    </tr>\n",
       "    <tr>\n",
       "      <th>...</th>\n",
       "      <td>...</td>\n",
       "      <td>...</td>\n",
       "      <td>...</td>\n",
       "      <td>...</td>\n",
       "      <td>...</td>\n",
       "      <td>...</td>\n",
       "      <td>...</td>\n",
       "    </tr>\n",
       "    <tr>\n",
       "      <th>1333</th>\n",
       "      <td>50</td>\n",
       "      <td>1</td>\n",
       "      <td>30.970</td>\n",
       "      <td>3</td>\n",
       "      <td>0</td>\n",
       "      <td>1</td>\n",
       "      <td>10600.54830</td>\n",
       "    </tr>\n",
       "    <tr>\n",
       "      <th>1334</th>\n",
       "      <td>18</td>\n",
       "      <td>0</td>\n",
       "      <td>31.920</td>\n",
       "      <td>0</td>\n",
       "      <td>0</td>\n",
       "      <td>0</td>\n",
       "      <td>2205.98080</td>\n",
       "    </tr>\n",
       "    <tr>\n",
       "      <th>1335</th>\n",
       "      <td>18</td>\n",
       "      <td>0</td>\n",
       "      <td>36.850</td>\n",
       "      <td>0</td>\n",
       "      <td>0</td>\n",
       "      <td>2</td>\n",
       "      <td>1629.83350</td>\n",
       "    </tr>\n",
       "    <tr>\n",
       "      <th>1336</th>\n",
       "      <td>21</td>\n",
       "      <td>0</td>\n",
       "      <td>25.800</td>\n",
       "      <td>0</td>\n",
       "      <td>0</td>\n",
       "      <td>3</td>\n",
       "      <td>2007.94500</td>\n",
       "    </tr>\n",
       "    <tr>\n",
       "      <th>1337</th>\n",
       "      <td>61</td>\n",
       "      <td>0</td>\n",
       "      <td>29.070</td>\n",
       "      <td>0</td>\n",
       "      <td>1</td>\n",
       "      <td>1</td>\n",
       "      <td>29141.36030</td>\n",
       "    </tr>\n",
       "  </tbody>\n",
       "</table>\n",
       "<p>1338 rows × 7 columns</p>\n",
       "</div>"
      ],
      "text/plain": [
       "      age  sex     bmi  children  smoker  region      charges\n",
       "0      19    0  27.900         0       1       3  16884.92400\n",
       "1      18    1  33.770         1       0       2   1725.55230\n",
       "2      28    1  33.000         3       0       2   4449.46200\n",
       "3      33    1  22.705         0       0       1  21984.47061\n",
       "4      32    1  28.880         0       0       1   3866.85520\n",
       "...   ...  ...     ...       ...     ...     ...          ...\n",
       "1333   50    1  30.970         3       0       1  10600.54830\n",
       "1334   18    0  31.920         0       0       0   2205.98080\n",
       "1335   18    0  36.850         0       0       2   1629.83350\n",
       "1336   21    0  25.800         0       0       3   2007.94500\n",
       "1337   61    0  29.070         0       1       1  29141.36030\n",
       "\n",
       "[1338 rows x 7 columns]"
      ]
     },
     "execution_count": 103,
     "metadata": {},
     "output_type": "execute_result"
    }
   ],
   "source": [
    "df"
   ]
  },
  {
   "cell_type": "markdown",
   "id": "b2147bd7",
   "metadata": {
    "papermill": {
     "duration": 0.063725,
     "end_time": "2022-07-06T08:26:54.220440",
     "exception": false,
     "start_time": "2022-07-06T08:26:54.156715",
     "status": "completed"
    },
    "tags": []
   },
   "source": [
    "The label has been encoded in this order"
   ]
  },
  {
   "cell_type": "markdown",
   "id": "ba2b3a07",
   "metadata": {
    "papermill": {
     "duration": 0.053916,
     "end_time": "2022-07-06T08:26:54.666350",
     "exception": false,
     "start_time": "2022-07-06T08:26:54.612434",
     "status": "completed"
    },
    "tags": []
   },
   "source": [
    "# Train Test Split"
   ]
  },
  {
   "cell_type": "code",
   "execution_count": 104,
   "id": "c8319ee2",
   "metadata": {
    "execution": {
     "iopub.execute_input": "2022-07-06T08:26:54.776016Z",
     "iopub.status.busy": "2022-07-06T08:26:54.775589Z",
     "iopub.status.idle": "2022-07-06T08:26:54.783646Z",
     "shell.execute_reply": "2022-07-06T08:26:54.782740Z"
    },
    "papermill": {
     "duration": 0.065943,
     "end_time": "2022-07-06T08:26:54.785990",
     "exception": false,
     "start_time": "2022-07-06T08:26:54.720047",
     "status": "completed"
    },
    "tags": []
   },
   "outputs": [],
   "source": [
    "x=df.drop(['charges'],axis=1)\n",
    "y=df.charges"
   ]
  },
  {
   "cell_type": "code",
   "execution_count": 105,
   "id": "d215cc21",
   "metadata": {
    "execution": {
     "iopub.execute_input": "2022-07-06T08:26:54.896576Z",
     "iopub.status.busy": "2022-07-06T08:26:54.896202Z",
     "iopub.status.idle": "2022-07-06T08:26:54.912379Z",
     "shell.execute_reply": "2022-07-06T08:26:54.910932Z"
    },
    "papermill": {
     "duration": 0.074648,
     "end_time": "2022-07-06T08:26:54.914679",
     "exception": false,
     "start_time": "2022-07-06T08:26:54.840031",
     "status": "completed"
    },
    "tags": []
   },
   "outputs": [
    {
     "data": {
      "text/html": [
       "<div>\n",
       "<style scoped>\n",
       "    .dataframe tbody tr th:only-of-type {\n",
       "        vertical-align: middle;\n",
       "    }\n",
       "\n",
       "    .dataframe tbody tr th {\n",
       "        vertical-align: top;\n",
       "    }\n",
       "\n",
       "    .dataframe thead th {\n",
       "        text-align: right;\n",
       "    }\n",
       "</style>\n",
       "<table border=\"1\" class=\"dataframe\">\n",
       "  <thead>\n",
       "    <tr style=\"text-align: right;\">\n",
       "      <th></th>\n",
       "      <th>age</th>\n",
       "      <th>sex</th>\n",
       "      <th>bmi</th>\n",
       "      <th>children</th>\n",
       "      <th>smoker</th>\n",
       "      <th>region</th>\n",
       "    </tr>\n",
       "  </thead>\n",
       "  <tbody>\n",
       "    <tr>\n",
       "      <th>0</th>\n",
       "      <td>19</td>\n",
       "      <td>0</td>\n",
       "      <td>27.900</td>\n",
       "      <td>0</td>\n",
       "      <td>1</td>\n",
       "      <td>3</td>\n",
       "    </tr>\n",
       "    <tr>\n",
       "      <th>1</th>\n",
       "      <td>18</td>\n",
       "      <td>1</td>\n",
       "      <td>33.770</td>\n",
       "      <td>1</td>\n",
       "      <td>0</td>\n",
       "      <td>2</td>\n",
       "    </tr>\n",
       "    <tr>\n",
       "      <th>2</th>\n",
       "      <td>28</td>\n",
       "      <td>1</td>\n",
       "      <td>33.000</td>\n",
       "      <td>3</td>\n",
       "      <td>0</td>\n",
       "      <td>2</td>\n",
       "    </tr>\n",
       "    <tr>\n",
       "      <th>3</th>\n",
       "      <td>33</td>\n",
       "      <td>1</td>\n",
       "      <td>22.705</td>\n",
       "      <td>0</td>\n",
       "      <td>0</td>\n",
       "      <td>1</td>\n",
       "    </tr>\n",
       "    <tr>\n",
       "      <th>4</th>\n",
       "      <td>32</td>\n",
       "      <td>1</td>\n",
       "      <td>28.880</td>\n",
       "      <td>0</td>\n",
       "      <td>0</td>\n",
       "      <td>1</td>\n",
       "    </tr>\n",
       "    <tr>\n",
       "      <th>...</th>\n",
       "      <td>...</td>\n",
       "      <td>...</td>\n",
       "      <td>...</td>\n",
       "      <td>...</td>\n",
       "      <td>...</td>\n",
       "      <td>...</td>\n",
       "    </tr>\n",
       "    <tr>\n",
       "      <th>1333</th>\n",
       "      <td>50</td>\n",
       "      <td>1</td>\n",
       "      <td>30.970</td>\n",
       "      <td>3</td>\n",
       "      <td>0</td>\n",
       "      <td>1</td>\n",
       "    </tr>\n",
       "    <tr>\n",
       "      <th>1334</th>\n",
       "      <td>18</td>\n",
       "      <td>0</td>\n",
       "      <td>31.920</td>\n",
       "      <td>0</td>\n",
       "      <td>0</td>\n",
       "      <td>0</td>\n",
       "    </tr>\n",
       "    <tr>\n",
       "      <th>1335</th>\n",
       "      <td>18</td>\n",
       "      <td>0</td>\n",
       "      <td>36.850</td>\n",
       "      <td>0</td>\n",
       "      <td>0</td>\n",
       "      <td>2</td>\n",
       "    </tr>\n",
       "    <tr>\n",
       "      <th>1336</th>\n",
       "      <td>21</td>\n",
       "      <td>0</td>\n",
       "      <td>25.800</td>\n",
       "      <td>0</td>\n",
       "      <td>0</td>\n",
       "      <td>3</td>\n",
       "    </tr>\n",
       "    <tr>\n",
       "      <th>1337</th>\n",
       "      <td>61</td>\n",
       "      <td>0</td>\n",
       "      <td>29.070</td>\n",
       "      <td>0</td>\n",
       "      <td>1</td>\n",
       "      <td>1</td>\n",
       "    </tr>\n",
       "  </tbody>\n",
       "</table>\n",
       "<p>1338 rows × 6 columns</p>\n",
       "</div>"
      ],
      "text/plain": [
       "      age  sex     bmi  children  smoker  region\n",
       "0      19    0  27.900         0       1       3\n",
       "1      18    1  33.770         1       0       2\n",
       "2      28    1  33.000         3       0       2\n",
       "3      33    1  22.705         0       0       1\n",
       "4      32    1  28.880         0       0       1\n",
       "...   ...  ...     ...       ...     ...     ...\n",
       "1333   50    1  30.970         3       0       1\n",
       "1334   18    0  31.920         0       0       0\n",
       "1335   18    0  36.850         0       0       2\n",
       "1336   21    0  25.800         0       0       3\n",
       "1337   61    0  29.070         0       1       1\n",
       "\n",
       "[1338 rows x 6 columns]"
      ]
     },
     "execution_count": 105,
     "metadata": {},
     "output_type": "execute_result"
    }
   ],
   "source": [
    "x"
   ]
  },
  {
   "cell_type": "code",
   "execution_count": 106,
   "id": "426f4be4",
   "metadata": {
    "execution": {
     "iopub.execute_input": "2022-07-06T08:26:55.026982Z",
     "iopub.status.busy": "2022-07-06T08:26:55.026524Z",
     "iopub.status.idle": "2022-07-06T08:26:55.035209Z",
     "shell.execute_reply": "2022-07-06T08:26:55.034297Z"
    },
    "papermill": {
     "duration": 0.067969,
     "end_time": "2022-07-06T08:26:55.037327",
     "exception": false,
     "start_time": "2022-07-06T08:26:54.969358",
     "status": "completed"
    },
    "tags": []
   },
   "outputs": [
    {
     "data": {
      "text/plain": [
       "0       16884.92400\n",
       "1        1725.55230\n",
       "2        4449.46200\n",
       "3       21984.47061\n",
       "4        3866.85520\n",
       "           ...     \n",
       "1333    10600.54830\n",
       "1334     2205.98080\n",
       "1335     1629.83350\n",
       "1336     2007.94500\n",
       "1337    29141.36030\n",
       "Name: charges, Length: 1338, dtype: float64"
      ]
     },
     "execution_count": 106,
     "metadata": {},
     "output_type": "execute_result"
    }
   ],
   "source": [
    "y"
   ]
  },
  {
   "cell_type": "markdown",
   "id": "e7c35bf1",
   "metadata": {
    "papermill": {
     "duration": 0.05456,
     "end_time": "2022-07-06T08:26:55.147234",
     "exception": false,
     "start_time": "2022-07-06T08:26:55.092674",
     "status": "completed"
    },
    "tags": []
   },
   "source": [
    "# Pre-Processing"
   ]
  },
  {
   "cell_type": "code",
   "execution_count": 107,
   "id": "23b57489",
   "metadata": {
    "execution": {
     "iopub.execute_input": "2022-07-06T08:26:55.260948Z",
     "iopub.status.busy": "2022-07-06T08:26:55.260532Z",
     "iopub.status.idle": "2022-07-06T08:26:55.270319Z",
     "shell.execute_reply": "2022-07-06T08:26:55.269098Z"
    },
    "papermill": {
     "duration": 0.068596,
     "end_time": "2022-07-06T08:26:55.272749",
     "exception": false,
     "start_time": "2022-07-06T08:26:55.204153",
     "status": "completed"
    },
    "tags": []
   },
   "outputs": [],
   "source": [
    "from sklearn.preprocessing import StandardScaler\n",
    "sc=StandardScaler()\n",
    "scaled_x=sc.fit_transform(x)"
   ]
  },
  {
   "cell_type": "code",
   "execution_count": 108,
   "id": "dd710662",
   "metadata": {
    "execution": {
     "iopub.execute_input": "2022-07-06T08:26:55.384640Z",
     "iopub.status.busy": "2022-07-06T08:26:55.384270Z",
     "iopub.status.idle": "2022-07-06T08:26:55.450555Z",
     "shell.execute_reply": "2022-07-06T08:26:55.449555Z"
    },
    "papermill": {
     "duration": 0.125101,
     "end_time": "2022-07-06T08:26:55.453069",
     "exception": false,
     "start_time": "2022-07-06T08:26:55.327968",
     "status": "completed"
    },
    "tags": []
   },
   "outputs": [],
   "source": [
    "from sklearn.model_selection import train_test_split"
   ]
  },
  {
   "cell_type": "code",
   "execution_count": 147,
   "id": "d7bde81d",
   "metadata": {
    "execution": {
     "iopub.execute_input": "2022-07-06T08:26:55.566358Z",
     "iopub.status.busy": "2022-07-06T08:26:55.565937Z",
     "iopub.status.idle": "2022-07-06T08:26:55.572262Z",
     "shell.execute_reply": "2022-07-06T08:26:55.571304Z"
    },
    "papermill": {
     "duration": 0.064859,
     "end_time": "2022-07-06T08:26:55.574504",
     "exception": false,
     "start_time": "2022-07-06T08:26:55.509645",
     "status": "completed"
    },
    "tags": []
   },
   "outputs": [],
   "source": [
    "x_train,x_test,y_train,y_test=train_test_split(scaled_x,y,random_state=0)"
   ]
  },
  {
   "cell_type": "code",
   "execution_count": 110,
   "id": "87bfe880",
   "metadata": {},
   "outputs": [],
   "source": [
    "#from sklearn.model_selection import train_test_split\n",
    "\n",
    "# Assuming 'X' is your feature matrix and 'y' is your target variable\n",
    "\n",
    "# Splitting the data into training and testing sets\n",
    "#x_train, x_test, y_train, y_test = train_test_split(x, y, test_size=0.2, random_state=42)\n",
    "\n",
    "# Rest of the code for fitting the classifier\n"
   ]
  },
  {
   "cell_type": "code",
   "execution_count": 148,
   "id": "08d2db17",
   "metadata": {
    "execution": {
     "iopub.execute_input": "2022-07-06T08:26:55.686027Z",
     "iopub.status.busy": "2022-07-06T08:26:55.685428Z",
     "iopub.status.idle": "2022-07-06T08:26:55.691820Z",
     "shell.execute_reply": "2022-07-06T08:26:55.690806Z"
    },
    "papermill": {
     "duration": 0.064817,
     "end_time": "2022-07-06T08:26:55.694052",
     "exception": false,
     "start_time": "2022-07-06T08:26:55.629235",
     "status": "completed"
    },
    "tags": []
   },
   "outputs": [
    {
     "data": {
      "text/plain": [
       "array([[-0.51314879, -1.0105187 , -0.17608483, -0.07876719, -0.5074631 ,\n",
       "         0.43849455],\n",
       "       [ 1.55168573, -1.0105187 , -1.41462066, -0.90861367, -0.5074631 ,\n",
       "        -1.37232554],\n",
       "       [-1.43876426,  0.98959079, -0.99466679, -0.07876719, -0.5074631 ,\n",
       "         1.34390459],\n",
       "       ...,\n",
       "       [ 0.05646073,  0.98959079, -0.91592544, -0.90861367, -0.5074631 ,\n",
       "         0.43849455],\n",
       "       [-1.43876426,  0.98959079,  0.79833938, -0.90861367, -0.5074631 ,\n",
       "        -0.46691549],\n",
       "       [-0.4419476 , -1.0105187 , -1.99533811, -0.07876719, -0.5074631 ,\n",
       "         1.34390459]])"
      ]
     },
     "execution_count": 148,
     "metadata": {},
     "output_type": "execute_result"
    }
   ],
   "source": [
    "x_train"
   ]
  },
  {
   "cell_type": "code",
   "execution_count": 149,
   "id": "cfe952f9",
   "metadata": {
    "execution": {
     "iopub.execute_input": "2022-07-06T08:26:55.806848Z",
     "iopub.status.busy": "2022-07-06T08:26:55.806214Z",
     "iopub.status.idle": "2022-07-06T08:26:55.812701Z",
     "shell.execute_reply": "2022-07-06T08:26:55.811910Z"
    },
    "papermill": {
     "duration": 0.065964,
     "end_time": "2022-07-06T08:26:55.815075",
     "exception": false,
     "start_time": "2022-07-06T08:26:55.749111",
     "status": "completed"
    },
    "tags": []
   },
   "outputs": [
    {
     "data": {
      "text/plain": [
       "array([[ 0.91087502,  0.98959079, -0.0760177 , -0.07876719, -0.5074631 ,\n",
       "         1.34390459],\n",
       "       [ 0.55486907, -1.0105187 , -0.21217462, -0.07876719, -0.5074631 ,\n",
       "         0.43849455],\n",
       "       [ 0.62607026,  0.98959079,  1.62430334,  0.75107928,  1.97058663,\n",
       "        -0.46691549],\n",
       "       ...,\n",
       "       [ 0.83967383,  0.98959079, -0.10390526, -0.07876719, -0.5074631 ,\n",
       "         0.43849455],\n",
       "       [-1.1539595 ,  0.98959079,  1.05588922,  1.58092576, -0.5074631 ,\n",
       "         1.34390459],\n",
       "       [ 1.55168573, -1.0105187 , -0.26138796, -0.90861367,  1.97058663,\n",
       "        -0.46691549]])"
      ]
     },
     "execution_count": 149,
     "metadata": {},
     "output_type": "execute_result"
    }
   ],
   "source": [
    "x_test"
   ]
  },
  {
   "cell_type": "code",
   "execution_count": 150,
   "id": "3caf6ddd",
   "metadata": {},
   "outputs": [
    {
     "data": {
      "text/plain": [
       "578      9724.53000\n",
       "610      8547.69130\n",
       "569     45702.02235\n",
       "1034    12950.07120\n",
       "198      9644.25250\n",
       "           ...     \n",
       "574     13224.05705\n",
       "1174     4433.91590\n",
       "1327     9377.90470\n",
       "817      3597.59600\n",
       "1337    29141.36030\n",
       "Name: charges, Length: 335, dtype: float64"
      ]
     },
     "execution_count": 150,
     "metadata": {},
     "output_type": "execute_result"
    }
   ],
   "source": [
    "y_test"
   ]
  },
  {
   "cell_type": "code",
   "execution_count": 151,
   "id": "9a4684d5",
   "metadata": {},
   "outputs": [
    {
     "data": {
      "text/plain": [
       "1075     4562.84210\n",
       "131     13616.35860\n",
       "15       1837.23700\n",
       "1223    26125.67477\n",
       "1137     3176.28770\n",
       "           ...     \n",
       "763      3070.80870\n",
       "835      7160.33030\n",
       "1216     5415.66120\n",
       "559      1646.42970\n",
       "684      4766.02200\n",
       "Name: charges, Length: 1003, dtype: float64"
      ]
     },
     "execution_count": 151,
     "metadata": {},
     "output_type": "execute_result"
    }
   ],
   "source": [
    "y_train"
   ]
  },
  {
   "cell_type": "code",
   "execution_count": 153,
   "id": "04e82ff9",
   "metadata": {},
   "outputs": [
    {
     "name": "stdout",
     "output_type": "stream",
     "text": [
      "(1003, 6)\n"
     ]
    }
   ],
   "source": [
    "print(x_train.shape)"
   ]
  },
  {
   "cell_type": "markdown",
   "id": "a6bea2b4",
   "metadata": {
    "papermill": {
     "duration": 0.056146,
     "end_time": "2022-07-06T08:26:55.929253",
     "exception": false,
     "start_time": "2022-07-06T08:26:55.873107",
     "status": "completed"
    },
    "tags": []
   },
   "source": [
    "# Model Building"
   ]
  },
  {
   "cell_type": "markdown",
   "id": "aa4a0f1b",
   "metadata": {},
   "source": [
    "## Linear Regression"
   ]
  },
  {
   "cell_type": "code",
   "execution_count": 155,
   "id": "e1575e3e",
   "metadata": {
    "execution": {
     "iopub.execute_input": "2022-07-06T08:26:56.042035Z",
     "iopub.status.busy": "2022-07-06T08:26:56.041415Z",
     "iopub.status.idle": "2022-07-06T08:26:56.125186Z",
     "shell.execute_reply": "2022-07-06T08:26:56.124126Z"
    },
    "papermill": {
     "duration": 0.142707,
     "end_time": "2022-07-06T08:26:56.127623",
     "exception": false,
     "start_time": "2022-07-06T08:26:55.984916",
     "status": "completed"
    },
    "tags": []
   },
   "outputs": [],
   "source": [
    "from sklearn.linear_model import LinearRegression"
   ]
  },
  {
   "cell_type": "code",
   "execution_count": 156,
   "id": "700c94c7",
   "metadata": {
    "execution": {
     "iopub.execute_input": "2022-07-06T08:26:56.242102Z",
     "iopub.status.busy": "2022-07-06T08:26:56.241627Z",
     "iopub.status.idle": "2022-07-06T08:26:56.245720Z",
     "shell.execute_reply": "2022-07-06T08:26:56.244906Z"
    },
    "papermill": {
     "duration": 0.063431,
     "end_time": "2022-07-06T08:26:56.247945",
     "exception": false,
     "start_time": "2022-07-06T08:26:56.184514",
     "status": "completed"
    },
    "tags": []
   },
   "outputs": [],
   "source": [
    "lr=LinearRegression()"
   ]
  },
  {
   "cell_type": "code",
   "execution_count": 157,
   "id": "6b509284",
   "metadata": {
    "execution": {
     "iopub.execute_input": "2022-07-06T08:26:56.364981Z",
     "iopub.status.busy": "2022-07-06T08:26:56.364365Z",
     "iopub.status.idle": "2022-07-06T08:26:56.384828Z",
     "shell.execute_reply": "2022-07-06T08:26:56.383984Z"
    },
    "papermill": {
     "duration": 0.082654,
     "end_time": "2022-07-06T08:26:56.387003",
     "exception": false,
     "start_time": "2022-07-06T08:26:56.304349",
     "status": "completed"
    },
    "tags": []
   },
   "outputs": [
    {
     "data": {
      "text/html": [
       "<style>#sk-container-id-3 {color: black;background-color: white;}#sk-container-id-3 pre{padding: 0;}#sk-container-id-3 div.sk-toggleable {background-color: white;}#sk-container-id-3 label.sk-toggleable__label {cursor: pointer;display: block;width: 100%;margin-bottom: 0;padding: 0.3em;box-sizing: border-box;text-align: center;}#sk-container-id-3 label.sk-toggleable__label-arrow:before {content: \"▸\";float: left;margin-right: 0.25em;color: #696969;}#sk-container-id-3 label.sk-toggleable__label-arrow:hover:before {color: black;}#sk-container-id-3 div.sk-estimator:hover label.sk-toggleable__label-arrow:before {color: black;}#sk-container-id-3 div.sk-toggleable__content {max-height: 0;max-width: 0;overflow: hidden;text-align: left;background-color: #f0f8ff;}#sk-container-id-3 div.sk-toggleable__content pre {margin: 0.2em;color: black;border-radius: 0.25em;background-color: #f0f8ff;}#sk-container-id-3 input.sk-toggleable__control:checked~div.sk-toggleable__content {max-height: 200px;max-width: 100%;overflow: auto;}#sk-container-id-3 input.sk-toggleable__control:checked~label.sk-toggleable__label-arrow:before {content: \"▾\";}#sk-container-id-3 div.sk-estimator input.sk-toggleable__control:checked~label.sk-toggleable__label {background-color: #d4ebff;}#sk-container-id-3 div.sk-label input.sk-toggleable__control:checked~label.sk-toggleable__label {background-color: #d4ebff;}#sk-container-id-3 input.sk-hidden--visually {border: 0;clip: rect(1px 1px 1px 1px);clip: rect(1px, 1px, 1px, 1px);height: 1px;margin: -1px;overflow: hidden;padding: 0;position: absolute;width: 1px;}#sk-container-id-3 div.sk-estimator {font-family: monospace;background-color: #f0f8ff;border: 1px dotted black;border-radius: 0.25em;box-sizing: border-box;margin-bottom: 0.5em;}#sk-container-id-3 div.sk-estimator:hover {background-color: #d4ebff;}#sk-container-id-3 div.sk-parallel-item::after {content: \"\";width: 100%;border-bottom: 1px solid gray;flex-grow: 1;}#sk-container-id-3 div.sk-label:hover label.sk-toggleable__label {background-color: #d4ebff;}#sk-container-id-3 div.sk-serial::before {content: \"\";position: absolute;border-left: 1px solid gray;box-sizing: border-box;top: 0;bottom: 0;left: 50%;z-index: 0;}#sk-container-id-3 div.sk-serial {display: flex;flex-direction: column;align-items: center;background-color: white;padding-right: 0.2em;padding-left: 0.2em;position: relative;}#sk-container-id-3 div.sk-item {position: relative;z-index: 1;}#sk-container-id-3 div.sk-parallel {display: flex;align-items: stretch;justify-content: center;background-color: white;position: relative;}#sk-container-id-3 div.sk-item::before, #sk-container-id-3 div.sk-parallel-item::before {content: \"\";position: absolute;border-left: 1px solid gray;box-sizing: border-box;top: 0;bottom: 0;left: 50%;z-index: -1;}#sk-container-id-3 div.sk-parallel-item {display: flex;flex-direction: column;z-index: 1;position: relative;background-color: white;}#sk-container-id-3 div.sk-parallel-item:first-child::after {align-self: flex-end;width: 50%;}#sk-container-id-3 div.sk-parallel-item:last-child::after {align-self: flex-start;width: 50%;}#sk-container-id-3 div.sk-parallel-item:only-child::after {width: 0;}#sk-container-id-3 div.sk-dashed-wrapped {border: 1px dashed gray;margin: 0 0.4em 0.5em 0.4em;box-sizing: border-box;padding-bottom: 0.4em;background-color: white;}#sk-container-id-3 div.sk-label label {font-family: monospace;font-weight: bold;display: inline-block;line-height: 1.2em;}#sk-container-id-3 div.sk-label-container {text-align: center;}#sk-container-id-3 div.sk-container {/* jupyter's `normalize.less` sets `[hidden] { display: none; }` but bootstrap.min.css set `[hidden] { display: none !important; }` so we also need the `!important` here to be able to override the default hidden behavior on the sphinx rendered scikit-learn.org. See: https://github.com/scikit-learn/scikit-learn/issues/21755 */display: inline-block !important;position: relative;}#sk-container-id-3 div.sk-text-repr-fallback {display: none;}</style><div id=\"sk-container-id-3\" class=\"sk-top-container\"><div class=\"sk-text-repr-fallback\"><pre>LinearRegression()</pre><b>In a Jupyter environment, please rerun this cell to show the HTML representation or trust the notebook. <br />On GitHub, the HTML representation is unable to render, please try loading this page with nbviewer.org.</b></div><div class=\"sk-container\" hidden><div class=\"sk-item\"><div class=\"sk-estimator sk-toggleable\"><input class=\"sk-toggleable__control sk-hidden--visually\" id=\"sk-estimator-id-3\" type=\"checkbox\" checked><label for=\"sk-estimator-id-3\" class=\"sk-toggleable__label sk-toggleable__label-arrow\">LinearRegression</label><div class=\"sk-toggleable__content\"><pre>LinearRegression()</pre></div></div></div></div></div>"
      ],
      "text/plain": [
       "LinearRegression()"
      ]
     },
     "execution_count": 157,
     "metadata": {},
     "output_type": "execute_result"
    }
   ],
   "source": [
    "lr.fit(x_train,y_train)"
   ]
  },
  {
   "cell_type": "code",
   "execution_count": 158,
   "id": "4229e318",
   "metadata": {},
   "outputs": [],
   "source": [
    "x_train_predict=lr.predict(x_train)"
   ]
  },
  {
   "cell_type": "code",
   "execution_count": 159,
   "id": "99c5048e",
   "metadata": {},
   "outputs": [],
   "source": [
    "x_test_predict=lr.predict(x_test)"
   ]
  },
  {
   "cell_type": "code",
   "execution_count": 160,
   "id": "25299fc4",
   "metadata": {
    "execution": {
     "iopub.execute_input": "2022-07-06T08:26:56.500593Z",
     "iopub.status.busy": "2022-07-06T08:26:56.499999Z",
     "iopub.status.idle": "2022-07-06T08:26:56.504678Z",
     "shell.execute_reply": "2022-07-06T08:26:56.503844Z"
    },
    "papermill": {
     "duration": 0.064705,
     "end_time": "2022-07-06T08:26:56.506848",
     "exception": false,
     "start_time": "2022-07-06T08:26:56.442143",
     "status": "completed"
    },
    "tags": []
   },
   "outputs": [
    {
     "data": {
      "text/plain": [
       "0.7337162219022217"
      ]
     },
     "execution_count": 160,
     "metadata": {},
     "output_type": "execute_result"
    }
   ],
   "source": [
    "lr.score(x_train,y_train)"
   ]
  },
  {
   "cell_type": "code",
   "execution_count": 161,
   "id": "ce1c22cf",
   "metadata": {},
   "outputs": [
    {
     "data": {
      "text/plain": [
       "0.7962732059725786"
      ]
     },
     "execution_count": 161,
     "metadata": {},
     "output_type": "execute_result"
    }
   ],
   "source": [
    "lr.score(x_test,y_test)"
   ]
  },
  {
   "cell_type": "code",
   "execution_count": 224,
   "id": "06e4baaf",
   "metadata": {
    "papermill": {
     "duration": 0.059816,
     "end_time": "2022-07-06T08:26:57.116167",
     "exception": false,
     "start_time": "2022-07-06T08:26:57.056351",
     "status": "completed"
    },
    "tags": []
   },
   "outputs": [],
   "source": [
    "from sklearn.metrics import r2_score,mean_squared_error,mean_absolute_error"
   ]
  },
  {
   "cell_type": "markdown",
   "id": "99f4c045",
   "metadata": {},
   "source": [
    "## Evaluation Metrics"
   ]
  },
  {
   "cell_type": "markdown",
   "id": "3a5c4abd",
   "metadata": {},
   "source": [
    "### R2 Score"
   ]
  },
  {
   "cell_type": "code",
   "execution_count": 164,
   "id": "9b262a59",
   "metadata": {},
   "outputs": [],
   "source": [
    "train_Score=r2_score(y_train,x_train_predict)"
   ]
  },
  {
   "cell_type": "code",
   "execution_count": 165,
   "id": "1351524f",
   "metadata": {},
   "outputs": [
    {
     "data": {
      "text/plain": [
       "0.7337162219022217"
      ]
     },
     "execution_count": 165,
     "metadata": {},
     "output_type": "execute_result"
    }
   ],
   "source": [
    "train_Score"
   ]
  },
  {
   "cell_type": "code",
   "execution_count": 166,
   "id": "c15ba36d",
   "metadata": {},
   "outputs": [],
   "source": [
    "test_score=r2_score(y_test,x_test_predict)"
   ]
  },
  {
   "cell_type": "code",
   "execution_count": 167,
   "id": "3f60e27a",
   "metadata": {},
   "outputs": [
    {
     "data": {
      "text/plain": [
       "0.7962732059725786"
      ]
     },
     "execution_count": 167,
     "metadata": {},
     "output_type": "execute_result"
    }
   ],
   "source": [
    "test_score"
   ]
  },
  {
   "cell_type": "code",
   "execution_count": 169,
   "id": "85817079",
   "metadata": {},
   "outputs": [
    {
     "data": {
      "image/png": "[encoded data removed]",
      "text/plain": [
       "<Figure size 640x480 with 1 Axes>"
      ]
     },
     "metadata": {},
     "output_type": "display_data"
    }
   ],
   "source": [
    "import seaborn as sns\n",
    "\n",
    "results = pd.DataFrame({'Actual': y_test, 'Predicted': x_test_predict})\n",
    "sns.regplot(data=results, x='Actual', y='Predicted')\n",
    "plt.title('Actual vs Predicted Values')\n",
    "plt.xlabel('Actual Values')\n",
    "plt.ylabel('Predicted Values')\n",
    "plt.show()\n"
   ]
  },
  {
   "cell_type": "markdown",
   "id": "2c26440c",
   "metadata": {
    "papermill": {
     "duration": 0.056394,
     "end_time": "2022-07-06T08:26:57.850483",
     "exception": false,
     "start_time": "2022-07-06T08:26:57.794089",
     "status": "completed"
    },
    "tags": []
   },
   "source": [
    "### Mean Squared Error"
   ]
  },
  {
   "cell_type": "markdown",
   "id": "e69db8b8",
   "metadata": {
    "papermill": {
     "duration": 0.057731,
     "end_time": "2022-07-06T08:26:57.964969",
     "exception": false,
     "start_time": "2022-07-06T08:26:57.907238",
     "status": "completed"
    },
    "tags": []
   },
   "source": [
    "#### Training "
   ]
  },
  {
   "cell_type": "code",
   "execution_count": 170,
   "id": "46690797",
   "metadata": {
    "execution": {
     "iopub.execute_input": "2022-07-06T08:26:58.082014Z",
     "iopub.status.busy": "2022-07-06T08:26:58.081216Z",
     "iopub.status.idle": "2022-07-06T08:26:58.086309Z",
     "shell.execute_reply": "2022-07-06T08:26:58.085353Z"
    },
    "papermill": {
     "duration": 0.066249,
     "end_time": "2022-07-06T08:26:58.088697",
     "exception": false,
     "start_time": "2022-07-06T08:26:58.022448",
     "status": "completed"
    },
    "tags": []
   },
   "outputs": [],
   "source": [
    "MSE_train=mean_squared_error(y_train,x_train_predict)"
   ]
  },
  {
   "cell_type": "code",
   "execution_count": 171,
   "id": "90b017cc",
   "metadata": {
    "execution": {
     "iopub.execute_input": "2022-07-06T08:26:58.205920Z",
     "iopub.status.busy": "2022-07-06T08:26:58.205242Z",
     "iopub.status.idle": "2022-07-06T08:26:58.211276Z",
     "shell.execute_reply": "2022-07-06T08:26:58.210106Z"
    },
    "papermill": {
     "duration": 0.06808,
     "end_time": "2022-07-06T08:26:58.213515",
     "exception": false,
     "start_time": "2022-07-06T08:26:58.145435",
     "status": "completed"
    },
    "tags": []
   },
   "outputs": [
    {
     "data": {
      "text/plain": [
       "38050102.806068085"
      ]
     },
     "execution_count": 171,
     "metadata": {},
     "output_type": "execute_result"
    }
   ],
   "source": [
    "MSE_train"
   ]
  },
  {
   "cell_type": "markdown",
   "id": "1860e307",
   "metadata": {
    "papermill": {
     "duration": 0.055557,
     "end_time": "2022-07-06T08:26:58.324967",
     "exception": false,
     "start_time": "2022-07-06T08:26:58.269410",
     "status": "completed"
    },
    "tags": []
   },
   "source": [
    "#### Test"
   ]
  },
  {
   "cell_type": "code",
   "execution_count": 172,
   "id": "3e3a14a8",
   "metadata": {
    "execution": {
     "iopub.execute_input": "2022-07-06T08:26:58.442143Z",
     "iopub.status.busy": "2022-07-06T08:26:58.441261Z",
     "iopub.status.idle": "2022-07-06T08:26:58.446374Z",
     "shell.execute_reply": "2022-07-06T08:26:58.445499Z"
    },
    "papermill": {
     "duration": 0.068407,
     "end_time": "2022-07-06T08:26:58.448600",
     "exception": false,
     "start_time": "2022-07-06T08:26:58.380193",
     "status": "completed"
    },
    "tags": []
   },
   "outputs": [],
   "source": [
    "MSE_test=mean_squared_error(y_test,x_test_predict)"
   ]
  },
  {
   "cell_type": "code",
   "execution_count": 173,
   "id": "4d35f85a",
   "metadata": {
    "execution": {
     "iopub.execute_input": "2022-07-06T08:26:58.562578Z",
     "iopub.status.busy": "2022-07-06T08:26:58.561900Z",
     "iopub.status.idle": "2022-07-06T08:26:58.567633Z",
     "shell.execute_reply": "2022-07-06T08:26:58.566808Z"
    },
    "papermill": {
     "duration": 0.065266,
     "end_time": "2022-07-06T08:26:58.569729",
     "exception": false,
     "start_time": "2022-07-06T08:26:58.504463",
     "status": "completed"
    },
    "tags": []
   },
   "outputs": [
    {
     "data": {
      "text/plain": [
       "32073628.56010921"
      ]
     },
     "execution_count": 173,
     "metadata": {},
     "output_type": "execute_result"
    }
   ],
   "source": [
    "MSE_test"
   ]
  },
  {
   "cell_type": "markdown",
   "id": "3064df24",
   "metadata": {
    "papermill": {
     "duration": 0.056506,
     "end_time": "2022-07-06T08:26:58.683764",
     "exception": false,
     "start_time": "2022-07-06T08:26:58.627258",
     "status": "completed"
    },
    "tags": []
   },
   "source": [
    "### Root Mean Squared Error"
   ]
  },
  {
   "cell_type": "markdown",
   "id": "b952279b",
   "metadata": {
    "papermill": {
     "duration": 0.05529,
     "end_time": "2022-07-06T08:26:58.794642",
     "exception": false,
     "start_time": "2022-07-06T08:26:58.739352",
     "status": "completed"
    },
    "tags": []
   },
   "source": [
    "#### Testing"
   ]
  },
  {
   "cell_type": "code",
   "execution_count": 174,
   "id": "b207e584",
   "metadata": {
    "execution": {
     "iopub.execute_input": "2022-07-06T08:26:58.911042Z",
     "iopub.status.busy": "2022-07-06T08:26:58.910618Z",
     "iopub.status.idle": "2022-07-06T08:26:58.914666Z",
     "shell.execute_reply": "2022-07-06T08:26:58.913868Z"
    },
    "papermill": {
     "duration": 0.066258,
     "end_time": "2022-07-06T08:26:58.916877",
     "exception": false,
     "start_time": "2022-07-06T08:26:58.850619",
     "status": "completed"
    },
    "tags": []
   },
   "outputs": [],
   "source": [
    "import math"
   ]
  },
  {
   "cell_type": "code",
   "execution_count": 175,
   "id": "75520740",
   "metadata": {
    "execution": {
     "iopub.execute_input": "2022-07-06T08:26:59.032703Z",
     "iopub.status.busy": "2022-07-06T08:26:59.031993Z",
     "iopub.status.idle": "2022-07-06T08:26:59.036838Z",
     "shell.execute_reply": "2022-07-06T08:26:59.036012Z"
    },
    "papermill": {
     "duration": 0.065951,
     "end_time": "2022-07-06T08:26:59.038986",
     "exception": false,
     "start_time": "2022-07-06T08:26:58.973035",
     "status": "completed"
    },
    "tags": []
   },
   "outputs": [],
   "source": [
    "RMSE_test=math.sqrt(mean_squared_error(y_test,x_test_predict))"
   ]
  },
  {
   "cell_type": "code",
   "execution_count": 176,
   "id": "a326c419",
   "metadata": {
    "execution": {
     "iopub.execute_input": "2022-07-06T08:26:59.154520Z",
     "iopub.status.busy": "2022-07-06T08:26:59.153769Z",
     "iopub.status.idle": "2022-07-06T08:26:59.159659Z",
     "shell.execute_reply": "2022-07-06T08:26:59.158612Z"
    },
    "papermill": {
     "duration": 0.066323,
     "end_time": "2022-07-06T08:26:59.161866",
     "exception": false,
     "start_time": "2022-07-06T08:26:59.095543",
     "status": "completed"
    },
    "tags": []
   },
   "outputs": [
    {
     "data": {
      "text/plain": [
       "5663.358417062195"
      ]
     },
     "execution_count": 176,
     "metadata": {},
     "output_type": "execute_result"
    }
   ],
   "source": [
    "RMSE_test"
   ]
  },
  {
   "cell_type": "markdown",
   "id": "e8fa5a0e",
   "metadata": {
    "papermill": {
     "duration": 0.055638,
     "end_time": "2022-07-06T08:26:59.276104",
     "exception": false,
     "start_time": "2022-07-06T08:26:59.220466",
     "status": "completed"
    },
    "tags": []
   },
   "source": [
    "#### Training"
   ]
  },
  {
   "cell_type": "code",
   "execution_count": 177,
   "id": "3a17504a",
   "metadata": {
    "execution": {
     "iopub.execute_input": "2022-07-06T08:26:59.389724Z",
     "iopub.status.busy": "2022-07-06T08:26:59.389123Z",
     "iopub.status.idle": "2022-07-06T08:26:59.394087Z",
     "shell.execute_reply": "2022-07-06T08:26:59.393036Z"
    },
    "papermill": {
     "duration": 0.064363,
     "end_time": "2022-07-06T08:26:59.396325",
     "exception": false,
     "start_time": "2022-07-06T08:26:59.331962",
     "status": "completed"
    },
    "tags": []
   },
   "outputs": [],
   "source": [
    "RMSE_train=math.sqrt(mean_squared_error(y_train,x_train_predict))"
   ]
  },
  {
   "cell_type": "code",
   "execution_count": 178,
   "id": "5c04adb6",
   "metadata": {
    "execution": {
     "iopub.execute_input": "2022-07-06T08:26:59.511978Z",
     "iopub.status.busy": "2022-07-06T08:26:59.511372Z",
     "iopub.status.idle": "2022-07-06T08:26:59.516960Z",
     "shell.execute_reply": "2022-07-06T08:26:59.516000Z"
    },
    "papermill": {
     "duration": 0.066601,
     "end_time": "2022-07-06T08:26:59.519190",
     "exception": false,
     "start_time": "2022-07-06T08:26:59.452589",
     "status": "completed"
    },
    "tags": []
   },
   "outputs": [
    {
     "data": {
      "text/plain": [
       "6168.476538503497"
      ]
     },
     "execution_count": 178,
     "metadata": {},
     "output_type": "execute_result"
    }
   ],
   "source": [
    "RMSE_train"
   ]
  },
  {
   "cell_type": "code",
   "execution_count": 232,
   "id": "681f47cb",
   "metadata": {},
   "outputs": [
    {
     "name": "stdout",
     "output_type": "stream",
     "text": [
      "RMSLE for Test: 0.5446602450189125\n"
     ]
    }
   ],
   "source": [
    "import numpy as np\n",
    "from sklearn.metrics import mean_squared_log_error\n",
    "\n",
    "if (y_test >= 0).all() and (x_test_predict >= 0).all():\n",
    "    rmsle = np.sqrt(mean_squared_log_error(y_test, x_test_predict))\n",
    "    print(\"RMSLE for Test:\", rmsle)\n",
    "else:\n",
    "    print(\"RMSLE: cannot be calculated because some values are negative\")\n",
    "\n"
   ]
  },
  {
   "cell_type": "markdown",
   "id": "e0fb78d3",
   "metadata": {
    "papermill": {
     "duration": 0.058085,
     "end_time": "2022-07-06T08:26:59.633722",
     "exception": false,
     "start_time": "2022-07-06T08:26:59.575637",
     "status": "completed"
    },
    "tags": []
   },
   "source": [
    "### Mean Absolute Error"
   ]
  },
  {
   "cell_type": "markdown",
   "id": "2b4b077f",
   "metadata": {
    "papermill": {
     "duration": 0.056665,
     "end_time": "2022-07-06T08:26:59.748490",
     "exception": false,
     "start_time": "2022-07-06T08:26:59.691825",
     "status": "completed"
    },
    "tags": []
   },
   "source": [
    "#### Train"
   ]
  },
  {
   "cell_type": "code",
   "execution_count": 179,
   "id": "4a2d894a",
   "metadata": {
    "execution": {
     "iopub.execute_input": "2022-07-06T08:26:59.864582Z",
     "iopub.status.busy": "2022-07-06T08:26:59.864160Z",
     "iopub.status.idle": "2022-07-06T08:26:59.872347Z",
     "shell.execute_reply": "2022-07-06T08:26:59.870479Z"
    },
    "papermill": {
     "duration": 0.070075,
     "end_time": "2022-07-06T08:26:59.874809",
     "exception": false,
     "start_time": "2022-07-06T08:26:59.804734",
     "status": "completed"
    },
    "tags": []
   },
   "outputs": [],
   "source": [
    "MAE_train=mean_absolute_error(y_train,x_train_predict)"
   ]
  },
  {
   "cell_type": "code",
   "execution_count": 180,
   "id": "3656a587",
   "metadata": {
    "execution": {
     "iopub.execute_input": "2022-07-06T08:27:00.008260Z",
     "iopub.status.busy": "2022-07-06T08:27:00.006950Z",
     "iopub.status.idle": "2022-07-06T08:27:00.013823Z",
     "shell.execute_reply": "2022-07-06T08:27:00.013007Z"
    },
    "papermill": {
     "duration": 0.074651,
     "end_time": "2022-07-06T08:27:00.015952",
     "exception": false,
     "start_time": "2022-07-06T08:26:59.941301",
     "status": "completed"
    },
    "tags": []
   },
   "outputs": [
    {
     "data": {
      "text/plain": [
       "4232.22118590043"
      ]
     },
     "execution_count": 180,
     "metadata": {},
     "output_type": "execute_result"
    }
   ],
   "source": [
    "MAE_train"
   ]
  },
  {
   "cell_type": "markdown",
   "id": "bd8b0222",
   "metadata": {
    "papermill": {
     "duration": 0.056031,
     "end_time": "2022-07-06T08:27:00.128283",
     "exception": false,
     "start_time": "2022-07-06T08:27:00.072252",
     "status": "completed"
    },
    "tags": []
   },
   "source": [
    "#### Test"
   ]
  },
  {
   "cell_type": "code",
   "execution_count": 181,
   "id": "d270fad6",
   "metadata": {
    "execution": {
     "iopub.execute_input": "2022-07-06T08:27:00.294898Z",
     "iopub.status.busy": "2022-07-06T08:27:00.293445Z",
     "iopub.status.idle": "2022-07-06T08:27:00.299815Z",
     "shell.execute_reply": "2022-07-06T08:27:00.298954Z"
    },
    "papermill": {
     "duration": 0.117485,
     "end_time": "2022-07-06T08:27:00.302163",
     "exception": false,
     "start_time": "2022-07-06T08:27:00.184678",
     "status": "completed"
    },
    "tags": []
   },
   "outputs": [],
   "source": [
    "MAE_test=mean_absolute_error(y_test,x_test_predict)"
   ]
  },
  {
   "cell_type": "code",
   "execution_count": 182,
   "id": "a9bc3207",
   "metadata": {
    "execution": {
     "iopub.execute_input": "2022-07-06T08:27:00.421062Z",
     "iopub.status.busy": "2022-07-06T08:27:00.420226Z",
     "iopub.status.idle": "2022-07-06T08:27:00.427408Z",
     "shell.execute_reply": "2022-07-06T08:27:00.426501Z"
    },
    "papermill": {
     "duration": 0.071342,
     "end_time": "2022-07-06T08:27:00.429652",
     "exception": false,
     "start_time": "2022-07-06T08:27:00.358310",
     "status": "completed"
    },
    "tags": []
   },
   "outputs": [
    {
     "data": {
      "text/plain": [
       "3998.271540886974"
      ]
     },
     "execution_count": 182,
     "metadata": {},
     "output_type": "execute_result"
    }
   ],
   "source": [
    "MAE_test"
   ]
  },
  {
   "cell_type": "code",
   "execution_count": 183,
   "id": "d47f55e8",
   "metadata": {
    "execution": {
     "iopub.execute_input": "2022-07-06T08:27:00.548066Z",
     "iopub.status.busy": "2022-07-06T08:27:00.547635Z",
     "iopub.status.idle": "2022-07-06T08:27:00.554472Z",
     "shell.execute_reply": "2022-07-06T08:27:00.553049Z"
    },
    "papermill": {
     "duration": 0.068881,
     "end_time": "2022-07-06T08:27:00.557052",
     "exception": false,
     "start_time": "2022-07-06T08:27:00.488171",
     "status": "completed"
    },
    "tags": []
   },
   "outputs": [
    {
     "name": "stdout",
     "output_type": "stream",
     "text": [
      "intercept: 13273.164915855477\n"
     ]
    }
   ],
   "source": [
    "print('intercept:', lr.intercept_) ## c value"
   ]
  },
  {
   "cell_type": "code",
   "execution_count": 184,
   "id": "9415e06f",
   "metadata": {
    "execution": {
     "iopub.execute_input": "2022-07-06T08:27:00.671642Z",
     "iopub.status.busy": "2022-07-06T08:27:00.671246Z",
     "iopub.status.idle": "2022-07-06T08:27:00.676520Z",
     "shell.execute_reply": "2022-07-06T08:27:00.675635Z"
    },
    "papermill": {
     "duration": 0.066456,
     "end_time": "2022-07-06T08:27:00.680009",
     "exception": false,
     "start_time": "2022-07-06T08:27:00.613553",
     "status": "completed"
    },
    "tags": []
   },
   "outputs": [
    {
     "name": "stdout",
     "output_type": "stream",
     "text": [
      "slope: [ 3.51872708e+03  1.82536077e+00  1.96825828e+03  5.42446655e+02\n",
      "  9.52447231e+03 -3.76894428e+02]\n"
     ]
    }
   ],
   "source": [
    "print('slope:', lr.coef_)"
   ]
  },
  {
   "cell_type": "markdown",
   "id": "c7dd2175",
   "metadata": {},
   "source": [
    "## KNeighbors Regressor"
   ]
  },
  {
   "cell_type": "code",
   "execution_count": 186,
   "id": "b42e531c",
   "metadata": {},
   "outputs": [
    {
     "name": "stdout",
     "output_type": "stream",
     "text": [
      "RMSE value for k=  1 is: 6416.3391502989225\n",
      "RMSE value for k=  2 is: 5316.667230568597\n",
      "RMSE value for k=  3 is: 5059.843046100291\n",
      "RMSE value for k=  4 is: 4886.546329277099\n",
      "RMSE value for k=  5 is: 4879.477199848586\n",
      "RMSE value for k=  6 is: 4782.31720147\n",
      "RMSE value for k=  7 is: 4744.248765423277\n",
      "RMSE value for k=  8 is: 4659.791482880308\n",
      "RMSE value for k=  9 is: 4663.241084496165\n",
      "RMSE value for k=  10 is: 4746.870177860722\n",
      "RMSE value for k=  11 is: 4766.785862079913\n",
      "RMSE value for k=  12 is: 4707.5631200316575\n",
      "RMSE value for k=  13 is: 4730.096763878315\n",
      "RMSE value for k=  14 is: 4710.9946967634605\n",
      "RMSE value for k=  15 is: 4718.940423874324\n",
      "RMSE value for k=  16 is: 4769.999952180891\n",
      "RMSE value for k=  17 is: 4787.140318464831\n",
      "RMSE value for k=  18 is: 4746.861348374747\n",
      "RMSE value for k=  19 is: 4768.534177487757\n",
      "RMSE value for k=  20 is: 4802.3553450954505\n"
     ]
    }
   ],
   "source": [
    "from sklearn.neighbors import KNeighborsRegressor\n",
    "from sklearn.metrics import mean_squared_error\n",
    "\n",
    "rmse_val = [] \n",
    "for K in range(20):\n",
    "    K = K+1\n",
    "    model = KNeighborsRegressor(n_neighbors = K)\n",
    "\n",
    "    model.fit(x_train, y_train)\n",
    "    pred=model.predict(x_test) \n",
    "    error = np.sqrt(mean_squared_error(y_test,pred))\n",
    "    rmse_val.append(error) \n",
    "    print('RMSE value for k= ' , K , 'is:', error)"
   ]
  },
  {
   "cell_type": "markdown",
   "id": "bcdd0fbd",
   "metadata": {},
   "source": [
    "## Random Forest Regressor"
   ]
  },
  {
   "cell_type": "code",
   "execution_count": 188,
   "id": "e4af575b",
   "metadata": {
    "execution": {
     "iopub.execute_input": "2022-07-06T08:27:01.080838Z",
     "iopub.status.busy": "2022-07-06T08:27:01.080406Z",
     "iopub.status.idle": "2022-07-06T08:27:01.190537Z",
     "shell.execute_reply": "2022-07-06T08:27:01.189097Z"
    },
    "papermill": {
     "duration": 0.174577,
     "end_time": "2022-07-06T08:27:01.193269",
     "exception": false,
     "start_time": "2022-07-06T08:27:01.018692",
     "status": "completed"
    },
    "tags": []
   },
   "outputs": [],
   "source": [
    "from sklearn.ensemble import RandomForestRegressor"
   ]
  },
  {
   "cell_type": "code",
   "execution_count": 189,
   "id": "82b07b2b",
   "metadata": {
    "execution": {
     "iopub.execute_input": "2022-07-06T08:27:01.315634Z",
     "iopub.status.busy": "2022-07-06T08:27:01.314440Z",
     "iopub.status.idle": "2022-07-06T08:27:01.663835Z",
     "shell.execute_reply": "2022-07-06T08:27:01.662402Z"
    },
    "papermill": {
     "duration": 0.413879,
     "end_time": "2022-07-06T08:27:01.666743",
     "exception": false,
     "start_time": "2022-07-06T08:27:01.252864",
     "status": "completed"
    },
    "tags": []
   },
   "outputs": [
    {
     "data": {
      "text/html": [
       "<style>#sk-container-id-4 {color: black;background-color: white;}#sk-container-id-4 pre{padding: 0;}#sk-container-id-4 div.sk-toggleable {background-color: white;}#sk-container-id-4 label.sk-toggleable__label {cursor: pointer;display: block;width: 100%;margin-bottom: 0;padding: 0.3em;box-sizing: border-box;text-align: center;}#sk-container-id-4 label.sk-toggleable__label-arrow:before {content: \"▸\";float: left;margin-right: 0.25em;color: #696969;}#sk-container-id-4 label.sk-toggleable__label-arrow:hover:before {color: black;}#sk-container-id-4 div.sk-estimator:hover label.sk-toggleable__label-arrow:before {color: black;}#sk-container-id-4 div.sk-toggleable__content {max-height: 0;max-width: 0;overflow: hidden;text-align: left;background-color: #f0f8ff;}#sk-container-id-4 div.sk-toggleable__content pre {margin: 0.2em;color: black;border-radius: 0.25em;background-color: #f0f8ff;}#sk-container-id-4 input.sk-toggleable__control:checked~div.sk-toggleable__content {max-height: 200px;max-width: 100%;overflow: auto;}#sk-container-id-4 input.sk-toggleable__control:checked~label.sk-toggleable__label-arrow:before {content: \"▾\";}#sk-container-id-4 div.sk-estimator input.sk-toggleable__control:checked~label.sk-toggleable__label {background-color: #d4ebff;}#sk-container-id-4 div.sk-label input.sk-toggleable__control:checked~label.sk-toggleable__label {background-color: #d4ebff;}#sk-container-id-4 input.sk-hidden--visually {border: 0;clip: rect(1px 1px 1px 1px);clip: rect(1px, 1px, 1px, 1px);height: 1px;margin: -1px;overflow: hidden;padding: 0;position: absolute;width: 1px;}#sk-container-id-4 div.sk-estimator {font-family: monospace;background-color: #f0f8ff;border: 1px dotted black;border-radius: 0.25em;box-sizing: border-box;margin-bottom: 0.5em;}#sk-container-id-4 div.sk-estimator:hover {background-color: #d4ebff;}#sk-container-id-4 div.sk-parallel-item::after {content: \"\";width: 100%;border-bottom: 1px solid gray;flex-grow: 1;}#sk-container-id-4 div.sk-label:hover label.sk-toggleable__label {background-color: #d4ebff;}#sk-container-id-4 div.sk-serial::before {content: \"\";position: absolute;border-left: 1px solid gray;box-sizing: border-box;top: 0;bottom: 0;left: 50%;z-index: 0;}#sk-container-id-4 div.sk-serial {display: flex;flex-direction: column;align-items: center;background-color: white;padding-right: 0.2em;padding-left: 0.2em;position: relative;}#sk-container-id-4 div.sk-item {position: relative;z-index: 1;}#sk-container-id-4 div.sk-parallel {display: flex;align-items: stretch;justify-content: center;background-color: white;position: relative;}#sk-container-id-4 div.sk-item::before, #sk-container-id-4 div.sk-parallel-item::before {content: \"\";position: absolute;border-left: 1px solid gray;box-sizing: border-box;top: 0;bottom: 0;left: 50%;z-index: -1;}#sk-container-id-4 div.sk-parallel-item {display: flex;flex-direction: column;z-index: 1;position: relative;background-color: white;}#sk-container-id-4 div.sk-parallel-item:first-child::after {align-self: flex-end;width: 50%;}#sk-container-id-4 div.sk-parallel-item:last-child::after {align-self: flex-start;width: 50%;}#sk-container-id-4 div.sk-parallel-item:only-child::after {width: 0;}#sk-container-id-4 div.sk-dashed-wrapped {border: 1px dashed gray;margin: 0 0.4em 0.5em 0.4em;box-sizing: border-box;padding-bottom: 0.4em;background-color: white;}#sk-container-id-4 div.sk-label label {font-family: monospace;font-weight: bold;display: inline-block;line-height: 1.2em;}#sk-container-id-4 div.sk-label-container {text-align: center;}#sk-container-id-4 div.sk-container {/* jupyter's `normalize.less` sets `[hidden] { display: none; }` but bootstrap.min.css set `[hidden] { display: none !important; }` so we also need the `!important` here to be able to override the default hidden behavior on the sphinx rendered scikit-learn.org. See: https://github.com/scikit-learn/scikit-learn/issues/21755 */display: inline-block !important;position: relative;}#sk-container-id-4 div.sk-text-repr-fallback {display: none;}</style><div id=\"sk-container-id-4\" class=\"sk-top-container\"><div class=\"sk-text-repr-fallback\"><pre>RandomForestRegressor()</pre><b>In a Jupyter environment, please rerun this cell to show the HTML representation or trust the notebook. <br />On GitHub, the HTML representation is unable to render, please try loading this page with nbviewer.org.</b></div><div class=\"sk-container\" hidden><div class=\"sk-item\"><div class=\"sk-estimator sk-toggleable\"><input class=\"sk-toggleable__control sk-hidden--visually\" id=\"sk-estimator-id-4\" type=\"checkbox\" checked><label for=\"sk-estimator-id-4\" class=\"sk-toggleable__label sk-toggleable__label-arrow\">RandomForestRegressor</label><div class=\"sk-toggleable__content\"><pre>RandomForestRegressor()</pre></div></div></div></div></div>"
      ],
      "text/plain": [
       "RandomForestRegressor()"
      ]
     },
     "execution_count": 189,
     "metadata": {},
     "output_type": "execute_result"
    }
   ],
   "source": [
    "rfr=RandomForestRegressor()\n",
    "rfr.fit(x_train,y_train)"
   ]
  },
  {
   "cell_type": "code",
   "execution_count": 190,
   "id": "7a381979",
   "metadata": {
    "execution": {
     "iopub.execute_input": "2022-07-06T08:27:01.794816Z",
     "iopub.status.busy": "2022-07-06T08:27:01.794391Z",
     "iopub.status.idle": "2022-07-06T08:27:01.819425Z",
     "shell.execute_reply": "2022-07-06T08:27:01.818171Z"
    },
    "papermill": {
     "duration": 0.09459,
     "end_time": "2022-07-06T08:27:01.822256",
     "exception": false,
     "start_time": "2022-07-06T08:27:01.727666",
     "status": "completed"
    },
    "tags": []
   },
   "outputs": [],
   "source": [
    "prediction=rfr.predict(x_test)"
   ]
  },
  {
   "cell_type": "code",
   "execution_count": 191,
   "id": "b392b1f4",
   "metadata": {
    "execution": {
     "iopub.execute_input": "2022-07-06T08:27:01.944712Z",
     "iopub.status.busy": "2022-07-06T08:27:01.944246Z",
     "iopub.status.idle": "2022-07-06T08:27:01.955950Z",
     "shell.execute_reply": "2022-07-06T08:27:01.954723Z"
    },
    "papermill": {
     "duration": 0.076239,
     "end_time": "2022-07-06T08:27:01.958203",
     "exception": false,
     "start_time": "2022-07-06T08:27:01.881964",
     "status": "completed"
    },
    "tags": []
   },
   "outputs": [
    {
     "data": {
      "text/plain": [
       "array([10850.0715841 ,  9456.3550308 , 45086.847846  , 13303.2377035 ,\n",
       "       10015.6982896 , 10568.128484  ,  2326.3185105 , 12860.0410608 ,\n",
       "        7780.2777125 ,  7209.6345155 ,  7168.5916759 , 18457.1539027 ,\n",
       "        7917.0976116 ,  5161.3514633 , 22851.5882258 , 13839.5186785 ,\n",
       "       12857.4854072 ,  8084.9774248 ,  6474.657353  , 34037.0726068 ,\n",
       "       24039.4417715 , 16670.9945675 , 10644.6482231 , 26699.4467798 ,\n",
       "        2480.5669156 , 10836.6781157 ,  8448.7664421 ,  7897.2795827 ,\n",
       "        4100.9666581 , 10304.5928696 ,  7813.5062936 , 48773.3106175 ,\n",
       "       13956.4574775 , 11891.1000987 , 16147.1954626 ,  4136.3264641 ,\n",
       "        8742.4540647 , 37639.107247  , 39725.869924  ,  5038.0333573 ,\n",
       "        9733.460315  ,  3566.0057865 , 20760.0528617 , 47873.672601  ,\n",
       "       36573.5511605 ,  6191.4300573 , 14183.274622  ,  6737.270469  ,\n",
       "        7202.7474386 , 14083.0507456 ,  3973.5768562 , 14225.9025615 ,\n",
       "       28151.2237814 , 48338.6427739 , 11682.8574675 , 11327.5166095 ,\n",
       "        3626.7222819 , 11187.2243474 ,  9992.9363555 , 17900.9547411 ,\n",
       "        1839.1628556 , 46419.3380721 , 16340.0328382 , 10817.264946  ,\n",
       "       15331.781293  ,  9832.045074  , 33843.699867  , 41049.6818639 ,\n",
       "        3707.5390567 , 10540.9905118 , 16882.1459768 , 13060.7558315 ,\n",
       "       18212.5983285 , 14124.3268335 , 13138.0238282 , 16346.6693749 ,\n",
       "       10313.644042  , 10139.4076165 , 20280.2118518 , 46712.8777585 ,\n",
       "       11620.046613  , 50268.4571102 ,  2871.8559691 ,  9244.1274819 ,\n",
       "       41856.1604235 , 19284.13796   ,  5350.6814016 ,  3926.3228552 ,\n",
       "       17560.1151645 , 38574.6491408 , 13780.300842  , 12795.7919309 ,\n",
       "        3215.9772883 ,  9344.561545  , 10545.8593523 , 10056.0588558 ,\n",
       "       43495.3572613 , 53725.7081557 ,  6171.7031906 , 10825.454404  ,\n",
       "        3523.8824014 ,  7577.2960577 ,  6717.2280786 , 39619.2376027 ,\n",
       "       25834.842276  ,  5365.5703833 , 11060.731039  ,  9275.0997108 ,\n",
       "       11792.5051945 , 45302.551055  , 12246.0983309 ,  6571.1538778 ,\n",
       "       10470.7777398 , 34663.3847757 , 48368.690994  ,  7866.9980405 ,\n",
       "        2194.5811315 , 10784.6901514 , 21996.4808145 ,  9850.2487061 ,\n",
       "       41576.6480832 , 12503.0830602 , 13920.440525  , 14953.0468849 ,\n",
       "        9443.4968582 ,  6334.7459032 , 26596.711666  , 26020.4166133 ,\n",
       "       48628.2332441 ,  1902.2874833 , 10621.4192857 ,  4588.4356048 ,\n",
       "        5891.6408235 , 10113.626023  , 41302.1693448 , 38261.2861662 ,\n",
       "       25109.3107463 , 15243.4737899 , 24553.9711996 ,  6781.5908651 ,\n",
       "        2197.4661155 , 13454.6047226 , 11041.1518421 , 11127.1428034 ,\n",
       "        5673.3451446 , 13965.7552285 , 19138.2459834 ,  9753.5417534 ,\n",
       "        1626.301791  , 11730.2904857 ,  6702.8332072 , 39278.4436    ,\n",
       "       11145.2063023 ,  6527.6661253 ,  6642.366549  ,  7139.387416  ,\n",
       "        3940.5408483 ,  3641.3422141 , 13133.6022852 , 10390.3908542 ,\n",
       "       12075.1443421 , 13224.910472  , 12934.6673196 ,  9516.2713821 ,\n",
       "        7515.5284314 , 11759.6551383 , 17392.9359752 , 12594.7302505 ,\n",
       "        5014.9481628 ,  1957.325115  ,  9916.2776942 ,  6553.8313266 ,\n",
       "       13145.1359385 ,  2728.546886  ,  8146.4041594 ,  6722.1198462 ,\n",
       "        7284.1487022 ,  6488.2748062 , 28574.476491  ,  1781.3558755 ,\n",
       "       19365.4089956 ,  7128.5144548 , 11525.1672295 ,  5164.7436986 ,\n",
       "        7868.2022796 , 28506.8782993 ,  3247.0361675 ,  3230.3890661 ,\n",
       "       14154.0321265 , 13211.3194781 , 41753.5670445 ,  5258.2909842 ,\n",
       "        5312.134205  , 25053.6293193 ,  3547.5225415 ,  6220.066975  ,\n",
       "       10981.919271  , 14061.9155722 ,  7327.9304592 ,  4345.0078075 ,\n",
       "       12223.858371  , 46356.7171357 , 17310.6429907 , 18605.6870745 ,\n",
       "       10962.7168809 , 43381.5641098 ,  6548.3465741 , 10712.5210015 ,\n",
       "        5802.7109313 ,  1682.454004  , 11251.056041  , 13785.7505041 ,\n",
       "        6834.2216453 ,  5128.9092981 ,  6347.7024635 , 11392.5740447 ,\n",
       "        6857.8476221 ,  8483.4372194 , 14383.182817  ,  6899.8480954 ,\n",
       "        6743.0706656 ,  7994.8826484 , 13273.9719876 ,  5300.3976462 ,\n",
       "       13083.6381873 , 14221.2909525 , 20535.0111056 , 12064.39241   ,\n",
       "        6884.5435426 ,  3327.2326559 ,  8626.303097  ,  9316.935505  ,\n",
       "       13959.3146898 ,  9818.3039699 ,  5134.4231361 ,  7067.8023147 ,\n",
       "       13241.10872   , 34507.9044177 ,  6289.2788845 , 14715.6019586 ,\n",
       "        6243.8426012 , 37745.1182039 ,  7234.800933  ,  9868.3794598 ,\n",
       "       13151.0465477 , 10550.4973326 ,  6806.1137327 ,  9842.0824991 ,\n",
       "        2859.9013168 ,  8195.4995168 , 19226.526767  , 46378.30556   ,\n",
       "        4304.1024652 ,  5115.9813706 ,  5425.949267  ,  1718.2621125 ,\n",
       "        7961.7033366 ,  3020.84881599,  8027.1170949 ,  5750.861643  ,\n",
       "        9322.1388193 , 26462.1377314 , 45963.710241  , 16921.3629918 ,\n",
       "        6480.699763  , 11485.1328085 , 41704.8183953 ,  9382.3204624 ,\n",
       "       39572.501387  ,  2114.4559375 , 38588.6862405 ,  5052.5235748 ,\n",
       "       12834.6915449 ,  6404.10066   , 40290.7673971 , 10297.3614298 ,\n",
       "       10028.6703974 , 11604.5784672 ,  6838.2219207 , 20317.0841547 ,\n",
       "       12450.373541  ,  8781.2634465 , 17302.4040432 , 14836.2256565 ,\n",
       "        8193.6151597 ,  4201.3888744 , 10755.5663808 , 21831.0853479 ,\n",
       "        4304.3038153 ,  1777.961836  , 11173.4714138 , 46943.811519  ,\n",
       "       10690.6291284 ,  5016.2382576 , 17301.4510223 , 12821.0477349 ,\n",
       "       34553.5922536 ,  6512.9058935 ,  5192.4550561 ,  8848.8296895 ,\n",
       "        2197.813998  ,  6591.0358165 , 21366.5830845 , 18318.7255881 ,\n",
       "       13582.0459961 ,  2794.497123  ,  3232.5071392 , 12580.107144  ,\n",
       "       10337.2359762 , 14734.8117545 , 19692.1719635 ,  6494.5718136 ,\n",
       "       18213.9968696 ,  2656.3493314 ,  9726.6229571 ,  8173.3884091 ,\n",
       "       12494.3062987 ,  3876.4515248 ,  9996.290471  , 46822.3154236 ,\n",
       "        7561.1367825 , 10871.0304765 ,  2077.664715  ,  8964.5015236 ,\n",
       "        4958.4683219 , 12710.3844048 , 46522.1888292 , 17816.3109    ,\n",
       "        9429.2628719 , 44415.9907376 , 17066.2840332 , 11430.6206964 ,\n",
       "       10480.997009  ,  4036.550625  , 28643.350061  ])"
      ]
     },
     "execution_count": 191,
     "metadata": {},
     "output_type": "execute_result"
    }
   ],
   "source": [
    "prediction"
   ]
  },
  {
   "cell_type": "code",
   "execution_count": 192,
   "id": "e2309b6c",
   "metadata": {
    "execution": {
     "iopub.execute_input": "2022-07-06T08:27:02.080700Z",
     "iopub.status.busy": "2022-07-06T08:27:02.080269Z",
     "iopub.status.idle": "2022-07-06T08:27:02.088887Z",
     "shell.execute_reply": "2022-07-06T08:27:02.088023Z"
    },
    "papermill": {
     "duration": 0.074639,
     "end_time": "2022-07-06T08:27:02.091135",
     "exception": false,
     "start_time": "2022-07-06T08:27:02.016496",
     "status": "completed"
    },
    "tags": []
   },
   "outputs": [
    {
     "data": {
      "text/plain": [
       "578      9724.53000\n",
       "610      8547.69130\n",
       "569     45702.02235\n",
       "1034    12950.07120\n",
       "198      9644.25250\n",
       "           ...     \n",
       "574     13224.05705\n",
       "1174     4433.91590\n",
       "1327     9377.90470\n",
       "817      3597.59600\n",
       "1337    29141.36030\n",
       "Name: charges, Length: 335, dtype: float64"
      ]
     },
     "execution_count": 192,
     "metadata": {},
     "output_type": "execute_result"
    }
   ],
   "source": [
    "y_test"
   ]
  },
  {
   "cell_type": "code",
   "execution_count": 193,
   "id": "0c4d95a0",
   "metadata": {
    "execution": {
     "iopub.execute_input": "2022-07-06T08:27:02.217054Z",
     "iopub.status.busy": "2022-07-06T08:27:02.216623Z",
     "iopub.status.idle": "2022-07-06T08:27:02.242623Z",
     "shell.execute_reply": "2022-07-06T08:27:02.241621Z"
    },
    "papermill": {
     "duration": 0.092945,
     "end_time": "2022-07-06T08:27:02.245357",
     "exception": false,
     "start_time": "2022-07-06T08:27:02.152412",
     "status": "completed"
    },
    "tags": []
   },
   "outputs": [
    {
     "data": {
      "text/plain": [
       "0.8693392406322076"
      ]
     },
     "execution_count": 193,
     "metadata": {},
     "output_type": "execute_result"
    }
   ],
   "source": [
    "rfr.score(x_test,y_test)"
   ]
  },
  {
   "cell_type": "code",
   "execution_count": 194,
   "id": "5d9a9207",
   "metadata": {
    "execution": {
     "iopub.execute_input": "2022-07-06T08:27:02.366731Z",
     "iopub.status.busy": "2022-07-06T08:27:02.366291Z",
     "iopub.status.idle": "2022-07-06T08:27:02.404586Z",
     "shell.execute_reply": "2022-07-06T08:27:02.403639Z"
    },
    "papermill": {
     "duration": 0.100731,
     "end_time": "2022-07-06T08:27:02.407015",
     "exception": false,
     "start_time": "2022-07-06T08:27:02.306284",
     "status": "completed"
    },
    "tags": []
   },
   "outputs": [
    {
     "data": {
      "text/plain": [
       "0.9747066191724472"
      ]
     },
     "execution_count": 194,
     "metadata": {},
     "output_type": "execute_result"
    }
   ],
   "source": [
    "rfr.score(x_train,y_train)"
   ]
  },
  {
   "cell_type": "code",
   "execution_count": 195,
   "id": "f45e6189",
   "metadata": {
    "execution": {
     "iopub.execute_input": "2022-07-06T08:27:02.592071Z",
     "iopub.status.busy": "2022-07-06T08:27:02.591645Z",
     "iopub.status.idle": "2022-07-06T08:27:02.596377Z",
     "shell.execute_reply": "2022-07-06T08:27:02.595507Z"
    },
    "papermill": {
     "duration": 0.127992,
     "end_time": "2022-07-06T08:27:02.598395",
     "exception": false,
     "start_time": "2022-07-06T08:27:02.470403",
     "status": "completed"
    },
    "tags": []
   },
   "outputs": [],
   "source": [
    "from sklearn.metrics import r2_score"
   ]
  },
  {
   "cell_type": "code",
   "execution_count": 196,
   "id": "15486575",
   "metadata": {
    "execution": {
     "iopub.execute_input": "2022-07-06T08:27:02.718429Z",
     "iopub.status.busy": "2022-07-06T08:27:02.718014Z",
     "iopub.status.idle": "2022-07-06T08:27:02.725523Z",
     "shell.execute_reply": "2022-07-06T08:27:02.724655Z"
    },
    "papermill": {
     "duration": 0.069743,
     "end_time": "2022-07-06T08:27:02.727705",
     "exception": false,
     "start_time": "2022-07-06T08:27:02.657962",
     "status": "completed"
    },
    "tags": []
   },
   "outputs": [
    {
     "data": {
      "text/plain": [
       "0.8693392406322076"
      ]
     },
     "execution_count": 196,
     "metadata": {},
     "output_type": "execute_result"
    }
   ],
   "source": [
    "r2_score(y_test,prediction)"
   ]
  },
  {
   "cell_type": "markdown",
   "id": "de631ae1",
   "metadata": {},
   "source": [
    "## Hyperparameter tuning"
   ]
  },
  {
   "cell_type": "code",
   "execution_count": 197,
   "id": "47391af6",
   "metadata": {
    "execution": {
     "iopub.execute_input": "2022-07-06T08:27:02.848079Z",
     "iopub.status.busy": "2022-07-06T08:27:02.847611Z",
     "iopub.status.idle": "2022-07-06T08:27:02.853032Z",
     "shell.execute_reply": "2022-07-06T08:27:02.851773Z"
    },
    "papermill": {
     "duration": 0.068854,
     "end_time": "2022-07-06T08:27:02.855430",
     "exception": false,
     "start_time": "2022-07-06T08:27:02.786576",
     "status": "completed"
    },
    "tags": []
   },
   "outputs": [],
   "source": [
    "from sklearn.model_selection import RandomizedSearchCV"
   ]
  },
  {
   "cell_type": "code",
   "execution_count": 198,
   "id": "3da58501",
   "metadata": {
    "execution": {
     "iopub.execute_input": "2022-07-06T08:27:02.975326Z",
     "iopub.status.busy": "2022-07-06T08:27:02.974901Z",
     "iopub.status.idle": "2022-07-06T08:27:02.982163Z",
     "shell.execute_reply": "2022-07-06T08:27:02.980896Z"
    },
    "papermill": {
     "duration": 0.069675,
     "end_time": "2022-07-06T08:27:02.984587",
     "exception": false,
     "start_time": "2022-07-06T08:27:02.914912",
     "status": "completed"
    },
    "tags": []
   },
   "outputs": [],
   "source": [
    "grid={'n_estimators':[int(x) for x in np.linspace(start=100,stop=1200,num=12)],\n",
    "      'max_features':['auto','sqrt'],\n",
    "      'max_depth':[int(x) for x in np.linspace(5,30,num=6)],\n",
    "      'min_samples_split':[2,5,10,15,100],\n",
    "      'min_samples_leaf':[1,2,5,10]}"
   ]
  },
  {
   "cell_type": "code",
   "execution_count": 199,
   "id": "b6f2947f",
   "metadata": {
    "execution": {
     "iopub.execute_input": "2022-07-06T08:27:03.102972Z",
     "iopub.status.busy": "2022-07-06T08:27:03.102539Z",
     "iopub.status.idle": "2022-07-06T08:27:03.108146Z",
     "shell.execute_reply": "2022-07-06T08:27:03.106815Z"
    },
    "papermill": {
     "duration": 0.067742,
     "end_time": "2022-07-06T08:27:03.110578",
     "exception": false,
     "start_time": "2022-07-06T08:27:03.042836",
     "status": "completed"
    },
    "tags": []
   },
   "outputs": [],
   "source": [
    "hyper_tuning=RandomizedSearchCV(estimator=rfr,param_distributions=grid,scoring='neg_mean_squared_error',n_iter=10,cv=5,verbose=5,random_state=2)"
   ]
  },
  {
   "cell_type": "code",
   "execution_count": 200,
   "id": "d883eef0",
   "metadata": {
    "execution": {
     "iopub.execute_input": "2022-07-06T08:27:03.230534Z",
     "iopub.status.busy": "2022-07-06T08:27:03.230131Z",
     "iopub.status.idle": "2022-07-06T08:28:11.625680Z",
     "shell.execute_reply": "2022-07-06T08:28:11.624549Z"
    },
    "papermill": {
     "duration": 68.458063,
     "end_time": "2022-07-06T08:28:11.628159",
     "exception": false,
     "start_time": "2022-07-06T08:27:03.170096",
     "status": "completed"
    },
    "tags": []
   },
   "outputs": [
    {
     "name": "stdout",
     "output_type": "stream",
     "text": [
      "Fitting 5 folds for each of 10 candidates, totalling 50 fits\n",
      "[CV 1/5] END max_depth=30, max_features=auto, min_samples_leaf=5, min_samples_split=100, n_estimators=800;, score=-19535385.962 total time=   1.4s\n",
      "[CV 2/5] END max_depth=30, max_features=auto, min_samples_leaf=5, min_samples_split=100, n_estimators=800;, score=-20938924.019 total time=   1.3s\n",
      "[CV 3/5] END max_depth=30, max_features=auto, min_samples_leaf=5, min_samples_split=100, n_estimators=800;, score=-35340801.377 total time=   1.2s\n",
      "[CV 4/5] END max_depth=30, max_features=auto, min_samples_leaf=5, min_samples_split=100, n_estimators=800;, score=-25561937.770 total time=   1.3s\n",
      "[CV 5/5] END max_depth=30, max_features=auto, min_samples_leaf=5, min_samples_split=100, n_estimators=800;, score=-38534490.905 total time=   1.4s\n",
      "[CV 1/5] END max_depth=30, max_features=auto, min_samples_leaf=5, min_samples_split=5, n_estimators=1000;, score=-18453940.264 total time=   2.5s\n",
      "[CV 2/5] END max_depth=30, max_features=auto, min_samples_leaf=5, min_samples_split=5, n_estimators=1000;, score=-19591083.292 total time=   2.3s\n",
      "[CV 3/5] END max_depth=30, max_features=auto, min_samples_leaf=5, min_samples_split=5, n_estimators=1000;, score=-25999857.723 total time=   2.3s\n",
      "[CV 4/5] END max_depth=30, max_features=auto, min_samples_leaf=5, min_samples_split=5, n_estimators=1000;, score=-20362906.071 total time=   3.3s\n",
      "[CV 5/5] END max_depth=30, max_features=auto, min_samples_leaf=5, min_samples_split=5, n_estimators=1000;, score=-32114779.954 total time=   3.1s\n",
      "[CV 1/5] END max_depth=20, max_features=auto, min_samples_leaf=5, min_samples_split=100, n_estimators=100;, score=-19647097.384 total time=   0.1s\n",
      "[CV 2/5] END max_depth=20, max_features=auto, min_samples_leaf=5, min_samples_split=100, n_estimators=100;, score=-20894426.775 total time=   0.1s\n",
      "[CV 3/5] END max_depth=20, max_features=auto, min_samples_leaf=5, min_samples_split=100, n_estimators=100;, score=-34697222.170 total time=   0.1s\n",
      "[CV 4/5] END max_depth=20, max_features=auto, min_samples_leaf=5, min_samples_split=100, n_estimators=100;, score=-26554010.301 total time=   0.1s\n",
      "[CV 5/5] END max_depth=20, max_features=auto, min_samples_leaf=5, min_samples_split=100, n_estimators=100;, score=-40487347.977 total time=   0.1s\n",
      "[CV 1/5] END max_depth=25, max_features=sqrt, min_samples_leaf=10, min_samples_split=2, n_estimators=800;, score=-26542601.519 total time=   1.7s\n",
      "[CV 2/5] END max_depth=25, max_features=sqrt, min_samples_leaf=10, min_samples_split=2, n_estimators=800;, score=-24037974.086 total time=   1.7s\n",
      "[CV 3/5] END max_depth=25, max_features=sqrt, min_samples_leaf=10, min_samples_split=2, n_estimators=800;, score=-30945641.084 total time=   1.7s\n",
      "[CV 4/5] END max_depth=25, max_features=sqrt, min_samples_leaf=10, min_samples_split=2, n_estimators=800;, score=-29442578.032 total time=   1.6s\n",
      "[CV 5/5] END max_depth=25, max_features=sqrt, min_samples_leaf=10, min_samples_split=2, n_estimators=800;, score=-41744585.922 total time=   2.0s\n",
      "[CV 1/5] END max_depth=30, max_features=auto, min_samples_leaf=2, min_samples_split=100, n_estimators=700;, score=-19500941.980 total time=   1.5s\n",
      "[CV 2/5] END max_depth=30, max_features=auto, min_samples_leaf=2, min_samples_split=100, n_estimators=700;, score=-20911046.769 total time=   1.5s\n",
      "[CV 3/5] END max_depth=30, max_features=auto, min_samples_leaf=2, min_samples_split=100, n_estimators=700;, score=-35416280.116 total time=   1.4s\n",
      "[CV 4/5] END max_depth=30, max_features=auto, min_samples_leaf=2, min_samples_split=100, n_estimators=700;, score=-25609696.366 total time=   1.5s\n",
      "[CV 5/5] END max_depth=30, max_features=auto, min_samples_leaf=2, min_samples_split=100, n_estimators=700;, score=-38309607.243 total time=   1.4s\n",
      "[CV 1/5] END max_depth=15, max_features=auto, min_samples_leaf=5, min_samples_split=5, n_estimators=800;, score=-18439495.629 total time=   2.2s\n",
      "[CV 2/5] END max_depth=15, max_features=auto, min_samples_leaf=5, min_samples_split=5, n_estimators=800;, score=-19601891.669 total time=   2.2s\n",
      "[CV 3/5] END max_depth=15, max_features=auto, min_samples_leaf=5, min_samples_split=5, n_estimators=800;, score=-25973229.242 total time=   2.3s\n",
      "[CV 4/5] END max_depth=15, max_features=auto, min_samples_leaf=5, min_samples_split=5, n_estimators=800;, score=-20338214.415 total time=   2.2s\n",
      "[CV 5/5] END max_depth=15, max_features=auto, min_samples_leaf=5, min_samples_split=5, n_estimators=800;, score=-32103925.247 total time=   2.1s\n",
      "[CV 1/5] END max_depth=30, max_features=auto, min_samples_leaf=1, min_samples_split=2, n_estimators=900;, score=-20547606.174 total time=   3.1s\n",
      "[CV 2/5] END max_depth=30, max_features=auto, min_samples_leaf=1, min_samples_split=2, n_estimators=900;, score=-24715902.866 total time=   3.2s\n",
      "[CV 3/5] END max_depth=30, max_features=auto, min_samples_leaf=1, min_samples_split=2, n_estimators=900;, score=-29567106.186 total time=   3.1s\n",
      "[CV 4/5] END max_depth=30, max_features=auto, min_samples_leaf=1, min_samples_split=2, n_estimators=900;, score=-25674862.679 total time=   3.0s\n",
      "[CV 5/5] END max_depth=30, max_features=auto, min_samples_leaf=1, min_samples_split=2, n_estimators=900;, score=-35841516.894 total time=   3.0s\n",
      "[CV 1/5] END max_depth=10, max_features=auto, min_samples_leaf=10, min_samples_split=5, n_estimators=300;, score=-17931416.831 total time=   0.6s\n",
      "[CV 2/5] END max_depth=10, max_features=auto, min_samples_leaf=10, min_samples_split=5, n_estimators=300;, score=-18526518.553 total time=   0.5s\n",
      "[CV 3/5] END max_depth=10, max_features=auto, min_samples_leaf=10, min_samples_split=5, n_estimators=300;, score=-24530633.217 total time=   0.5s\n",
      "[CV 4/5] END max_depth=10, max_features=auto, min_samples_leaf=10, min_samples_split=5, n_estimators=300;, score=-20633866.193 total time=   0.5s\n",
      "[CV 5/5] END max_depth=10, max_features=auto, min_samples_leaf=10, min_samples_split=5, n_estimators=300;, score=-30893121.898 total time=   0.5s\n",
      "[CV 1/5] END max_depth=5, max_features=sqrt, min_samples_leaf=10, min_samples_split=5, n_estimators=200;, score=-27273909.499 total time=   0.2s\n",
      "[CV 2/5] END max_depth=5, max_features=sqrt, min_samples_leaf=10, min_samples_split=5, n_estimators=200;, score=-25491927.454 total time=   0.2s\n",
      "[CV 3/5] END max_depth=5, max_features=sqrt, min_samples_leaf=10, min_samples_split=5, n_estimators=200;, score=-33681716.699 total time=   0.2s\n",
      "[CV 4/5] END max_depth=5, max_features=sqrt, min_samples_leaf=10, min_samples_split=5, n_estimators=200;, score=-30624965.959 total time=   0.2s\n",
      "[CV 5/5] END max_depth=5, max_features=sqrt, min_samples_leaf=10, min_samples_split=5, n_estimators=200;, score=-43501223.147 total time=   0.2s\n",
      "[CV 1/5] END max_depth=30, max_features=sqrt, min_samples_leaf=1, min_samples_split=5, n_estimators=400;, score=-20578129.954 total time=   0.7s\n",
      "[CV 2/5] END max_depth=30, max_features=sqrt, min_samples_leaf=1, min_samples_split=5, n_estimators=400;, score=-21135875.569 total time=   0.7s\n",
      "[CV 3/5] END max_depth=30, max_features=sqrt, min_samples_leaf=1, min_samples_split=5, n_estimators=400;, score=-26996994.503 total time=   0.7s\n",
      "[CV 4/5] END max_depth=30, max_features=sqrt, min_samples_leaf=1, min_samples_split=5, n_estimators=400;, score=-23174738.083 total time=   0.8s\n",
      "[CV 5/5] END max_depth=30, max_features=sqrt, min_samples_leaf=1, min_samples_split=5, n_estimators=400;, score=-35327352.422 total time=   0.8s\n"
     ]
    },
    {
     "data": {
      "text/html": [
       "<style>#sk-container-id-5 {color: black;background-color: white;}#sk-container-id-5 pre{padding: 0;}#sk-container-id-5 div.sk-toggleable {background-color: white;}#sk-container-id-5 label.sk-toggleable__label {cursor: pointer;display: block;width: 100%;margin-bottom: 0;padding: 0.3em;box-sizing: border-box;text-align: center;}#sk-container-id-5 label.sk-toggleable__label-arrow:before {content: \"▸\";float: left;margin-right: 0.25em;color: #696969;}#sk-container-id-5 label.sk-toggleable__label-arrow:hover:before {color: black;}#sk-container-id-5 div.sk-estimator:hover label.sk-toggleable__label-arrow:before {color: black;}#sk-container-id-5 div.sk-toggleable__content {max-height: 0;max-width: 0;overflow: hidden;text-align: left;background-color: #f0f8ff;}#sk-container-id-5 div.sk-toggleable__content pre {margin: 0.2em;color: black;border-radius: 0.25em;background-color: #f0f8ff;}#sk-container-id-5 input.sk-toggleable__control:checked~div.sk-toggleable__content {max-height: 200px;max-width: 100%;overflow: auto;}#sk-container-id-5 input.sk-toggleable__control:checked~label.sk-toggleable__label-arrow:before {content: \"▾\";}#sk-container-id-5 div.sk-estimator input.sk-toggleable__control:checked~label.sk-toggleable__label {background-color: #d4ebff;}#sk-container-id-5 div.sk-label input.sk-toggleable__control:checked~label.sk-toggleable__label {background-color: #d4ebff;}#sk-container-id-5 input.sk-hidden--visually {border: 0;clip: rect(1px 1px 1px 1px);clip: rect(1px, 1px, 1px, 1px);height: 1px;margin: -1px;overflow: hidden;padding: 0;position: absolute;width: 1px;}#sk-container-id-5 div.sk-estimator {font-family: monospace;background-color: #f0f8ff;border: 1px dotted black;border-radius: 0.25em;box-sizing: border-box;margin-bottom: 0.5em;}#sk-container-id-5 div.sk-estimator:hover {background-color: #d4ebff;}#sk-container-id-5 div.sk-parallel-item::after {content: \"\";width: 100%;border-bottom: 1px solid gray;flex-grow: 1;}#sk-container-id-5 div.sk-label:hover label.sk-toggleable__label {background-color: #d4ebff;}#sk-container-id-5 div.sk-serial::before {content: \"\";position: absolute;border-left: 1px solid gray;box-sizing: border-box;top: 0;bottom: 0;left: 50%;z-index: 0;}#sk-container-id-5 div.sk-serial {display: flex;flex-direction: column;align-items: center;background-color: white;padding-right: 0.2em;padding-left: 0.2em;position: relative;}#sk-container-id-5 div.sk-item {position: relative;z-index: 1;}#sk-container-id-5 div.sk-parallel {display: flex;align-items: stretch;justify-content: center;background-color: white;position: relative;}#sk-container-id-5 div.sk-item::before, #sk-container-id-5 div.sk-parallel-item::before {content: \"\";position: absolute;border-left: 1px solid gray;box-sizing: border-box;top: 0;bottom: 0;left: 50%;z-index: -1;}#sk-container-id-5 div.sk-parallel-item {display: flex;flex-direction: column;z-index: 1;position: relative;background-color: white;}#sk-container-id-5 div.sk-parallel-item:first-child::after {align-self: flex-end;width: 50%;}#sk-container-id-5 div.sk-parallel-item:last-child::after {align-self: flex-start;width: 50%;}#sk-container-id-5 div.sk-parallel-item:only-child::after {width: 0;}#sk-container-id-5 div.sk-dashed-wrapped {border: 1px dashed gray;margin: 0 0.4em 0.5em 0.4em;box-sizing: border-box;padding-bottom: 0.4em;background-color: white;}#sk-container-id-5 div.sk-label label {font-family: monospace;font-weight: bold;display: inline-block;line-height: 1.2em;}#sk-container-id-5 div.sk-label-container {text-align: center;}#sk-container-id-5 div.sk-container {/* jupyter's `normalize.less` sets `[hidden] { display: none; }` but bootstrap.min.css set `[hidden] { display: none !important; }` so we also need the `!important` here to be able to override the default hidden behavior on the sphinx rendered scikit-learn.org. See: https://github.com/scikit-learn/scikit-learn/issues/21755 */display: inline-block !important;position: relative;}#sk-container-id-5 div.sk-text-repr-fallback {display: none;}</style><div id=\"sk-container-id-5\" class=\"sk-top-container\"><div class=\"sk-text-repr-fallback\"><pre>RandomizedSearchCV(cv=5, estimator=RandomForestRegressor(),\n",
       "                   param_distributions={&#x27;max_depth&#x27;: [5, 10, 15, 20, 25, 30],\n",
       "                                        &#x27;max_features&#x27;: [&#x27;auto&#x27;, &#x27;sqrt&#x27;],\n",
       "                                        &#x27;min_samples_leaf&#x27;: [1, 2, 5, 10],\n",
       "                                        &#x27;min_samples_split&#x27;: [2, 5, 10, 15,\n",
       "                                                              100],\n",
       "                                        &#x27;n_estimators&#x27;: [100, 200, 300, 400,\n",
       "                                                         500, 600, 700, 800,\n",
       "                                                         900, 1000, 1100,\n",
       "                                                         1200]},\n",
       "                   random_state=2, scoring=&#x27;neg_mean_squared_error&#x27;, verbose=5)</pre><b>In a Jupyter environment, please rerun this cell to show the HTML representation or trust the notebook. <br />On GitHub, the HTML representation is unable to render, please try loading this page with nbviewer.org.</b></div><div class=\"sk-container\" hidden><div class=\"sk-item sk-dashed-wrapped\"><div class=\"sk-label-container\"><div class=\"sk-label sk-toggleable\"><input class=\"sk-toggleable__control sk-hidden--visually\" id=\"sk-estimator-id-5\" type=\"checkbox\" ><label for=\"sk-estimator-id-5\" class=\"sk-toggleable__label sk-toggleable__label-arrow\">RandomizedSearchCV</label><div class=\"sk-toggleable__content\"><pre>RandomizedSearchCV(cv=5, estimator=RandomForestRegressor(),\n",
       "                   param_distributions={&#x27;max_depth&#x27;: [5, 10, 15, 20, 25, 30],\n",
       "                                        &#x27;max_features&#x27;: [&#x27;auto&#x27;, &#x27;sqrt&#x27;],\n",
       "                                        &#x27;min_samples_leaf&#x27;: [1, 2, 5, 10],\n",
       "                                        &#x27;min_samples_split&#x27;: [2, 5, 10, 15,\n",
       "                                                              100],\n",
       "                                        &#x27;n_estimators&#x27;: [100, 200, 300, 400,\n",
       "                                                         500, 600, 700, 800,\n",
       "                                                         900, 1000, 1100,\n",
       "                                                         1200]},\n",
       "                   random_state=2, scoring=&#x27;neg_mean_squared_error&#x27;, verbose=5)</pre></div></div></div><div class=\"sk-parallel\"><div class=\"sk-parallel-item\"><div class=\"sk-item\"><div class=\"sk-label-container\"><div class=\"sk-label sk-toggleable\"><input class=\"sk-toggleable__control sk-hidden--visually\" id=\"sk-estimator-id-6\" type=\"checkbox\" ><label for=\"sk-estimator-id-6\" class=\"sk-toggleable__label sk-toggleable__label-arrow\">estimator: RandomForestRegressor</label><div class=\"sk-toggleable__content\"><pre>RandomForestRegressor()</pre></div></div></div><div class=\"sk-serial\"><div class=\"sk-item\"><div class=\"sk-estimator sk-toggleable\"><input class=\"sk-toggleable__control sk-hidden--visually\" id=\"sk-estimator-id-7\" type=\"checkbox\" ><label for=\"sk-estimator-id-7\" class=\"sk-toggleable__label sk-toggleable__label-arrow\">RandomForestRegressor</label><div class=\"sk-toggleable__content\"><pre>RandomForestRegressor()</pre></div></div></div></div></div></div></div></div></div></div>"
      ],
      "text/plain": [
       "RandomizedSearchCV(cv=5, estimator=RandomForestRegressor(),\n",
       "                   param_distributions={'max_depth': [5, 10, 15, 20, 25, 30],\n",
       "                                        'max_features': ['auto', 'sqrt'],\n",
       "                                        'min_samples_leaf': [1, 2, 5, 10],\n",
       "                                        'min_samples_split': [2, 5, 10, 15,\n",
       "                                                              100],\n",
       "                                        'n_estimators': [100, 200, 300, 400,\n",
       "                                                         500, 600, 700, 800,\n",
       "                                                         900, 1000, 1100,\n",
       "                                                         1200]},\n",
       "                   random_state=2, scoring='neg_mean_squared_error', verbose=5)"
      ]
     },
     "execution_count": 200,
     "metadata": {},
     "output_type": "execute_result"
    }
   ],
   "source": [
    "hyper_tuning.fit(x_train,y_train)"
   ]
  },
  {
   "cell_type": "code",
   "execution_count": 201,
   "id": "dda70556",
   "metadata": {
    "execution": {
     "iopub.execute_input": "2022-07-06T08:28:11.753536Z",
     "iopub.status.busy": "2022-07-06T08:28:11.752865Z",
     "iopub.status.idle": "2022-07-06T08:28:11.760075Z",
     "shell.execute_reply": "2022-07-06T08:28:11.758672Z"
    },
    "papermill": {
     "duration": 0.07222,
     "end_time": "2022-07-06T08:28:11.762373",
     "exception": false,
     "start_time": "2022-07-06T08:28:11.690153",
     "status": "completed"
    },
    "tags": []
   },
   "outputs": [
    {
     "data": {
      "text/plain": [
       "{'n_estimators': 300,\n",
       " 'min_samples_split': 5,\n",
       " 'min_samples_leaf': 10,\n",
       " 'max_features': 'auto',\n",
       " 'max_depth': 10}"
      ]
     },
     "execution_count": 201,
     "metadata": {},
     "output_type": "execute_result"
    }
   ],
   "source": [
    "hyper_tuning.best_params_"
   ]
  },
  {
   "cell_type": "code",
   "execution_count": 202,
   "id": "c248693c",
   "metadata": {
    "execution": {
     "iopub.execute_input": "2022-07-06T08:28:11.889732Z",
     "iopub.status.busy": "2022-07-06T08:28:11.889012Z",
     "iopub.status.idle": "2022-07-06T08:28:11.893754Z",
     "shell.execute_reply": "2022-07-06T08:28:11.892879Z"
    },
    "papermill": {
     "duration": 0.069821,
     "end_time": "2022-07-06T08:28:11.895911",
     "exception": false,
     "start_time": "2022-07-06T08:28:11.826090",
     "status": "completed"
    },
    "tags": []
   },
   "outputs": [],
   "source": [
    "rfr2=RandomForestRegressor(n_estimators=300,min_samples_split=5,min_samples_leaf=10,max_features='auto',max_depth=10)"
   ]
  },
  {
   "cell_type": "code",
   "execution_count": 203,
   "id": "36e5f6cc",
   "metadata": {
    "execution": {
     "iopub.execute_input": "2022-07-06T08:28:12.022622Z",
     "iopub.status.busy": "2022-07-06T08:28:12.021889Z",
     "iopub.status.idle": "2022-07-06T08:28:12.730429Z",
     "shell.execute_reply": "2022-07-06T08:28:12.729276Z"
    },
    "papermill": {
     "duration": 0.774059,
     "end_time": "2022-07-06T08:28:12.733008",
     "exception": false,
     "start_time": "2022-07-06T08:28:11.958949",
     "status": "completed"
    },
    "tags": []
   },
   "outputs": [
    {
     "data": {
      "text/html": [
       "<style>#sk-container-id-6 {color: black;background-color: white;}#sk-container-id-6 pre{padding: 0;}#sk-container-id-6 div.sk-toggleable {background-color: white;}#sk-container-id-6 label.sk-toggleable__label {cursor: pointer;display: block;width: 100%;margin-bottom: 0;padding: 0.3em;box-sizing: border-box;text-align: center;}#sk-container-id-6 label.sk-toggleable__label-arrow:before {content: \"▸\";float: left;margin-right: 0.25em;color: #696969;}#sk-container-id-6 label.sk-toggleable__label-arrow:hover:before {color: black;}#sk-container-id-6 div.sk-estimator:hover label.sk-toggleable__label-arrow:before {color: black;}#sk-container-id-6 div.sk-toggleable__content {max-height: 0;max-width: 0;overflow: hidden;text-align: left;background-color: #f0f8ff;}#sk-container-id-6 div.sk-toggleable__content pre {margin: 0.2em;color: black;border-radius: 0.25em;background-color: #f0f8ff;}#sk-container-id-6 input.sk-toggleable__control:checked~div.sk-toggleable__content {max-height: 200px;max-width: 100%;overflow: auto;}#sk-container-id-6 input.sk-toggleable__control:checked~label.sk-toggleable__label-arrow:before {content: \"▾\";}#sk-container-id-6 div.sk-estimator input.sk-toggleable__control:checked~label.sk-toggleable__label {background-color: #d4ebff;}#sk-container-id-6 div.sk-label input.sk-toggleable__control:checked~label.sk-toggleable__label {background-color: #d4ebff;}#sk-container-id-6 input.sk-hidden--visually {border: 0;clip: rect(1px 1px 1px 1px);clip: rect(1px, 1px, 1px, 1px);height: 1px;margin: -1px;overflow: hidden;padding: 0;position: absolute;width: 1px;}#sk-container-id-6 div.sk-estimator {font-family: monospace;background-color: #f0f8ff;border: 1px dotted black;border-radius: 0.25em;box-sizing: border-box;margin-bottom: 0.5em;}#sk-container-id-6 div.sk-estimator:hover {background-color: #d4ebff;}#sk-container-id-6 div.sk-parallel-item::after {content: \"\";width: 100%;border-bottom: 1px solid gray;flex-grow: 1;}#sk-container-id-6 div.sk-label:hover label.sk-toggleable__label {background-color: #d4ebff;}#sk-container-id-6 div.sk-serial::before {content: \"\";position: absolute;border-left: 1px solid gray;box-sizing: border-box;top: 0;bottom: 0;left: 50%;z-index: 0;}#sk-container-id-6 div.sk-serial {display: flex;flex-direction: column;align-items: center;background-color: white;padding-right: 0.2em;padding-left: 0.2em;position: relative;}#sk-container-id-6 div.sk-item {position: relative;z-index: 1;}#sk-container-id-6 div.sk-parallel {display: flex;align-items: stretch;justify-content: center;background-color: white;position: relative;}#sk-container-id-6 div.sk-item::before, #sk-container-id-6 div.sk-parallel-item::before {content: \"\";position: absolute;border-left: 1px solid gray;box-sizing: border-box;top: 0;bottom: 0;left: 50%;z-index: -1;}#sk-container-id-6 div.sk-parallel-item {display: flex;flex-direction: column;z-index: 1;position: relative;background-color: white;}#sk-container-id-6 div.sk-parallel-item:first-child::after {align-self: flex-end;width: 50%;}#sk-container-id-6 div.sk-parallel-item:last-child::after {align-self: flex-start;width: 50%;}#sk-container-id-6 div.sk-parallel-item:only-child::after {width: 0;}#sk-container-id-6 div.sk-dashed-wrapped {border: 1px dashed gray;margin: 0 0.4em 0.5em 0.4em;box-sizing: border-box;padding-bottom: 0.4em;background-color: white;}#sk-container-id-6 div.sk-label label {font-family: monospace;font-weight: bold;display: inline-block;line-height: 1.2em;}#sk-container-id-6 div.sk-label-container {text-align: center;}#sk-container-id-6 div.sk-container {/* jupyter's `normalize.less` sets `[hidden] { display: none; }` but bootstrap.min.css set `[hidden] { display: none !important; }` so we also need the `!important` here to be able to override the default hidden behavior on the sphinx rendered scikit-learn.org. See: https://github.com/scikit-learn/scikit-learn/issues/21755 */display: inline-block !important;position: relative;}#sk-container-id-6 div.sk-text-repr-fallback {display: none;}</style><div id=\"sk-container-id-6\" class=\"sk-top-container\"><div class=\"sk-text-repr-fallback\"><pre>RandomForestRegressor(max_depth=10, max_features=&#x27;auto&#x27;, min_samples_leaf=10,\n",
       "                      min_samples_split=5, n_estimators=300)</pre><b>In a Jupyter environment, please rerun this cell to show the HTML representation or trust the notebook. <br />On GitHub, the HTML representation is unable to render, please try loading this page with nbviewer.org.</b></div><div class=\"sk-container\" hidden><div class=\"sk-item\"><div class=\"sk-estimator sk-toggleable\"><input class=\"sk-toggleable__control sk-hidden--visually\" id=\"sk-estimator-id-8\" type=\"checkbox\" checked><label for=\"sk-estimator-id-8\" class=\"sk-toggleable__label sk-toggleable__label-arrow\">RandomForestRegressor</label><div class=\"sk-toggleable__content\"><pre>RandomForestRegressor(max_depth=10, max_features=&#x27;auto&#x27;, min_samples_leaf=10,\n",
       "                      min_samples_split=5, n_estimators=300)</pre></div></div></div></div></div>"
      ],
      "text/plain": [
       "RandomForestRegressor(max_depth=10, max_features='auto', min_samples_leaf=10,\n",
       "                      min_samples_split=5, n_estimators=300)"
      ]
     },
     "execution_count": 203,
     "metadata": {},
     "output_type": "execute_result"
    }
   ],
   "source": [
    "rfr2.fit(x_train,y_train)"
   ]
  },
  {
   "cell_type": "code",
   "execution_count": 204,
   "id": "212814c4",
   "metadata": {
    "execution": {
     "iopub.execute_input": "2022-07-06T08:28:12.858615Z",
     "iopub.status.busy": "2022-07-06T08:28:12.858198Z",
     "iopub.status.idle": "2022-07-06T08:28:12.899405Z",
     "shell.execute_reply": "2022-07-06T08:28:12.898412Z"
    },
    "papermill": {
     "duration": 0.106722,
     "end_time": "2022-07-06T08:28:12.901945",
     "exception": false,
     "start_time": "2022-07-06T08:28:12.795223",
     "status": "completed"
    },
    "tags": []
   },
   "outputs": [],
   "source": [
    "prediction2=rfr2.predict(x_test)"
   ]
  },
  {
   "cell_type": "code",
   "execution_count": 205,
   "id": "cd4bf1c0",
   "metadata": {
    "execution": {
     "iopub.execute_input": "2022-07-06T08:28:13.028898Z",
     "iopub.status.busy": "2022-07-06T08:28:13.028142Z",
     "iopub.status.idle": "2022-07-06T08:28:13.093373Z",
     "shell.execute_reply": "2022-07-06T08:28:13.092285Z"
    },
    "papermill": {
     "duration": 0.131872,
     "end_time": "2022-07-06T08:28:13.095711",
     "exception": false,
     "start_time": "2022-07-06T08:28:12.963839",
     "status": "completed"
    },
    "tags": []
   },
   "outputs": [
    {
     "data": {
      "text/plain": [
       "0.8797727959966153"
      ]
     },
     "execution_count": 205,
     "metadata": {},
     "output_type": "execute_result"
    }
   ],
   "source": [
    "rfr2.score(x_train,y_train)"
   ]
  },
  {
   "cell_type": "code",
   "execution_count": 206,
   "id": "99f69cc3",
   "metadata": {
    "execution": {
     "iopub.execute_input": "2022-07-06T08:28:13.223720Z",
     "iopub.status.busy": "2022-07-06T08:28:13.223297Z",
     "iopub.status.idle": "2022-07-06T08:28:13.269331Z",
     "shell.execute_reply": "2022-07-06T08:28:13.268034Z"
    },
    "papermill": {
     "duration": 0.113315,
     "end_time": "2022-07-06T08:28:13.271643",
     "exception": false,
     "start_time": "2022-07-06T08:28:13.158328",
     "status": "completed"
    },
    "tags": []
   },
   "outputs": [
    {
     "data": {
      "text/plain": [
       "0.901296048259858"
      ]
     },
     "execution_count": 206,
     "metadata": {},
     "output_type": "execute_result"
    }
   ],
   "source": [
    "rfr2.score(x_test,y_test)"
   ]
  },
  {
   "cell_type": "code",
   "execution_count": 207,
   "id": "b1e77913",
   "metadata": {
    "execution": {
     "iopub.execute_input": "2022-07-06T08:28:13.398344Z",
     "iopub.status.busy": "2022-07-06T08:28:13.397613Z",
     "iopub.status.idle": "2022-07-06T08:28:13.405161Z",
     "shell.execute_reply": "2022-07-06T08:28:13.403922Z"
    },
    "papermill": {
     "duration": 0.073599,
     "end_time": "2022-07-06T08:28:13.407577",
     "exception": false,
     "start_time": "2022-07-06T08:28:13.333978",
     "status": "completed"
    },
    "tags": []
   },
   "outputs": [
    {
     "name": "stdout",
     "output_type": "stream",
     "text": [
      "0.901296048259858\n"
     ]
    }
   ],
   "source": [
    "print(r2_score(y_test,prediction2))"
   ]
  },
  {
   "cell_type": "markdown",
   "id": "d4ffc1d5",
   "metadata": {
    "papermill": {
     "duration": 0.063182,
     "end_time": "2022-07-06T08:28:13.533638",
     "exception": false,
     "start_time": "2022-07-06T08:28:13.470456",
     "status": "completed"
    },
    "tags": []
   },
   "source": [
    "**The score has improved after hyper parameter tuning the Random Forest Regressor Algorithm**"
   ]
  },
  {
   "cell_type": "markdown",
   "id": "45568b4a",
   "metadata": {
    "papermill": {
     "duration": 0.061704,
     "end_time": "2022-07-06T08:28:13.659424",
     "exception": false,
     "start_time": "2022-07-06T08:28:13.597720",
     "status": "completed"
    },
    "tags": []
   },
   "source": [
    "**Yet it is Underfitting**"
   ]
  },
  {
   "cell_type": "markdown",
   "id": "f4add0b9",
   "metadata": {
    "papermill": {
     "duration": 0.06195,
     "end_time": "2022-07-06T08:28:13.783243",
     "exception": false,
     "start_time": "2022-07-06T08:28:13.721293",
     "status": "completed"
    },
    "tags": []
   },
   "source": [
    "# Gradient Boosting"
   ]
  },
  {
   "cell_type": "code",
   "execution_count": 208,
   "id": "ee7f18d4",
   "metadata": {
    "execution": {
     "iopub.execute_input": "2022-07-06T08:28:13.910082Z",
     "iopub.status.busy": "2022-07-06T08:28:13.909386Z",
     "iopub.status.idle": "2022-07-06T08:28:13.914607Z",
     "shell.execute_reply": "2022-07-06T08:28:13.913684Z"
    },
    "papermill": {
     "duration": 0.071154,
     "end_time": "2022-07-06T08:28:13.916750",
     "exception": false,
     "start_time": "2022-07-06T08:28:13.845596",
     "status": "completed"
    },
    "tags": []
   },
   "outputs": [],
   "source": [
    "from sklearn.ensemble import GradientBoostingRegressor\n",
    "gbr=GradientBoostingRegressor()"
   ]
  },
  {
   "cell_type": "code",
   "execution_count": 209,
   "id": "cb65940a",
   "metadata": {
    "execution": {
     "iopub.execute_input": "2022-07-06T08:28:14.043538Z",
     "iopub.status.busy": "2022-07-06T08:28:14.042265Z",
     "iopub.status.idle": "2022-07-06T08:28:14.147772Z",
     "shell.execute_reply": "2022-07-06T08:28:14.146645Z"
    },
    "papermill": {
     "duration": 0.171724,
     "end_time": "2022-07-06T08:28:14.150206",
     "exception": false,
     "start_time": "2022-07-06T08:28:13.978482",
     "status": "completed"
    },
    "tags": []
   },
   "outputs": [
    {
     "data": {
      "text/html": [
       "<style>#sk-container-id-7 {color: black;background-color: white;}#sk-container-id-7 pre{padding: 0;}#sk-container-id-7 div.sk-toggleable {background-color: white;}#sk-container-id-7 label.sk-toggleable__label {cursor: pointer;display: block;width: 100%;margin-bottom: 0;padding: 0.3em;box-sizing: border-box;text-align: center;}#sk-container-id-7 label.sk-toggleable__label-arrow:before {content: \"▸\";float: left;margin-right: 0.25em;color: #696969;}#sk-container-id-7 label.sk-toggleable__label-arrow:hover:before {color: black;}#sk-container-id-7 div.sk-estimator:hover label.sk-toggleable__label-arrow:before {color: black;}#sk-container-id-7 div.sk-toggleable__content {max-height: 0;max-width: 0;overflow: hidden;text-align: left;background-color: #f0f8ff;}#sk-container-id-7 div.sk-toggleable__content pre {margin: 0.2em;color: black;border-radius: 0.25em;background-color: #f0f8ff;}#sk-container-id-7 input.sk-toggleable__control:checked~div.sk-toggleable__content {max-height: 200px;max-width: 100%;overflow: auto;}#sk-container-id-7 input.sk-toggleable__control:checked~label.sk-toggleable__label-arrow:before {content: \"▾\";}#sk-container-id-7 div.sk-estimator input.sk-toggleable__control:checked~label.sk-toggleable__label {background-color: #d4ebff;}#sk-container-id-7 div.sk-label input.sk-toggleable__control:checked~label.sk-toggleable__label {background-color: #d4ebff;}#sk-container-id-7 input.sk-hidden--visually {border: 0;clip: rect(1px 1px 1px 1px);clip: rect(1px, 1px, 1px, 1px);height: 1px;margin: -1px;overflow: hidden;padding: 0;position: absolute;width: 1px;}#sk-container-id-7 div.sk-estimator {font-family: monospace;background-color: #f0f8ff;border: 1px dotted black;border-radius: 0.25em;box-sizing: border-box;margin-bottom: 0.5em;}#sk-container-id-7 div.sk-estimator:hover {background-color: #d4ebff;}#sk-container-id-7 div.sk-parallel-item::after {content: \"\";width: 100%;border-bottom: 1px solid gray;flex-grow: 1;}#sk-container-id-7 div.sk-label:hover label.sk-toggleable__label {background-color: #d4ebff;}#sk-container-id-7 div.sk-serial::before {content: \"\";position: absolute;border-left: 1px solid gray;box-sizing: border-box;top: 0;bottom: 0;left: 50%;z-index: 0;}#sk-container-id-7 div.sk-serial {display: flex;flex-direction: column;align-items: center;background-color: white;padding-right: 0.2em;padding-left: 0.2em;position: relative;}#sk-container-id-7 div.sk-item {position: relative;z-index: 1;}#sk-container-id-7 div.sk-parallel {display: flex;align-items: stretch;justify-content: center;background-color: white;position: relative;}#sk-container-id-7 div.sk-item::before, #sk-container-id-7 div.sk-parallel-item::before {content: \"\";position: absolute;border-left: 1px solid gray;box-sizing: border-box;top: 0;bottom: 0;left: 50%;z-index: -1;}#sk-container-id-7 div.sk-parallel-item {display: flex;flex-direction: column;z-index: 1;position: relative;background-color: white;}#sk-container-id-7 div.sk-parallel-item:first-child::after {align-self: flex-end;width: 50%;}#sk-container-id-7 div.sk-parallel-item:last-child::after {align-self: flex-start;width: 50%;}#sk-container-id-7 div.sk-parallel-item:only-child::after {width: 0;}#sk-container-id-7 div.sk-dashed-wrapped {border: 1px dashed gray;margin: 0 0.4em 0.5em 0.4em;box-sizing: border-box;padding-bottom: 0.4em;background-color: white;}#sk-container-id-7 div.sk-label label {font-family: monospace;font-weight: bold;display: inline-block;line-height: 1.2em;}#sk-container-id-7 div.sk-label-container {text-align: center;}#sk-container-id-7 div.sk-container {/* jupyter's `normalize.less` sets `[hidden] { display: none; }` but bootstrap.min.css set `[hidden] { display: none !important; }` so we also need the `!important` here to be able to override the default hidden behavior on the sphinx rendered scikit-learn.org. See: https://github.com/scikit-learn/scikit-learn/issues/21755 */display: inline-block !important;position: relative;}#sk-container-id-7 div.sk-text-repr-fallback {display: none;}</style><div id=\"sk-container-id-7\" class=\"sk-top-container\"><div class=\"sk-text-repr-fallback\"><pre>GradientBoostingRegressor()</pre><b>In a Jupyter environment, please rerun this cell to show the HTML representation or trust the notebook. <br />On GitHub, the HTML representation is unable to render, please try loading this page with nbviewer.org.</b></div><div class=\"sk-container\" hidden><div class=\"sk-item\"><div class=\"sk-estimator sk-toggleable\"><input class=\"sk-toggleable__control sk-hidden--visually\" id=\"sk-estimator-id-9\" type=\"checkbox\" checked><label for=\"sk-estimator-id-9\" class=\"sk-toggleable__label sk-toggleable__label-arrow\">GradientBoostingRegressor</label><div class=\"sk-toggleable__content\"><pre>GradientBoostingRegressor()</pre></div></div></div></div></div>"
      ],
      "text/plain": [
       "GradientBoostingRegressor()"
      ]
     },
     "execution_count": 209,
     "metadata": {},
     "output_type": "execute_result"
    }
   ],
   "source": [
    "gbr.fit(x_train,y_train)"
   ]
  },
  {
   "cell_type": "code",
   "execution_count": 210,
   "id": "7c5e0bdb",
   "metadata": {
    "execution": {
     "iopub.execute_input": "2022-07-06T08:28:14.275360Z",
     "iopub.status.busy": "2022-07-06T08:28:14.274947Z",
     "iopub.status.idle": "2022-07-06T08:28:14.281291Z",
     "shell.execute_reply": "2022-07-06T08:28:14.280289Z"
    },
    "papermill": {
     "duration": 0.071935,
     "end_time": "2022-07-06T08:28:14.283710",
     "exception": false,
     "start_time": "2022-07-06T08:28:14.211775",
     "status": "completed"
    },
    "tags": []
   },
   "outputs": [],
   "source": [
    "gbrpred=gbr.predict(x_test)"
   ]
  },
  {
   "cell_type": "code",
   "execution_count": 211,
   "id": "dea6d102",
   "metadata": {
    "execution": {
     "iopub.execute_input": "2022-07-06T08:28:14.410857Z",
     "iopub.status.busy": "2022-07-06T08:28:14.410426Z",
     "iopub.status.idle": "2022-07-06T08:28:14.421218Z",
     "shell.execute_reply": "2022-07-06T08:28:14.420117Z"
    },
    "papermill": {
     "duration": 0.076495,
     "end_time": "2022-07-06T08:28:14.423448",
     "exception": false,
     "start_time": "2022-07-06T08:28:14.346953",
     "status": "completed"
    },
    "tags": []
   },
   "outputs": [
    {
     "data": {
      "text/plain": [
       "array([12082.70115985,  9671.7205882 , 46362.57791373, 13702.1875342 ,\n",
       "       10258.05421121,  5130.23872255,  2563.96170578, 14261.50180334,\n",
       "        8085.42247772,  6973.39590684,  6564.59149385, 12469.39100521,\n",
       "        8770.94891776,  5775.33232431, 21506.97843539, 11888.66108975,\n",
       "       14819.00422644,  5940.60482546,  7337.98956008, 36421.30574338,\n",
       "       24414.33517504, 14153.71134656, 11832.90105151, 25962.93365145,\n",
       "        2906.41129638,  7941.11729849,  4740.1779865 ,  7873.49157034,\n",
       "        4293.81164032, 10844.7351175 ,  7647.07960715, 48235.70808486,\n",
       "       14631.25060395, 10893.97233744, 17044.53937687,  4932.5884947 ,\n",
       "        9921.72261469, 36912.21040562, 38896.88598698,  2591.23419288,\n",
       "        5430.42151468,  4346.84676312, 20088.5636907 , 47195.90109583,\n",
       "       36604.50510993,  5901.12302524, 12024.98759558,  7522.33262938,\n",
       "        5319.50293143, 12201.33747297,  4874.93979519,  5683.4674373 ,\n",
       "       27402.8345815 , 45887.95475707, 10648.07826039,  7763.95731234,\n",
       "        5207.76316122, 10184.19288593,  9669.16695726, 16431.4714455 ,\n",
       "        2615.60928148, 44562.11260002, 18029.09971103, 11517.34296953,\n",
       "       15434.77932474,  9741.34254299, 36407.82390416, 39246.60605652,\n",
       "        3859.33619028,  9054.03912805, 15071.72266368, 12594.37236228,\n",
       "       20068.34578887, 14446.86661066, 14320.93175384, 15654.0576677 ,\n",
       "        8486.05615658,  9400.74638467, 19435.91147204, 47471.19830368,\n",
       "       11390.49716393, 46299.29175289,  3350.67820696,  9412.99215441,\n",
       "       42383.15022467, 19556.17946448,  3920.2284277 ,  4298.80297306,\n",
       "       16382.43245252, 38001.08839698,  8984.60580156, 11285.28227334,\n",
       "        5048.32861695,  9906.47235021,  6670.80805571,  6603.81984972,\n",
       "       44270.69730637, 38336.56634477,  7124.93724302,  9880.61034862,\n",
       "        3636.98327063,  6556.34423222,  6589.69029867, 38883.53479687,\n",
       "       24714.82157285,  4550.84751363, 10976.25766821,  4985.91428978,\n",
       "       13078.07576406, 45751.68748387, 13031.74647251,  5359.68374273,\n",
       "       10766.35374074, 35014.60756212, 48039.35736865,  8094.0825754 ,\n",
       "        1945.34194366,  9924.87314578, 15615.93420699, 10137.5680501 ,\n",
       "       41743.38014147, 11596.78306848, 14364.15656628,  9030.3355816 ,\n",
       "       11828.65020044,  6172.07130625, 26068.90630752, 24300.7619351 ,\n",
       "       48355.59674643,  4057.5360215 ,  9689.70891991,  3799.99841946,\n",
       "        6194.64220248, 10131.5565596 , 36219.61313049, 37886.66655724,\n",
       "       23441.37674418, 11698.22779129, 24466.49649705,  6142.6913925 ,\n",
       "        3388.87866757, 11841.82174188, 13348.79084646, 11774.90403938,\n",
       "        6475.29404162, 14446.86661066, 15336.54462021,  6609.4671878 ,\n",
       "        2040.12149872, 12731.56750315,  7389.56630899, 39115.32164321,\n",
       "       11854.60510568,  5012.32977435,  5158.96464216,  7299.03752138,\n",
       "        4660.36340595,  3291.98923237, 12399.35665923, 11631.1119446 ,\n",
       "        7647.16467045, 12851.08230832, 14422.8113701 , 10691.06543131,\n",
       "        5299.08075265,  9821.80112893, 14925.44962829,  7909.7149033 ,\n",
       "        6008.86993029,  2249.01120193,  8165.25852639,  7507.3961947 ,\n",
       "       11041.50475999,  3900.74375296,  5754.12636526,  7356.82891399,\n",
       "        6010.55663598,  6736.4650786 , 28475.49987143,  2450.64162553,\n",
       "       14587.63119125,  7587.07559795, 11899.36012301,  4283.79383994,\n",
       "        6594.56591861, 27516.5545248 ,  4032.11997234,  3023.45395656,\n",
       "       14651.50130127, 13540.92414432, 42514.90627796,  5734.14988016,\n",
       "        5608.40029153, 24721.18077432,  5204.64053035,  3842.64121534,\n",
       "        8706.60094835, 10117.87376287,  6237.79141469,  5843.46946522,\n",
       "       13032.14144681, 46857.55412085, 14404.54813097, 18642.11744998,\n",
       "        7233.22755541, 43251.72445942,  6473.73921967, 11904.08380357,\n",
       "        7325.32959596,  2152.47652317, 11042.18751956, 14455.30955665,\n",
       "        7039.45751678,  3527.35502869,  6992.04240552,  3862.06875404,\n",
       "        7978.06460176,  6050.00298705, 16182.04839503,  7030.319015  ,\n",
       "        7019.27153483,  8072.09839685,  9902.37602881,  4065.75107408,\n",
       "       11487.70095576, 19067.26779118, 15898.55817721, 11501.93028794,\n",
       "        5782.63981321,  3563.14999818,  4129.25403858, 11238.42003446,\n",
       "       13661.36773135,  9528.92717728,  4848.36540526,  6893.76884282,\n",
       "       12689.53920939, 35642.52389172,  6860.41814883, 13674.54559654,\n",
       "        8824.31069335, 37705.88584567,  7007.97633157,  9353.11513213,\n",
       "       10354.73220162, 13004.22565616,  5319.73654701,  9837.51317038,\n",
       "        2967.30244002,  7020.78088269, 19815.37506823, 45412.75253423,\n",
       "        5150.02782274,  4389.39236196,  2942.8979496 ,  2551.51246226,\n",
       "        9019.29436078,  2957.59217474,  7429.95589683,  5305.62841236,\n",
       "        8278.82868499, 27713.79278954, 44076.5753137 , 17784.27096391,\n",
       "        7566.7781438 , 11531.73824694, 40145.04683407, 10189.17051956,\n",
       "       39367.33543385,  2932.15573638, 38862.86371756,  5701.98312041,\n",
       "       13032.14144681, 10891.4674685 , 40329.73996537,  7539.86137039,\n",
       "       11781.74624348, 10249.95609536,  4506.19963118, 16434.60029791,\n",
       "       11881.16118731,  7004.4711877 , 17520.08276597,  5179.6113995 ,\n",
       "        8939.11432443,  4777.08724983,  8654.26579038, 23285.35282037,\n",
       "        3818.39188862,  2450.64162553,  3425.01468699, 47869.84077387,\n",
       "       11100.01583341,  5922.37808434, 14227.03607172, 13032.14144681,\n",
       "       34602.17369892,  9887.5748698 ,  5632.38866808,  9921.2766374 ,\n",
       "        4500.8181576 ,  4980.68095222, 20344.17096759, 18561.74945401,\n",
       "       14565.63177753,  4110.69126916,  4575.23467498, 11422.163824  ,\n",
       "       12327.64194531, 14873.0867525 , 20872.34703948,  6180.04638803,\n",
       "       17181.12328159,  3929.80676119,  7706.46079551,  5267.26050045,\n",
       "       10529.87774041,  2969.18150029,  9147.90781689, 45767.02849078,\n",
       "        6554.20803566,  6750.31062272,  2340.30429085, 10092.13221782,\n",
       "        4900.41934861, 11835.02115504, 45126.38192871, 18560.78321735,\n",
       "       11877.79305971, 44908.94021113, 14657.1235895 ,  7233.22755541,\n",
       "       11158.22533031,  4888.19585643, 28388.10359856])"
      ]
     },
     "execution_count": 211,
     "metadata": {},
     "output_type": "execute_result"
    }
   ],
   "source": [
    "gbrpred"
   ]
  },
  {
   "cell_type": "code",
   "execution_count": 212,
   "id": "ac7207f1",
   "metadata": {
    "execution": {
     "iopub.execute_input": "2022-07-06T08:28:14.549279Z",
     "iopub.status.busy": "2022-07-06T08:28:14.548878Z",
     "iopub.status.idle": "2022-07-06T08:28:14.556780Z",
     "shell.execute_reply": "2022-07-06T08:28:14.556024Z"
    },
    "papermill": {
     "duration": 0.073458,
     "end_time": "2022-07-06T08:28:14.558877",
     "exception": false,
     "start_time": "2022-07-06T08:28:14.485419",
     "status": "completed"
    },
    "tags": []
   },
   "outputs": [
    {
     "data": {
      "text/plain": [
       "578      9724.53000\n",
       "610      8547.69130\n",
       "569     45702.02235\n",
       "1034    12950.07120\n",
       "198      9644.25250\n",
       "           ...     \n",
       "574     13224.05705\n",
       "1174     4433.91590\n",
       "1327     9377.90470\n",
       "817      3597.59600\n",
       "1337    29141.36030\n",
       "Name: charges, Length: 335, dtype: float64"
      ]
     },
     "execution_count": 212,
     "metadata": {},
     "output_type": "execute_result"
    }
   ],
   "source": [
    "y_test"
   ]
  },
  {
   "cell_type": "code",
   "execution_count": 213,
   "id": "1c491d98",
   "metadata": {
    "execution": {
     "iopub.execute_input": "2022-07-06T08:28:14.685535Z",
     "iopub.status.busy": "2022-07-06T08:28:14.685075Z",
     "iopub.status.idle": "2022-07-06T08:28:14.691722Z",
     "shell.execute_reply": "2022-07-06T08:28:14.690495Z"
    },
    "papermill": {
     "duration": 0.072879,
     "end_time": "2022-07-06T08:28:14.694353",
     "exception": false,
     "start_time": "2022-07-06T08:28:14.621474",
     "status": "completed"
    },
    "tags": []
   },
   "outputs": [
    {
     "name": "stdout",
     "output_type": "stream",
     "text": [
      "0.8978744031648791\n"
     ]
    }
   ],
   "source": [
    "print(r2_score(y_test,gbrpred))"
   ]
  },
  {
   "cell_type": "markdown",
   "id": "f82e6f90",
   "metadata": {
    "papermill": {
     "duration": 0.06202,
     "end_time": "2022-07-06T08:28:14.818936",
     "exception": false,
     "start_time": "2022-07-06T08:28:14.756916",
     "status": "completed"
    },
    "tags": []
   },
   "source": [
    "# Gradient Boosting Results"
   ]
  },
  {
   "cell_type": "code",
   "execution_count": 214,
   "id": "7aa5194d",
   "metadata": {
    "execution": {
     "iopub.execute_input": "2022-07-06T08:28:14.945433Z",
     "iopub.status.busy": "2022-07-06T08:28:14.945035Z",
     "iopub.status.idle": "2022-07-06T08:28:14.954156Z",
     "shell.execute_reply": "2022-07-06T08:28:14.953327Z"
    },
    "papermill": {
     "duration": 0.07485,
     "end_time": "2022-07-06T08:28:14.956477",
     "exception": false,
     "start_time": "2022-07-06T08:28:14.881627",
     "status": "completed"
    },
    "tags": []
   },
   "outputs": [
    {
     "name": "stdout",
     "output_type": "stream",
     "text": [
      "Gradient Boosting Training Score 89.88% \n"
     ]
    }
   ],
   "source": [
    "print('Gradient Boosting Training Score %.2f%% '%(gbr.score(x_train,y_train)*100))"
   ]
  },
  {
   "cell_type": "code",
   "execution_count": 215,
   "id": "e014a4a4",
   "metadata": {
    "execution": {
     "iopub.execute_input": "2022-07-06T08:28:15.082494Z",
     "iopub.status.busy": "2022-07-06T08:28:15.082120Z",
     "iopub.status.idle": "2022-07-06T08:28:15.089851Z",
     "shell.execute_reply": "2022-07-06T08:28:15.088316Z"
    },
    "papermill": {
     "duration": 0.073658,
     "end_time": "2022-07-06T08:28:15.092200",
     "exception": false,
     "start_time": "2022-07-06T08:28:15.018542",
     "status": "completed"
    },
    "tags": []
   },
   "outputs": [
    {
     "name": "stdout",
     "output_type": "stream",
     "text": [
      "Gradient Boosting Testing Score 89.79% \n"
     ]
    }
   ],
   "source": [
    "print('Gradient Boosting Testing Score %.2f%% '%(gbr.score(x_test,y_test)*100))"
   ]
  },
  {
   "cell_type": "markdown",
   "id": "d1763761",
   "metadata": {},
   "source": [
    "# Finding the Most Influencing Feature"
   ]
  },
  {
   "cell_type": "code",
   "execution_count": 243,
   "id": "417de74b",
   "metadata": {},
   "outputs": [
    {
     "name": "stdout",
     "output_type": "stream",
     "text": [
      "[0.12917876 0.00633356 0.21191766 0.01884858 0.61972366 0.01399778]\n"
     ]
    }
   ],
   "source": [
    "selection=RandomForestRegressor()\n",
    "selection.fit(x, y)\n",
    "print(selection.feature_importances_)"
   ]
  },
  {
   "cell_type": "code",
   "execution_count": 244,
   "id": "c2ca8beb",
   "metadata": {},
   "outputs": [
    {
     "data": {
      "image/png": "[encoded data removed]",
      "text/plain": [
       "<Figure size 1200x800 with 1 Axes>"
      ]
     },
     "metadata": {},
     "output_type": "display_data"
    }
   ],
   "source": [
    "plt.figure(figsize = (12,8))\n",
    "plt.title(\"Most Influencing feature \")\n",
    "plt.ylabel('Features')\n",
    "feat_importances = pd.Series(selection.feature_importances_, index=x.columns)\n",
    "feat_importances.nlargest(20).plot(kind='barh',color='purple')\n",
    "plt.show()"
   ]
  },
  {
   "cell_type": "markdown",
   "id": "9e3e8ca2",
   "metadata": {},
   "source": [
    "## Predict charges for new customer"
   ]
  },
  {
   "cell_type": "code",
   "execution_count": 216,
   "id": "7f0fda71",
   "metadata": {},
   "outputs": [
    {
     "data": {
      "text/html": [
       "<div>\n",
       "<style scoped>\n",
       "    .dataframe tbody tr th:only-of-type {\n",
       "        vertical-align: middle;\n",
       "    }\n",
       "\n",
       "    .dataframe tbody tr th {\n",
       "        vertical-align: top;\n",
       "    }\n",
       "\n",
       "    .dataframe thead th {\n",
       "        text-align: right;\n",
       "    }\n",
       "</style>\n",
       "<table border=\"1\" class=\"dataframe\">\n",
       "  <thead>\n",
       "    <tr style=\"text-align: right;\">\n",
       "      <th></th>\n",
       "      <th>age</th>\n",
       "      <th>sex</th>\n",
       "      <th>bmi</th>\n",
       "      <th>children</th>\n",
       "      <th>smoker</th>\n",
       "      <th>region</th>\n",
       "    </tr>\n",
       "  </thead>\n",
       "  <tbody>\n",
       "    <tr>\n",
       "      <th>0</th>\n",
       "      <td>35</td>\n",
       "      <td>1</td>\n",
       "      <td>30.3</td>\n",
       "      <td>0</td>\n",
       "      <td>0</td>\n",
       "      <td>4</td>\n",
       "    </tr>\n",
       "  </tbody>\n",
       "</table>\n",
       "</div>"
      ],
      "text/plain": [
       "   age  sex   bmi  children  smoker  region\n",
       "0   35    1  30.3         0       0       4"
      ]
     },
     "execution_count": 216,
     "metadata": {},
     "output_type": "execute_result"
    }
   ],
   "source": [
    "data={\"age\":35,\"sex\":1,\"bmi\":30.30,\"children\":0,\"smoker\":0,\"region\":4}\n",
    "new_df=pd.DataFrame(data,index=[0])\n",
    "new_df"
   ]
  },
  {
   "cell_type": "code",
   "execution_count": 217,
   "id": "8dbb4be0",
   "metadata": {},
   "outputs": [
    {
     "data": {
      "text/html": [
       "<div>\n",
       "<style scoped>\n",
       "    .dataframe tbody tr th:only-of-type {\n",
       "        vertical-align: middle;\n",
       "    }\n",
       "\n",
       "    .dataframe tbody tr th {\n",
       "        vertical-align: top;\n",
       "    }\n",
       "\n",
       "    .dataframe thead th {\n",
       "        text-align: right;\n",
       "    }\n",
       "</style>\n",
       "<table border=\"1\" class=\"dataframe\">\n",
       "  <thead>\n",
       "    <tr style=\"text-align: right;\">\n",
       "      <th></th>\n",
       "      <th>age</th>\n",
       "      <th>sex</th>\n",
       "      <th>bmi</th>\n",
       "      <th>children</th>\n",
       "      <th>smoker</th>\n",
       "      <th>region</th>\n",
       "    </tr>\n",
       "  </thead>\n",
       "  <tbody>\n",
       "    <tr>\n",
       "      <th>0</th>\n",
       "      <td>45</td>\n",
       "      <td>1</td>\n",
       "      <td>30.3</td>\n",
       "      <td>4</td>\n",
       "      <td>1</td>\n",
       "      <td>2</td>\n",
       "    </tr>\n",
       "  </tbody>\n",
       "</table>\n",
       "</div>"
      ],
      "text/plain": [
       "   age  sex   bmi  children  smoker  region\n",
       "0   45    1  30.3         4       1       2"
      ]
     },
     "execution_count": 217,
     "metadata": {},
     "output_type": "execute_result"
    }
   ],
   "source": [
    "data={\"age\":45,\"sex\":1,\"bmi\":30.30,\"children\":4,\"smoker\":1,\"region\":2}\n",
    "new_df2=pd.DataFrame(data,index=[0])\n",
    "new_df2"
   ]
  },
  {
   "cell_type": "code",
   "execution_count": 218,
   "id": "6f04ba20",
   "metadata": {},
   "outputs": [
    {
     "name": "stdout",
     "output_type": "stream",
     "text": [
      "Cost of insurance: 16778.553889400006\n"
     ]
    }
   ],
   "source": [
    "predi=rfr.predict(new_df)\n",
    "print(\"Cost of insurance:\",predi[0])"
   ]
  },
  {
   "cell_type": "code",
   "execution_count": 219,
   "id": "5f21370c",
   "metadata": {},
   "outputs": [
    {
     "name": "stdout",
     "output_type": "stream",
     "text": [
      "Cost of insurance: 57800.48802009993\n"
     ]
    }
   ],
   "source": [
    "predi=rfr.predict(new_df2)\n",
    "print(\"Cost of insurance:\",predi[0])"
   ]
  },
  {
   "cell_type": "markdown",
   "id": "5714b0bd",
   "metadata": {},
   "source": [
    "# Results and Insights:\n",
    "Based on the evaluation metrics, the best-performing model is Gradient Boosting Regressor with accuracy of 89.79%, and its predictions are analyzed to gain prediction of cost of health insurance. Important features ie. smoker, bmi, age are contributing to higher insurance price are identified through feature importance analysis. "
   ]
  },
  {
   "cell_type": "markdown",
   "id": "279b3d97",
   "metadata": {},
   "source": [
    "# Future Work:"
   ]
  },
  {
   "cell_type": "markdown",
   "id": "0f74bcf9",
   "metadata": {},
   "source": [
    "1. For future work, it might be beneficial to collect and incorporate more variables into the model. Factors such as lifestyle habits, medical history, and income could potentially improve the model's predictive power.\n",
    "2. Further investigation into the identified clusters could also be valuable to provide more targeted predictions or interventions. For example, a separate model could be trained for each cluster or different insurance plans could be offered based on a person's cluster."
   ]
  }
 ],
 "metadata": {
  "kernelspec": {
   "display_name": "Python 3 (ipykernel)",
   "language": "python",
   "name": "python3"
  },
  "language_info": {
   "codemirror_mode": {
    "name": "ipython",
    "version": 3
   },
   "file_extension": ".py",
   "mimetype": "text/x-python",
   "name": "python",
   "nbconvert_exporter": "python",
   "pygments_lexer": "ipython3",
   "version": "3.10.9"
  },
  "papermill": {
   "default_parameters": {},
   "duration": 584.26101,
   "end_time": "2022-07-06T08:36:12.908523",
   "environment_variables": {},
   "exception": null,
   "input_path": "__notebook__.ipynb",
   "output_path": "__notebook__.ipynb",
   "parameters": {},
   "start_time": "2022-07-06T08:26:28.647513",
   "version": "2.3.4"
  }
 },
 "nbformat": 4,
 "nbformat_minor": 5
}
